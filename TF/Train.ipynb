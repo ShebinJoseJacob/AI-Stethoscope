{
  "cells": [
    {
      "cell_type": "markdown",
      "metadata": {
        "id": "K2madPFAGHb3"
      },
      "source": [
        "# Transfer Learning With YAMNet for Heart Sound Classification\n",
        "\n",
        "[YAMNet](https://tfhub.dev/google/yamnet/1) is a pre-trained deep neural network that can predict audio events from [521 classes](https://github.com/tensorflow/models/blob/master/research/audioset/yamnet/yamnet_class_map.csv), such as laughter, barking, or a siren.\n",
        "\n",
        " In this tutorial you will learn how to:\n",
        "\n",
        "- Load and use the YAMNet model for inference.\n",
        "- Build a new model using the YAMNet embeddings to classify heart sounds.\n",
        "- Evaluate and export your model.\n"
      ]
    },
    {
      "cell_type": "markdown",
      "metadata": {
        "id": "5Mdp2TpBh96Y"
      },
      "source": [
        "## Import TensorFlow and other libraries\n"
      ]
    },
    {
      "cell_type": "markdown",
      "metadata": {
        "id": "zCcKYqu_hvKe"
      },
      "source": [
        "Start by installing [TensorFlow I/O](https://www.tensorflow.org/io), which will make it easier for you to load audio files off disk."
      ]
    },
    {
      "cell_type": "code",
      "execution_count": null,
      "metadata": {
        "id": "urBpRWDHTHHU",
        "colab": {
          "base_uri": "https://localhost:8080/"
        },
        "outputId": "c8bdf02b-7e20-45a2-903e-83acaa5bf084"
      },
      "outputs": [
        {
          "output_type": "stream",
          "name": "stdout",
          "text": [
            "\u001b[2K     \u001b[90m━━━━━━━━━━━━━━━━━━━━━━━━━━━━━━━━━━━━━━━━\u001b[0m \u001b[32m588.3/588.3 MB\u001b[0m \u001b[31m1.3 MB/s\u001b[0m eta \u001b[36m0:00:00\u001b[0m\n",
            "\u001b[2K     \u001b[90m━━━━━━━━━━━━━━━━━━━━━━━━━━━━━━━━━━━━━━━━\u001b[0m \u001b[32m1.7/1.7 MB\u001b[0m \u001b[31m27.6 MB/s\u001b[0m eta \u001b[36m0:00:00\u001b[0m\n",
            "\u001b[2K     \u001b[90m━━━━━━━━━━━━━━━━━━━━━━━━━━━━━━━━━━━━━━━━\u001b[0m \u001b[32m1.1/1.1 MB\u001b[0m \u001b[31m40.7 MB/s\u001b[0m eta \u001b[36m0:00:00\u001b[0m\n",
            "\u001b[2K     \u001b[90m━━━━━━━━━━━━━━━━━━━━━━━━━━━━━━━━━━━━━━━━\u001b[0m \u001b[32m6.0/6.0 MB\u001b[0m \u001b[31m36.7 MB/s\u001b[0m eta \u001b[36m0:00:00\u001b[0m\n",
            "\u001b[2K     \u001b[90m━━━━━━━━━━━━━━━━━━━━━━━━━━━━━━━━━━━━━━━━\u001b[0m \u001b[32m439.2/439.2 kB\u001b[0m \u001b[31m30.7 MB/s\u001b[0m eta \u001b[36m0:00:00\u001b[0m\n",
            "\u001b[2K     \u001b[90m━━━━━━━━━━━━━━━━━━━━━━━━━━━━━━━━━━━━━━━━\u001b[0m \u001b[32m4.9/4.9 MB\u001b[0m \u001b[31m25.1 MB/s\u001b[0m eta \u001b[36m0:00:00\u001b[0m\n",
            "\u001b[2K     \u001b[90m━━━━━━━━━━━━━━━━━━━━━━━━━━━━━━━━━━━━━━━━\u001b[0m \u001b[32m781.3/781.3 kB\u001b[0m \u001b[31m23.1 MB/s\u001b[0m eta \u001b[36m0:00:00\u001b[0m\n",
            "\u001b[?25h\u001b[31mERROR: pip's dependency resolver does not currently take into account all the packages that are installed. This behaviour is the source of the following dependency conflicts.\n",
            "pandas-gbq 0.19.2 requires google-auth-oauthlib>=0.7.0, but you have google-auth-oauthlib 0.4.6 which is incompatible.\n",
            "tensorflow-datasets 4.9.4 requires protobuf>=3.20, but you have protobuf 3.19.6 which is incompatible.\n",
            "tensorflow-metadata 1.14.0 requires protobuf<4.21,>=3.20.3, but you have protobuf 3.19.6 which is incompatible.\n",
            "tf-keras 2.15.1 requires tensorflow<2.16,>=2.15, but you have tensorflow 2.11.1 which is incompatible.\u001b[0m\u001b[31m\n",
            "\u001b[2K     \u001b[90m━━━━━━━━━━━━━━━━━━━━━━━━━━━━━━━━━━━━━━━━\u001b[0m \u001b[32m26.9/26.9 MB\u001b[0m \u001b[31m33.7 MB/s\u001b[0m eta \u001b[36m0:00:00\u001b[0m\n",
            "\u001b[2K     \u001b[90m━━━━━━━━━━━━━━━━━━━━━━━━━━━━━━━━━━━━━━━━\u001b[0m \u001b[32m2.4/2.4 MB\u001b[0m \u001b[31m76.1 MB/s\u001b[0m eta \u001b[36m0:00:00\u001b[0m\n",
            "\u001b[?25h\u001b[31mERROR: pip's dependency resolver does not currently take into account all the packages that are installed. This behaviour is the source of the following dependency conflicts.\n",
            "tf-keras 2.15.1 requires tensorflow<2.16,>=2.15, but you have tensorflow 2.11.1 which is incompatible.\u001b[0m\u001b[31m\n",
            "\u001b[0m"
          ]
        }
      ],
      "source": [
        "!pip install -q \"tensorflow==2.11.*\"\n",
        "# tensorflow_io 0.28 is compatible with TensorFlow 2.11\n",
        "!pip install -q \"tensorflow_io==0.28.*\""
      ]
    },
    {
      "cell_type": "code",
      "execution_count": null,
      "metadata": {
        "id": "7l3nqdWVF-kC"
      },
      "outputs": [],
      "source": [
        "import os\n",
        "\n",
        "from IPython import display\n",
        "import matplotlib.pyplot as plt\n",
        "import numpy as np\n",
        "import pandas as pd\n",
        "\n",
        "import tensorflow as tf\n",
        "import tensorflow_hub as hub\n",
        "import tensorflow_io as tfio"
      ]
    },
    {
      "cell_type": "markdown",
      "metadata": {
        "id": "v9ZhybCnt_bM"
      },
      "source": [
        "## About YAMNet\n",
        "\n",
        "[YAMNet](https://github.com/tensorflow/models/tree/master/research/audioset/yamnet) is a pre-trained neural network that employs the [MobileNetV1](https://arxiv.org/abs/1704.04861) depthwise-separable convolution architecture. It can use an audio waveform as input and make independent predictions for each of the 521 audio events from the [AudioSet](http://g.co/audioset) corpus.\n",
        "\n",
        "Internally, the model extracts \"frames\" from the audio signal and processes batches of these frames. This version of the model uses frames that are 0.96 second long and extracts one frame every 0.48 seconds .\n",
        "\n",
        "The model accepts a 1-D float32 Tensor or NumPy array containing a waveform of arbitrary length, represented as single-channel (mono) 16 kHz samples in the range `[-1.0, +1.0]`. This tutorial contains code to help you convert WAV files into the supported format.\n",
        "\n",
        "The model returns 3 outputs, including the class scores, embeddings (which you will use for transfer learning), and the log mel [spectrogram](https://www.tensorflow.org/tutorials/audio/simple_audio#spectrogram). You can find more details [here](https://tfhub.dev/google/yamnet/1).\n",
        "\n",
        "One specific use of YAMNet is as a high-level feature extractor - the 1,024-dimensional embedding output. You will use the base (YAMNet) model's input features and feed them into your shallower model consisting of one hidden `tf.keras.layers.Dense` layer. Then, you will train the network on a small amount of data for audio classification _without_ requiring a lot of labeled data and training end-to-end. (This is similar to [transfer learning for image classification with TensorFlow Hub](https://www.tensorflow.org/tutorials/images/transfer_learning_with_hub) for more information.)\n",
        "\n",
        "First, you will test the model and see the results of classifying audio. You will then construct the data pre-processing pipeline.\n",
        "\n",
        "### Loading YAMNet from TensorFlow Hub\n",
        "\n",
        "You are going to use a pre-trained YAMNet from [Tensorflow Hub](https://tfhub.dev/) to extract the embeddings from the sound files.\n",
        "\n",
        "Loading a model from TensorFlow Hub is straightforward: choose the model, copy its URL, and use the `load` function.\n",
        "\n",
        "Note: to read the documentation of the model, use the model URL in your browser."
      ]
    },
    {
      "cell_type": "code",
      "execution_count": null,
      "metadata": {
        "id": "06CWkBV5v3gr"
      },
      "outputs": [],
      "source": [
        "yamnet_model_handle = 'https://tfhub.dev/google/yamnet/1'\n",
        "yamnet_model = hub.load(yamnet_model_handle)"
      ]
    },
    {
      "cell_type": "code",
      "execution_count": null,
      "metadata": {
        "id": "o-p1mli4F6WD",
        "colab": {
          "base_uri": "https://localhost:8080/"
        },
        "outputId": "08fea64d-ebdb-484c-93a4-e2e10147e6be"
      },
      "outputs": [
        {
          "output_type": "stream",
          "name": "stdout",
          "text": [
            "Downloading data from https://github.com/ShebinJoseJacob/test/raw/main/Data.zip\n",
            "27515302/27515302 [==============================] - 0s 0us/step\n"
          ]
        }
      ],
      "source": [
        "_ = tf.keras.utils.get_file('esc-50.zip',\n",
        "                        'https://github.com/ShebinJoseJacob/test/raw/main/Data.zip',\n",
        "                        cache_dir='./',\n",
        "                        cache_subdir='datasets',\n",
        "                        extract=True)"
      ]
    },
    {
      "cell_type": "markdown",
      "metadata": {
        "id": "GmrPJ0GHw9rr"
      },
      "source": [
        "With the model loaded, you can follow the [YAMNet basic usage tutorial](https://www.tensorflow.org/hub/tutorials/yamnet) and download a sample WAV file to run the inference.\n"
      ]
    },
    {
      "cell_type": "code",
      "execution_count": null,
      "metadata": {
        "colab": {
          "base_uri": "https://localhost:8080/"
        },
        "id": "C5i6xktEq00P",
        "outputId": "42777a61-58da-4fa2-b724-4e5ce53bed32"
      },
      "outputs": [
        {
          "output_type": "stream",
          "name": "stdout",
          "text": [
            "Downloading data from https://storage.googleapis.com/audioset/miaow_16k.wav\n",
            "215546/215546 [==============================] - 0s 0us/step\n",
            "./test_data/miaow_16k.wav\n"
          ]
        }
      ],
      "source": [
        "testing_wav_file_name = tf.keras.utils.get_file('miaow_16k.wav',\n",
        "                                                'https://storage.googleapis.com/audioset/miaow_16k.wav',\n",
        "                                                cache_dir='./',\n",
        "                                                cache_subdir='test_data')\n",
        "\n",
        "print(testing_wav_file_name)"
      ]
    },
    {
      "cell_type": "markdown",
      "metadata": {
        "id": "mBm9y9iV2U_-"
      },
      "source": [
        "You will need a function to load audio files, which will also be used later when working with the training data. (Learn more about reading audio files and their labels in [Simple audio recognition](https://www.tensorflow.org/tutorials/audio/simple_audio#reading_audio_files_and_their_labels).\n",
        "\n",
        "Note: The returned `wav_data` from `load_wav_16k_mono` is already normalized to values in the `[-1.0, 1.0]` range (for more information, go to [YAMNet's documentation on TF Hub](https://tfhub.dev/google/yamnet/1))."
      ]
    },
    {
      "cell_type": "code",
      "execution_count": null,
      "metadata": {
        "id": "Xwc9Wrdg2EtY"
      },
      "outputs": [],
      "source": [
        "# Utility functions for loading audio files and making sure the sample rate is correct.\n",
        "\n",
        "@tf.function\n",
        "def load_wav_16k_mono(filename):\n",
        "    \"\"\" Load a WAV file, convert it to a float tensor, resample to 16 kHz single-channel audio. \"\"\"\n",
        "    file_contents = tf.io.read_file(filename)\n",
        "    wav, sample_rate = tf.audio.decode_wav(\n",
        "          file_contents,\n",
        "          desired_channels=1)\n",
        "    wav = tf.squeeze(wav, axis=-1)\n",
        "    sample_rate = tf.cast(sample_rate, dtype=tf.int64)\n",
        "    wav = tfio.audio.resample(wav, rate_in=sample_rate, rate_out=16000)\n",
        "    return wav"
      ]
    },
    {
      "cell_type": "code",
      "execution_count": null,
      "metadata": {
        "colab": {
          "base_uri": "https://localhost:8080/",
          "height": 578
        },
        "id": "FRqpjkwB0Jjw",
        "outputId": "9fa63db7-25e5-425c-b0b5-db2d79b99ca1"
      },
      "outputs": [
        {
          "output_type": "stream",
          "name": "stderr",
          "text": [
            "WARNING:tensorflow:From /usr/local/lib/python3.10/dist-packages/tensorflow/python/autograph/pyct/static_analysis/liveness.py:83: Analyzer.lamba_check (from tensorflow.python.autograph.pyct.static_analysis.liveness) is deprecated and will be removed after 2023-09-23.\n",
            "Instructions for updating:\n",
            "Lambda fuctions will be no more assumed to be used in the statement where they are used, or at least in the same block. https://github.com/tensorflow/tensorflow/issues/56089\n",
            "WARNING:tensorflow:Using a while_loop for converting IO>AudioResample cause there is no registered converter for this op.\n"
          ]
        },
        {
          "output_type": "execute_result",
          "data": {
            "text/plain": [
              "<IPython.lib.display.Audio object>"
            ],
            "text/html": [
              "\n",
              "                <audio  controls=\"controls\" >\n",
              "                    <source src=\"data:audio/wav;base64,UklGRjgAAQBXQVZFZm10IBAAAAABAAEAgD4AAAB9AAACABAAZGF0YRQAAQAAAAAAAAAAAAAAAAAAAAAAAAAAAAAAAAAAAAAAAAAAAAAAAAAAAAAAAAAAAAAAAAAAAAAAAAAAAAAAAAAAAAAAAAAAAAAAAAAAAAAAAAAAAAAAAAAAAAAAAAAAAAAAAAAAAAAAAAAAAAAAAAAAAAAAAAAAAAAAAAAAAAAAAAADAAYABgADAAEAAQABAAAA///+//7//f/7//r/+//9////////////AAAAAAAAAQACAAIAAQAAAAAAAAABAAMACAAMAA8AEAARABIAFQAWABgAGgAeACQAKQAtAC8AMgA3ADwAQQBFAEgASgBOAFIAVQBXAFgAWQBbAF0AXgBeAF4AXgBeAF0AWwBbAFoAWABRAEkAQgA9ADoANQAvACgAIgAdABgAEQAHAP3/8//r/+X/3//U/8b/t/+o/5z/kf+H/37/eP9y/2j/W/9O/0T/Pv84/y7/Iv8Z/xT/Ef8O/wn/Bf8C/wD/AP8A/wD/Af8D/wb/C/8P/xP/GP8e/yf/M/9C/1L/Y/9y/4D/jf+d/63/vP/L/9z/8f8HAB4AMgBDAFQAZwB+AJYArQDAANEA4gDzAAQBEgEdASgBNwFGAVIBWgFfAWUBbQF2AXsBfQF+AX0BfQF8AXkBcwFsAWcBZQFlAWIBWwFSAUkBQQE5AS8BJgEdARIBAgHvANwAzAC/AK4AmAB/AGgAVAA/ACMA/v/V/6z/iP9p/0v/J//7/sz+pf6G/l3+G/7I/YH9V/05/Qj9t/xa/A781/up+3X7PPsF+9f6tPqV+nX6VPo6+iv6JPof+hv6H/ot+j36Tfpi+n/6nvq5+tn6D/td+7P7AvxR/LL8Jv2c/QP+Xf65/iP/lf8AAFwAtQAbAZYBFwKLAuoCPQOKA9kDMQSWBP8EWgWiBeAFHAZTBoAGpAbGBuIG8gb7Bg0HLgdRB2MHYQdSB0AHMgcxBz4HTgdSB0UHMQcfBw4H+AbbBr0GoAaCBmEGPgYWBuoFvAWOBV8FKwX2BMEEjgRYBB8E6AOyA3oDQAMKA9sCoAJLAuQBjAFPARgBxwBbAOv/h/8w/+D+kf49/tn9af37/Jn8NfzD+0b70/p0+iH60fl/+SX5vvhO+Oz3p/dx9yz3z/Zx9iv2+/XR9aT1efVa9Ub1OvU09TX1PfVJ9Vr1dfWY9cP19/U09nT2tvb89kz3ovfy9zP4bPiv+AH5V/mn+fH5PfqM+tv6Jvtt+7T7/PtE/Iv80PwT/VT9kv3Q/Qv+Qv52/qn+2/4L/zX/XP+A/6T/xf/g//n/EAAkADQAQgBQAFsAXwBeAGAAZABiAFcATABNAFoAaQBxAHoAiwCiALsA1QD0ACMBYgGuAfwBRAKMAt4CPAOeA/0DYATRBE4FzwVOBtAGVQfaB1kI1QhRCc8JRwq0ChcLdQvYC0EMpwwADUgNhg29DfENIA5KDm8Oiw6dDqUOoA6LDmkOQw4eDvENsg1pDSYN7Qy0DGwMFQy5C10LAQupClsKFArHCW4JEQm9CHMIKQjbB4sHPwf2Bq0GZgYnBu4FtQV4BTsFBgXbBLUEjQRjBDwEGgT7A9wDvQOiA4sDcQNJAxID2AKlAnoCSgISAtkBowFsATAB+ADFAIgAMgDO/3n/Pf///qH+Kv64/Vb98fx8/AL8jPsU+4z6+/lu+eD4Rvif9/32bPbh9VP1xvQ49J3z8PJE8q/xK/Gd8PjvUO+87j3uw+1H7dHsZOz565DrMevk6qTqbepA6iHqDOr/6fzpCuom6kjqdOqx6v7qSeuI68brGOyD7AHtiu0g7rzuTu/N70nw2vCD8TXy5/Ke82D0JvXl9aH2aPc9+BP53Pmb+l77KPzu/Kj9XP4Q/8H/ZwABAZYBKAKyAi0DoQMYBJMEBwVtBc4FMAaUBvIGRwedB/8HbAjWCDIJggnVCTUKnQoAC1kLsQsRDHoM5gxQDbgNIw6PDvsOYg/GDyoQkRD3EFURqxEDEmASvRIPE1oTpBPuEzEUbhStFO4UJxVSFXoVrhXoFRQWJBYhFhsWFRYHFu8VzhWmFXYVQBUIFc4UjBQ/FOsTkxM5E9gScBIDEpURIxGkEBQQeA/dDkUOqg0GDVsMrQv9CkwKmgnpCDEIbgelBuQFMAV7BLQD4wIYAloBmgDQ/wH/Ov58/cD8APxA+4H6xPkK+Vb4qPf79lD2rvUU9XX0zPMj84zyBvJ/8erwUfDC70LvxO4/7rntPu3R7GTs6+tr6/fqoepf6hzqy+l46TbpCeni6Lfojehr6E3oLOgK6PHn4+fW58LnqueZ55HnkueU55fnmeea56DnrOe858vn2+fx5w/oMehR6HTonOjH6PPoIulb6Znp0+kG6jnqdOq66gvrZuvI6yjsf+zU7DXtpO0Y7ofu9u5v7/Pvd/D18HPx+vGL8h/zrfM29ML0W/X99Z32NffL92n4EPm3+Vj69fqX+z/85fyG/Sf+yv5r/wQAmQAvAccBWwLoAnAD+QOBBAEFegXyBW8G7AZgB8QHIAh+COEIQQmUCd4JJgpvCrYK9gowC2gLoQvWCwQMLAxQDHQMmAy4DNEM5gz5DA0NHQ0oDTANOA0/DUQNRQ1GDUcNRw1DDUANPw08DTYNLA0hDRYNDA0EDfsM7QzbDMgMtwynDJIMegxjDEsMLwwNDOcLwwufC3oLUwsuCwkL4Qq0CocKWgouCv8JzgmcCWsJNwn/CMMIhAhGCAgIxweEBz4H9gauBmQGGwbRBYUFNgXlBJUESAT6A6kDVQMAA6sCVQL9AaUBTgH4AKIATAD3/6D/Sf/0/qL+Uf4A/q/9Yf0W/cv8fvwy/Or7p/to+yn76fqq+nD6O/oI+tX5o/l6+Vv5Qfkl+Qf57/jg+Nn41PjP+M340vjc+Or4+vgO+Sf5RPlm+Yr5sPnb+Qr6Pfpw+qP63PoX+1T7kPvN+w78UPyQ/ND8FP1Z/Zb9yP31/SX+V/6G/q7+0f7t/v3+A/8I/xD/Fv8P//b+zf6d/mf+L/70/bL9Yf3//JT8KPy/+1H73Ppj+uv5dPn6+H/4CPiY9y73x/Zi9gL2qvVa9RL10vSZ9Gn0QfQj9A70AvT98wH0EPQq9E/0fPSx9PH0PPWQ9ez1Ufa+9jP3rfcs+LT4SPnk+YP6IfvC+2n8Fv3D/XD+Hv/M/3cAIAHGAWoCDAOqA0IE0wRfBecFagbkBlAHsAcHCFoIqAjqCB0JRAllCX0JjAmPCYoJfAlnCUkJIwn1CL8IhAhGCAUIvQdvByIH2AaNBj8G8AWpBWcFJgXkBKkEdwRIBBcE6QPEA6YDhwNhAzwDHQMGA+4C0AKvAowCbQJSAjkCIAIEAuoB1wHKAb0BrwGiAZoBlwGWAZMBkgGVAZkBngGjAakBsAG4Ab8BxQHLAdIB2AHeAeIB5QHnAekB6gHpAekB6AHiAdUBwgGvAaIBlAF8AVgBLgEIAeMAuwCLAFkAKQD6/8P/g/9A/wD/xv6M/kz+CP7H/Yv9Uv0Y/d38p/x5/E38Hvzr+7z7mft9+2T7Sfsy+yH7FvsO+wn7C/sT+yP7NvtI+1j7bfuK+6370fv3+yL8U/yH/Ln87fwl/WH9n/3d/Rz+W/6Z/tj+GP9b/5r/1v8TAFcAmwDWAAsBPwF4AbAB5AEXAksCfAKlAskC8QIdA0cDaAOHA6oDzgPuAwcEHQQzBEgEXARvBIIEkwSdBKQEqwSyBLYEtwS0BK8EpwSdBJEEggRuBFYEOgQcBPwD2QOwA4UDWAMrA/sCyQKUAl8CLAL4AcABgAE9AfwAwQCGAEcAAAC4/3P/M//z/rP+cv42/vz9wf2C/UP9Cv3X/Kj8ePxJ/B/8+vvZ+7f7lvt9+2z7X/tO+zr7Kfsf+xv7G/sd+yH7KPsx+zz7S/tg+3n7lfux+8z75/sF/Cj8Tfx0/Jz8xfzw/B79TP17/an92f0L/kD+dP6m/tX+BP81/2b/lf/A/+f/CwAxAFgAgACmAMcA5QAAARwBOAFSAWoBfwGTAaYBtwHHAdMB3QHlAewB8wH4AfwB+wH4AfMB7gHnAd4B1AHIAbsBqwGXAYEBagFSATkBHQEAAeIAwgChAIMAZwBLAC0ADgDy/9j/v/+l/4v/cf9X/0D/K/8X/wT/7/7b/sr+vP6v/qP+nP6a/pv+mf6V/pL+lf6b/p/+oP6j/qn+sf65/sL+zf7Z/uT+7/77/gr/Gf8o/zb/Rv9V/2P/dP+J/5//s//E/9X/6P/8/wwAHQAuAD8ATgBbAGsAfgCRAKAArgC9AM8A3wDtAPoABgESARwBJAEsATUBOwFAAUMBRgFHAUUBPwE5ATQBLgElARkBDgEGAQAB9wDoANkAzwDKAMMAuQCtAKIAmQCOAIcAhACEAIIAewB2AHcAeQB4AHYAdgB3AHcAdgB8AIsAngCtALgAwgDPAN8A9AASATUBUwFsAYQBowHFAeYBBAIhAkACXgJ7ApcCsgLMAuMC+QIMAxsDKgM8A1QDbQOBA44DmAOlA7MDvgPFA8sD0gPXA9gD1QPRA88DywO9A6QDhQNpA1EDNgMUA+4CxwKfAnICRAIZAu4BuwF+ATkB8gClAFEA/P+n/1b/A/+t/lP++f2h/Uz9+vyk/Eb84/uK+0D7+fqo+k76+fmv+Wj5HPnN+Ib4SfgT+N33qfd791b3OPcd9wL35/bP9r/2uva99sL2yvbX9uz2Bvcj90X3b/ed9873A/g/+H/4wfgF+U35mfnm+TT6hfrb+jH7gvvV+zD8lfz8/F/9u/0W/nL+0v4y/4z/3/8xAIkA6ABDAZYB5wE+ApYC5AImA2gDrgP0AzIEaAScBM4E+QQeBT0FWAVuBX8FjAWSBY8FigWOBZkFnwWWBYcFfgV5BXAFXQVIBTQFIAUOBQAF9wTrBNYEvQStBKkEpQSaBIkEewRxBGgEWwRPBEYEPQQyBCUEGQQOBAEE8gPjA9UDxgO1A6YDmgOPA4IDcwNlA1UDQQMpAxUDBwP5AuACvQKdAoUCcAJZAkACJwIIAt4BrgGDAWIBQgEZAe4AxgChAHkATgAoAAYA3/+t/3P/OP/7/rj+c/4x/vT9tv1z/Sr94PyZ/Ff8GfzT+3/7KPvd+qP6aPod+sX5dfky+e74oPhQ+Az41veh92b3K/f59tD2rPaJ9mT2O/YU9vj16PXd9dL1yfXG9cf1x/XH9c/14vX39Qj2HPY59l32gvan9tD2Afcz92X3nffa9xb4SPh3+K347Pgv+XX5vvkF+kX6h/rW+jT7j/ve+yv8i/z5/GP9v/0Y/nr+5P5L/6//FQB8AN8APQGaAfYBTgKjAvYCQwOIA80DIASCBOEEMQV4BcgFIwZ7BsUGAwc/B38HxQcSCGAIpQjcCA4JSQmQCdUJDAo6CmYKlArDCu4KEwsxC0oLYAtyC30Lfwt+C38LfgtzC10LRAssCw0L5Qq8CpsKfApPChIKzgmJCTwJ3wh6CBoIwAdgB/cGiQYaBqIFIAWeBCQErQMuA6YCIAKfASABnwAgAKj/L/+u/in+qP0o/ab8IPyg+yn7tvpB+sn5VPnn+IP4JfjI92f3B/ey9mz2Lfbo9Z71WvUj9fD0vPSM9Gj0TvQ39B/0DvQE9AH0AfQG9BD0GvQl9Db0UfRy9JL0svTV9Pn0HPU+9Wb1k/W89d31//Uw9mz2qfbi9hz3W/ea99X3D/hL+Ir4x/gB+T35ePmw+eX5Hfpc+pz61voJ+z/7ffvA+wH8PPx0/K386/ws/XH9tf31/TP+cf6x/u/+LP9o/6H/1/8IAD8AfgDDAAcBRwGHAcsBFQJeAqIC4AIcA1oDngPnAzAEcgSwBO4EMgV5BbwF9wUuBmcGpAbjBh0HVAeJB7wH7QcbCEcIcgiZCLoI1wjzCAwJHwktCTcJQglOCVkJYglrCXIJdwl4CXYJdAlwCWoJYQlVCUgJNwkkCQ8J9gjbCL0InQh7CFYILwgFCNkHrAd8B0sHGQflBrEGewZEBg0G1gWfBWgFMAX4BMIEjARXBCIE7wO9A4wDXAMuAwQD2QKrAngCRAISAuIBsQF+AUgBEQHdAKwAewBJABUA4P+p/3L/P/8S/+T+q/5j/hn+2v2d/VX9//yv/HH8N/zt+5H7Ovv1+rn6d/ov+uz5svl9+Un5Gfnx+M74rfiR+H34cPho+GX4aPhr+Gj4ZPhp+Hn4jvih+LP4yfjl+AP5I/lF+W35l/nB+ev5GfpL+n76svrk+hf7TfuD+7r78fsm/Fz8kPzE/Pb8KP1a/Yr9t/3h/Qr+M/5b/n7+nP6+/uv+Hf9H/2b/g/+o/9X/AAAjAEUAbQCYAMEA4wADASYBSQFpAYUBoQG8AdYB7AH/ARICIwIxAj0CRwJOAlMCWAJaAlgCVAJQAk0CRAIyAhsCBgL1AeQBywGpAYQBYAE/AR4B+gDTAKsAgwBcADYADwDs/8j/pP9+/1n/O/8l/xH/+/7n/tv+1/7W/tb+1v7Z/uL+7/79/g3/IP84/1X/dv+Z/7z/3/8DACsAVQCAAK4A3AAMAToBZgGTAcAB7QEVAjYCVwJ/Aq8C3wIJAywDUAN1A5oDuQPRA+QD+QMTBDMEUgRoBHUEggSVBK0EwgTMBNAE1wTmBPcEBAUMBRQFHQUkBSgFLQU3BUEFRgVGBUYFSgVQBVMFUgVVBV0FaAVzBX0FiAWSBZkFnwWlBa0FtAW4BbkFuQW5BbcFsQWrBaUFoAWbBZIFhQV2BWcFVwVFBTIFIAUNBfgE3wTGBK8ElARxBEUEFwTtA8MDlANgAykD8gK3AnYCMQLsAakBZAEYAckAfQA8AP3/sf9V//n+q/5h/gr+qP1Q/Q790Px+/Br8vft3+0D7BvvD+n76O/r++cn5lvlZ+Q/5xPiI+Fn4Kfj398n3oPdy9zj3//bV9rb2kvZj9jn2HPYI9vH12fXI9cH1vfW59bn1wfXM9dT11vXZ9eT1+fUU9jH2TvZs9o/2tvbf9gn3Nvdm95v30PcF+Dz4dfix+O/4Lvls+ar57fk6+pD64fon+237wPsj/Ij85Pw6/ZT97/1J/qf+Ff+L//b/TACgAAUBdwHeATcClQIIA4MD7wNJBKEEAQVgBbgFEwZ9BusGSwebB+4HUAi4CBQJYQmoCfQJPgqACrYK5goVC0ALYAtwC3MLeQuLC6YLuQu6C64LnwuQC3wLYgtECyQLAAvVCqQKcAo6Cv4JvAl5CTQJ7AifCFAIAAiuB1oHCAe6BmsGEgauBUgF6ASOBDUE2AN3AxcDugJjAg4CtAFRAesAjQA4AOj/lf9B/+/+pP5f/h/+4/2r/Xj9Sv0h/fz82/zA/Kr8l/yN/I78lfya/J/8rfzI/OH88PwG/Tb9ef20/dz9B/5M/qD+5v4Z/1H/nP/s/y4AZwCmAO0ALgFiAZMBygEAAiwCTwJyApcCtwLOAt8C8AIAAwoDCwMKAwoDBQP1AtoCvAKeAnwCUQIfAuoBswF0ASgB1QCCADAA2v95/xP/r/5Q/vD9iv0e/bL8SPzY+2D75vp4+hb6tPlF+c/4X/j996b3VPcB9632W/YP9sz1jvVG9fL0m/RR9Br07fPA847zXvMz8xLz+/Lu8ufy5PLm8u/yAvMe8z3zXvOC863z5/Mu9H70z/Qe9XP11vVJ9sX2Qfe89zz4xPhV+e35jvoz+9b7c/wS/bn9Zv4M/6v/TAD6AKwBUwLtAoQDHASwBDsFxwVaBu0GcAfhB0wIuwgpCYoJ3QkoCm4KqwrbCgALHgs4C0wLWQtZC00LOQslCxML/ArdCrUKiQpZCiIK5wmuCXUJNgnrCJsIUAgLCMYHfAcuB+MGmwZTBgwGyAWGBUIF/QS6BHsEPQT/A8UDkwNlAzMDAAPUArICjQJfAjQCHgIWAgUC5QHLAcYBywHCAagBkwGQAZMBjAF+AXkBgQGJAYgBgwGDAYgBiwGJAYUBgQF/AXoBdQFvAWoBZAFbAVIBSgFBATQBIQEKAfYA5ADNALEAlgCBAG0ATwAlAPn/1P+z/43/W/8k//D+v/6N/lf+If7t/br9g/1I/Q792Pyk/HD8O/wG/Nb7q/uC+1r7MfsK++T6vfqS+mj6Rvov+hr6//ng+cX5s/mn+Z75lvmN+YP5e/l3+Xr5fPl3+W35aflw+YL5lvmo+bb5wfnL+dj56/kC+hn6L/pF+l76efqS+qv6w/ra+vT6F/s/+2P7f/uZ+7r74PsF/CX8Rfxq/JH8uPzf/Ar9N/1i/Yv9sv3a/QP+MP5k/pv+yv7y/hn/RP9x/5v/yP///zkAbACVALkA4gAPAToBXwGCAaQBxQHkAQACGgIzAk4CawKFApcCpQK5AtQC7wIEAxQDJQM1A0ADSQNUA2QDdQOCA4kDjgOVA58DqQOyA7YDuQPAA84D3QPoA+0D8gP4A/4DAwQLBBMEGgQgBCoENwRABD8EPwRHBFAESwQ4BCcEJwQqBB8EBAToA9YDxgOvA5EDdQNdA0UDJwMFA+ECwAKeAnkCTAIdAvEBygGiAXcBTAEiAfkAzwClAHsAUgAlAPn/zv+n/3//Vf8v/xL/+P7X/q3+hv5p/lT+PP4b/vf92P3A/aj9j/14/WX9Uv09/Sb9Ef0B/fP85PzV/Mf8u/yu/KL8mPyP/Ib8e/xu/GD8UvxG/EH8QvxD/D38L/wi/B38Hfwd/Bb8C/wB/P37/vsB/AX8BvwE/AH8/vv++wH8BfwJ/A78E/wY/CD8LPw6/Ef8Uvxh/HX8iPyY/Kb8ufzP/OT89/wK/SH9Ov1S/Wn9gf2c/bf90v3s/QX+Hv48/l3+ff6V/qf+uv7T/u3+Av8T/yj/Qf9X/2j/dv+E/5X/pP+x/7z/x//T/97/5//t//P/+/8CAAgACwAPABkAJQArACkAKAAtADYAPwBHAFMAYgBvAHcAfQCFAJAAmwCkAKwAtAC9AMcA0ADYAN4A5gDwAPoAAAEEAQoBFwElAS0BMAEyATUBOgE8AT4BQwFKAVABUwFTAVQBWgFgAWUBZgFoAW0BdgGAAYcBjAGRAZgBnwGnAa8BuAHAAcoB1gHjAe4B9gECAhUCLQI/AkwCWwJwAoYClgKfAqoCugLMAtsC5wL0AgIDEgMiAzADOwNJA14DdwOJA5IDmwOvA8YD0QPMA8gD0gPgA+ID1QPHA8IDvwO1A6QDkgODA3MDXgNFAy4DGQMEA+gCxQKgAn0CXQI9AhoC9AHQAawBiAFiATwBFQHsAMIAmABwAEkAIQD6/9X/sv+K/1z/Lv8G/+X+wf6W/mj+P/4Z/vH9xP2a/Xb9Vf0u/QH91vyw/Iv8ZPw+/Br8+PvW+7T7lft4+1z7Qfsm+w379frf+s36vfqw+qj6o/qe+pT6ivqH+oz6lPqY+pr6ovqx+sH60Pre+vD6Bfsd+zT7TPtn+4P7ovvB+9/7/vsg/Eb8a/yN/LD82vwI/TH9U/12/aD9z/3//S3+Xf6Q/sH+7/4Z/0P/cP+d/8r/9v8gAEoAdQCfAMgA7gATATgBXQF+AZwBugHbAf4BHgI9AlsCegKXArACxwLeAvYCDgMiAzQDRwNdA3ADfQODA48DpAO+A9ID3QPqA/0DEAQaBBwEIAQrBDUEOQQ1BDMENQQ7BD8EPgQ6BDkEQwRQBFQETARFBE0EWQRXBEMEMgQ1BD8EOwQkBA0EBAQABPID2QPEA7cDrQOcA4UDcQNlA1oDRwMqAwoD7wLcAsgCrwKUAnsCZQJOAjMCFwL+AecBzgGxAZEBcwFWATkBGQH3ANgAvACgAIEAYwBFACUA/v/S/63/kf9z/0z/Hv/0/s7+o/5z/kb+Iv4B/tb9oP1q/Tv9Ev3o/Lz8kPxm/Dr8D/zl+777lvtu+0b7Hvv3+tL6rvqM+m36U/o9+ib6Cfru+dv50fnI+bf5pfmd+Z75oPme+Zz5oPmr+bf5wvnN+d358vkK+iT6Pvpb+nv6m/q6+tj6+Poc+0P7a/uT+7r74fsJ/DX8ZPyS/L386PwX/Uj9df2d/cX98/0m/lb+hP6y/uL+D/83/1//iv+3/+H/CQAxAFkAfwCkAMoA7wARATABUAFwAY4BpgG5Ac8B6QECAhQCIwIzAkYCVQJeAmYCcAJ7AoIChQKJApAClQKSAooChgKMApUCmAKUApACkQKUApQCkAKLAokCiwKTApwCowKnAqwCtQK/AsUCyALOAtoC5gLrAusC7AL0AgIDDwMVAxYDHAMtA0MDTwNQA1EDYQN4A4IDewN2A4QDngOsA6cDngOjA7ADtgOwA6kDrAO0A7YDrQOkA6EDowOeA44DeQNpA2EDWANIAzMDHwMPA/4C5wLOArgCowKKAmwCSgIpAgoC6wHIAaIBfAFZATkBFwHyAMoAoQB2AEcAGADx/9H/sP+E/0//Gv/s/sH+lf5p/kD+F/7u/cT9nP12/VD9KP0A/dn8tPyR/G38Sfwp/A/8+fvh+8L7pPuM+3v7aPtQ+zn7K/sk+xz7Dfv++vX68vrx+u766/rt+vP6/PoH+xT7I/s1+0j7Wftp+3z7lPuy+9D77fsJ/Cb8Rfxp/JH8uvzh/Aj9Mv1e/Yn9sP3Y/QT+Mv5f/or+tv7l/hX/QP9n/47/tv/b//n/EgAwAFEAcQCKAJ4AswDJAN0A6wD3AAUBEwEcASIBKAExATcBNgEwAS0BMgE4ATsBOQE2ATQBNQE1ATMBMAEtAS4BNAE/AUgBTgFSAVsBZgFxAXkBggGPAZ8BrQG2Ab4BygHcAfAB/wEIAhQCKgJFAlkCYwJuAoQCngKtArACtgLJAuIC9QL+AgMDDAMWAx0DIgMkAyMDHgMbAxoDGgMUAwoDAAP2AukC2QLKArwCrQKbAoYCcgJfAkoCMwIYAv4B5wHRAbsBowGKAXEBWQFBASkBEQH7AOYA0QC9AKkAlQCBAGwAWABFADQAJQAXAAoA///y/+X/1v/G/7j/rf+n/6H/l/+I/3f/av9f/1b/TP9D/zr/MP8o/yD/F/8M///+8v7o/t7+1P7J/r7+tP6q/qH+mf6S/ov+g/58/nf+cv5t/mf+Yv5f/l3+Wv5Y/lf+Vf5U/lT+Vf5Y/ln+Wf5Y/ln+XP5f/mL+Zv5r/m/+dP55/n/+hf6L/pD+mP6i/qv+sv62/r3+xv7P/tb+2/7f/uX+7f71/vz+BP8K/w7/Ef8U/xj/HP8h/yX/KP8q/yz/L/8x/zT/Nv84/zr/PP8//0L/RP9F/0f/Sv9M/0z/S/9O/1P/Vf9U/1P/V/9b/13/Xf9g/2f/bv9z/3n/gv+N/5b/nv+n/7H/u//C/8v/1v/i/+3/9v///wcAEQAcACsAPgBQAF4AbAB6AIsAmwCqALkAyQDaAOoA+gAJARgBJwE0AUEBTQFYAWMBbgF5AYMBjAGTAZgBnAGhAaUBpwGnAaYBpwGqAawBqwGpAaMBngGZAZYBkgGLAYABcwFnAVsBTgFBATMBJQEWAQoBAgH8APUA6ADaANIA0QDTANYA1wDXANgA2gDcAN4A4QDmAO4A9AD2APQA7wDsAOsA6gDmAOEA2wDUAM0AxwC+ALAAngCLAHkAaABTAD0AJQANAPf/3v/F/6v/k/96/13/PP8X//L+0P6v/o3+av5G/iL+/f3Y/bb9lv10/U39I/34/NH8rfyK/Gf8Q/wh/AD84fvC+6H7fvtc+z77JPsN+/f64PrK+rX6ovqT+oj6gPp3+nD6a/pp+mr6b/p2+n/6ivqW+qb6u/rR+uf6//oa+zr7Wft4+5n7vfvk+wr8MPxb/I38vvzs/Bv9UP2J/cH9+P0y/nD+rv7p/ib/aP+t/+3/JwBiAKAA3gAaAVcBlAHQAQgCPwJ8ArwC+QIxA2YDmgPNA/0DLARcBI8EwATvBBoFQgVnBYsFswXbBf4FGQYvBkoGbgaTBrUGzwblBvoGDAcbBygHMgc8B0IHQwc7By4HHgcOB/wG5gbKBqoGhgZhBjoGEgblBbAFdQU3BfoEuwR5BDME6gOhA1YDCgO7Am0CIgLXAYcBLgHQAHUAHwDN/3b/Hf/E/mr+E/7B/Xb9L/3j/JD8O/zq+6H7Xvse+9/6n/pj+i36/fnN+Zv5afk6+Q/56fjP+MP4vviz+J74iPh7+Hv4gPiG+I34mPij+K74vPjS+O34C/ko+Ub5ZvmL+bL52/kH+jX6Y/qR+sH68/oo+1z7kPvE+/j7Lfxh/JP8xvz5/Cr9Wv2O/cT9+v0s/lr+iv69/vD+H/9O/33/q//V////KwBaAIYArQDQAPUAHAFBAWUBiwGwAdAB7gEPAjQCWQJ3ApMCrwLNAugC/wIWAzADSgNgA3IDgwOUA6UDsgO6A8ADxgPLA80DyQPCA7kDswOsA6MDlwOIA3UDXgNGAzIDIAMLA+wCxgKeAnoCWAI0AgwC3wGvAX4BTQEeAfAAwgCSAF0AJADr/7X/gv9R/x3/5/6w/nz+Tf4j/v792P2u/YH9VP0s/Qv97/zU/Ln8n/yI/Hf8aPxZ/En8O/wz/DH8M/w6/EX8Uvxd/Gf8c/yE/Jv8tvzU/PP8E/00/Vj9e/2f/cT97f0Z/kf+dP6f/sr+9v4i/07/fv+w/+D/DAA2AGEAjQC5AOQADQE0AVkBewGeAcMB5wEHAiECOQJQAmkCgQKZAq4CwALQAt4C7gIAAxADHAMlAywDMgM5Az4DQQNDA0YDTANRA1EDSQM+AzQDKgMeAw8DAAPwAt0CxwKwApsChQJpAkkCKgINAu8BzQGnAX8BWQEzAQ8B6wDGAKAAeQBRACgAAADc/7j/j/9e/y3/Bv/o/sr+o/51/kj+If4A/uD9vv2a/Xb9U/0z/Rf9//zq/NX8vvyk/Ir8c/xj/Ff8TPw9/Cn8FPwG/AD8AfwB/Pz78fvm+9773Pve++P75fvn++r78fv8+wX8C/wQ/Bv8LfxB/Ff8cPyK/KP8t/zJ/OD8/PwX/TH9S/1p/Yb9oP24/dT99/0d/kH+Y/6E/qX+xv7s/hX/P/9m/4z/t//m/xIAPQBqAJoAzAD7ACcBUgGAAbIB5gEaAkwCfQKxAuoCJQNdA48DvgPtAx0ETQR+BK4E3AQEBSoFUQV6BaEFxAXiBfwFFQYsBkEGUwZgBmoGdgaFBpEGkAaEBncGcAZpBlwGRwYwBhkG/QXcBbsFmwV1BUUFDwXbBKoEdgRABAwE2wOkA2MDHgPWAosCPALvAagBXgEIAakAUQAJAMj/ff8n/9L+h/5B/vr9sf1r/Sj95/yk/GP8Jvzv+7v7h/tT+x777frC+p76fPpW+iz6A/rh+cn5uPmo+ZX5gPlr+Vz5UvlN+Uv5SvlL+VH5XPlr+Xj5hPmS+af5xfno+Q36M/pd+or6tPrc+gj7O/t0+6z74fsX/E/8iPy//Pn8Of16/bb97f0m/mb+pf7e/hP/TP+I/8P/+P8qAGEAmgDOAPwAKQFWAYEBqAHMAe8BDwIsAkUCXAJxAoMCkQKbAqMCqQKsAqsCpwKhApoCkgKHAnkCaQJZAkoCNwIeAgIC5gHLAbEBkwFwAUsBJgEDAd8AuACOAGMAOQARAOv/w/+a/3P/Tf8p/wb/5f7H/qr+jv5z/l3+Sv45/ir+Hf4W/g/+Cf4F/gn+E/4e/iv+Pf5Y/nn+m/6//uj+GP9N/4P/uv/z/y8AcQC6AAcBVQGiAfMBSwKmAv8CVgOtAwQEXASyBAoFYgW5BQsGWgaoBvYGQAeHB8oHCwhICH8IsgjgCAkJLQlNCW0JhwmXCZsJmwmdCZ0JlAl/CWUJRwkiCfUIxAiPCFQIDwjCB3MHIwfPBngGIAbHBWgFAAWSBCcEvQNPA9kCXgLkAW4B+QCBAAYAjv8X/6L+LP61/T/9zvxj/Pr7kvsr+8j6bPoY+sj5efkq+d/4nPhk+Db4DPji97v3mveC93D3ZPde9173Zfdx94T3oPfB9+T3CPgx+GX4o/jk+CX5aPmv+ff5QPqN+uL6PfuY+/D7SPyj/AH9YP2//SL+h/7p/kf/o/8AAFsAsAACAVUBpwH0ATcCdAKuAuQCFAM+A2MDggOaA60DvgPOA9cD1APHA7YDowONA3ADTAMjA/gCyQKWAl8CJQLpAasBagEoAeYApABgABsA2f+Z/1v/Gf/V/pP+Vf4b/uL9rf17/U39Hv3v/MX8o/yG/Gn8Svwu/Bn8C/wC/Pf77fvn++X76vvy+/37C/wY/Cb8NvxK/GP8f/yb/Ln82fz8/CL9Sf1w/Zj9xP3x/R7+S/54/qf+1v4D/y//XP+J/7H/1v/9/yMARwBjAH0AoADKAPUAGwE9AV0BfAGbAb8B6wEaAkcCbgKTArcC3gIMA0ADdAOkA9cDFARaBJ0E1gQNBUsFjgXMBQQGPAZ0BqcG1QYBBysHSwdkB38HpgfOB+oH+gcHCBcIJQgsCC4IMAguCCUIGAgKCPgH3wfBB6EHfgdVByoHAQfTBpQGRwb8BcAFiwVPBQgFwAR1BB8EvQNaAwEDrAJSAvABjQExAdYAdwAQAKH/L//C/mH+BP6a/R39nfwp/MT7Xfvv+oP6JfrO+W/5A/mZ+Dn45feX90r3APe69nr2Q/YS9t/1pfVo9Tf1FvX+9OX0yvS29Kv0pfSj9Kf0s/TE9Nj09PQa9UX1cfWh9dn1GvZc9qD26vY794733vc0+JX49PhJ+Z35BfqA+vT6Tvuf+wL8evzw/FP9rv0R/nn+3P40/4j/3/82AIwA5AA6AYkBzwERAlMClQLRAgYDNgNhA4gDqgPFA9kD5gPvA/QD8QPnA90D2QPXA8oDsAOUA4IDewNzA2IDTQM7AywDHQMOA/4C7ALaAs0CygLPAtECzALFAsUCzALVAtsC4QLqAvYCAAMJAxUDIgMtAzUDQANOA1sDYANkA3IDiwOgA6YDoAOgA6kDsgOyA6wDqAOnA6EDlAOHA30DcgNfA0kDNwMnAxID9gLZAsUCrwKMAlcCHgLqAboBhAFJAQ4B0wCWAFgAGgDX/4f/Lf/b/pn+Wv4I/p/9M/3U/H/8KPzN+3T7HPu6+kv61fll+fr4kPgl+Lv3VPfu9on2K/bT9Xr1GPW19Fz0FPTX85rzXPMm8/vy2/LB8qvyn/Kl8sPy8fIk81nzlfPh8z70pfQR9YX1A/aG9g33nfdA+Pr4wvmN+lj7JPzz/MT9nP59/1wAMgH9Ac4CsQOXBGoFIgbWBpsHbAg0CeUJhwokC7wLSwzODEENoQ3zDUMOlg7lDh0POQ9HD1QPXQ9XD0APHg/zDrwOdg4mDtENcg0FDY4MEgyTCwsLeQriCUkJrQgMCGkHxgYhBnoF2ARABKgD/wJIAp0BEwGiACoAn/8M/4b+EP6j/Tz92vx9/CX83Pum+3n7RPsH+9f6wPq1+qD6gfpq+mP6Zfpn+mj6bvp8+pH6r/rQ+un6+foN+zL7X/uB+477lvun+8D71Pvf++r79vv++wD8A/wL/BP8EvwN/BL8Ifwv/DD8Kfwo/DD8Ovw+/EH8R/xQ/Fb8Wvxh/G38evyC/Ir8l/yp/Lj8wfzN/OP8+vwG/Qj9EP0o/Ub9Xv1s/Xv9kf2o/bv9zv3m/f/9E/4m/j7+Wf5s/m7+af5q/nP+eP5z/mT+Uv5B/jH+IP4F/tv9p/16/Vj9NP3//Lj8bPwn/Oj7qPto+yb73vqN+jb64vmU+Uj5+vis+GP4HfjX95T3Wfcl9/D2s/Z19kH2HPb/9eH1xPWu9aL1mvWQ9YX1hPWV9bf13vUI9jT2Z/ah9uP2MveP9/T3XfjO+Ev50flW+tn6Yfv0+4z8Hv2u/Uz++v6u/1YA9ACUATkC3QJ5AxAEpwQ4BboFKgaVBgwHkgcaCJcIBQloCcIJFwppCroKAws7C2QLkgvOCwsMLQwzDDUMSwxzDJQMogynDK0Mtwy9DL0MswyfDIYMdQx0DHoMcgxXDDYMHgwNDPQL0wuzC5sLgwtgCzULDwvtCsQKjgpVCiIK6wmhCUMJ3gh9CB4IuQdIB88GVgbiBXMF/gR3BOIDUQPMAkYCsAEOAW8A2/9K/7f+I/6R/QT9gPwI/JL7EvuL+hD6rflX+fX4hPgZ+Mb3g/dD9wP3y/ae9nn2WvZH9kL2Q/ZH9lP2c/ai9tP2/fYo92D3qPf290D4ifjW+Cn5f/nX+TH6jPrn+kL7nvv8+1n8rPz5/Ej9nP3t/TD+af6j/uX+Kf9l/5f/xP/x/xoAQQBjAIIAnwC3AMwA3QDrAPUA+wD9AP0A/AD5AO0A0ACcAFkAFADU/5H/Q//q/o3+Lf7I/WD9+/ya/Dn81Ptz+x37yfpp+v75lfk5+eT4kvhG+AD4tPda9/72sfZ29j/2BfbR9ab1gvVg9Uf1PfU79TP1I/UX9Rn1JvU69VD1ZvV+9aD1zvX/9ST2P/Zl9qP28/ZB94X3yPcU+Gn4wPgX+XL51Pk4+pn68/pP+777Sfzk/Hn9AP6D/hP/rP9DANUAaQH8AYgCCgOIAwMEdATWBDIFjgXgBR0GTQZ/Bq8GygbMBssG3Ab4BhEHIQcoBx4HBwf8BhMHOAdQB2IHjgfVBw4IIwg4CHcI1wgzCYIJ4wlgCt4KSQuvCycMqQwiDZANAA5xDtUOKQ95D8cPCxBAEGoQixCdEJwQjRB6EF4QMBDuD5sPOw/VDmwO/g2GDQENdgzuC2cL2gpHCrIJIgmUCAYIeAfsBmQG3wVeBeMEawT2A4YDHQO8AmECCAKpATwBxQBRAOn/iP8f/6b+Jv6r/Tf9xvxW/Ov7hPsh+8X6c/om+tf5iPlF+RP56vjC+J/4jviN+Ir4ffh2+IP4nPis+K34rfi2+MP4zPjQ+M74wviq+I74dPhL+AD4k/cb96n2OPa39SX1jPT081zzxfIx8pzxAvFr8OLvbO/97o3uJO7K7YHtRe0Z7fns2ey67Ljs8OxZ7crtMO6y7nzvhfCV8ZPypPP29Ib2Jvi/+Wf7NP0g/wsB7QLNBLUGpQiSCnAMNg7hD3cR/RJrFLYV3BbnF9MYlxkwGqoaBhs6G0IbLhsFG7caMhqJGdkYFRgQF8gVeBRVE0gSFhG1D08O/AyvC10KFwnnB7sGiwVvBHMDegJuAXwA1P9H/2X+/fxh+/352vi192f2+vSK8yXy3vCr70juauw56j7oxeZk5XDjvuDX3UTbB9nC1knUydF3z1DNM8sdyTfHnMVFxB7DKcJvwerAjMBowJ3AKMHUwYHCaMPuxC3H28mZzFPPNdJv1QXZ19y14Ifkb+i+7Jbxr/aY+ywAvQSRCYAOHxNiF9MbAyHAJgcs+C/SMsw1yjlmPmlCQkWZR3BK7k1ZUR5UaFa7WDFbd11CX6Ng1GHoYsZjRmRVZARkdGO1YrVhXGCxXs9cvlpuWN1VIlNHUEJNEkrTRpBDLUCZPAg5tTVuMqguIio+JZsgYBwzGMITJw+lClEGDQLR/bv58/V78kDvMuxT6a3mTeQ/4oXgE9/b3drcHNyu233bYdtC2z/bldtU3EzdRd5E33bg2uEv40LkMeVJ5qbnDeko6tjqS+vK63fsLO2X7X7t7uwp7Grrserf6dzot+eO5nPlWuQa44Thjt9x3YXb59lA2BLWRdNS0MzNzsv5yfzH78UUxH3CB8Glv3u+p70dvca8nLyavLW8+ryQvX2+jb+MwKDBIcMxxZHH+MlTzLfOJdGP0/fVZtjV2kjd4t/D4sTllOgX64rtL/D+8rn1P/ir+hr9h//RAewD4wXMB6kJagv5DF0OpA/SENkRtRJ2EyEUohT0FDMVbxWDFVAVBBX/FFcVuBXlFRkWuxbEF8wYmBlXGlMbhRy0Hb0epR9/IHchziKiJLMmoihlKlws0y6dMVA0yTZDOe07oD4ZQU5Db0WVR6BJY0vcTCNOQk8qUNRQS1GMUYlRRFHZUFBQhk9nTkNNnEydTN5M1ExaTLNLCktRSnhJqkgDSFJHNEaJRJlCwUAVP1M9MTuSOJk1hDJ5L3IsSin1JZciXR9EHBUZnhXfEQMOOwqrBk0D3P//+7f3lPMw8GXtQuoX5lLhEN3E2azWw9LxzQTJpcS3wL28jrh1tMiwhq1mqh6n0aMRoVSfQ57hnJea7ZfSlW+UFJNckcGPzo45jnCNr4zhjE+OJpCGkZmSIJRHlouYoZrYnHWfJaKBpLmmXqmPrN2v8rIQtpu5hb1hwfjEgchEzDfQGNTI12vbGt+54hnmTumk7EbwAvSV9wj7pv6LAngGGwpyDcEQKhSKF6cabh37H4giTyVrKLUr3C64MYQ0lzf4OlI+XEEoRPJGw0lpTMJO3lDbUrBUO1ZyV2RYIlmoWepZ5lmfWRZZUlhbVztW41RBU1BRLU/5TLZKPkh6RYdCnT/PPOs5vjZbMwgw6CzCKU0miyLJHkMb7BeUFCMRog0iCsIGrwP2AFr+hPtr+HH18PLM8I/u+Os/6cnmtOTU4vjgJN953Qvcydqc2YTYpNce1+LWqNYu1oLV79Sm1I/Ue9Rn1HPUpNTh1DHVxtXD1v7XLNkw2jPbYtzC3T3fw+BK4r/jGeVv5uPnf+km67/sUu7176vxW/Ps9F72xfcx+Z36+fs+/Xv+xf8gAXsCvwPjBPAF8AbqB+EI1Am7Co4LTgwHDcANag70DmMPyg8yEI0QzBDwEAoRIBElERER6BC2EIEQSBAPENkPng9TD/gOmQ5ADusNjw0tDcgMYwz7C5ALJAu3CkgK2wlvCQMJlAgnCMMHYgf5BosGLgb1BdYFtQWEBU4FJwUTBQYF+QTtBOUE4gTmBPAE/QQJBREFGgUpBT4FVAVmBXYFiAWbBa0FvQXMBdsF6QXzBfwFBAYKBgwGCwYJBgcG/wXyBekF5gXfBccFnwVxBUYFHgX1BMsEmgRbBAwEuANmAxADqwI3AsMBWAHxAIIACQCQ/xz/q/47/sr9UP3K/D38s/s2+8D6SvrT+V/58/iM+Cv40Pd49xr3s/ZJ9uf1lPVK9QL1vPR89EL0CPTI84jzUvMt8xPz/fLm8tLywvK48rbyvfLJ8tfy5fL58hbzOPNZ83rzoPPN8/vzLPRp9LX0B/VY9a31EfaD9vT2Wve/9zD4rfgq+aD5FfqO+gf7evvr+1z8x/wn/X390f0m/nP+tv7y/iv/Xv+F/6j/yv/l/+3/4//U/8H/of9u/y7/6/6h/kT+1P1d/eH8Vfy1+w/7bvrM+SH5cPjC9w/3R/Zn9YX0svPs8inyY/Gd8NfvGe907vbtle037dTsgOxR7EPsQexF7FrsiuzR7CXthu327XPu+e6K7yvw3PCS8Uby//LG85T0XvUl9v729ff9+Pj52vq2+678yP3q/vj/7wDkAeMC4APQBLEFiQZUBwsItQhoCScK2gpuC/QLjgxADecNZg7IDjQPsA8nEIcQ2RArEXYRqxHcESwSoBIJE0ETXxOgExQUghSxFKwUuBQAFWsVyBUBFikWVBaHFsUWBxc9F1oXaxeVF+gXRxiKGKwY0BgQGWIZqRnfGRUaVBqWGtIaBhs1G10behuSG6wbwhvKG78brRudG4wbchtKGxgb5hq0Gn0aOxrsGZcZRBn0GJ0YLBicF/UWTRayFR8VfRS5E+ASDxJQEYwQow+VDnwNaQxbC1IKVgljCF4HNwYBBdwDxAKaAU4A//7M/a/8h/tH+gX51/e39pj1fPR184bymfGb8I/vie6a7cXsAOw/63jqs+kD6XHo6+dW56nm/uVu5fvkk+Qz5OzjweOa41rjBeO84pTiguJy4mPiXOJd4mHiaeKB4qfiz+L24jHjiuPr4zHkVuR55LPkBeVe5bzlJuaa5hPnj+cN6Ibo7uhK6bDpMOq86jnrnOv161Xsvewe7W/tvO0b7pXuGu+M7+bvPvCv8DjxxfFJ8snyUPPd8230AfWY9Sz2uvZI9+P3hvgf+aD5Efp++vH6cfsB/Jv8Lf2t/Sn+uf5k/w4AoQAgAacBRgLwAosDDAR4BOMEVQXGBSsGhQblBlkH1Ac6CH4Itgj+CFkJsgn5CTAKZAqZCsoK9woeCzsLTgtcC3ALgwuFC2wLQwseCwAL3wqyCoYKZwpPCi4KAgrfCdIJzgm/CaMJjgmQCaIJrgmrCZ8JmQmdCaUJqwmwCb0J2wkFCioKPgpFClUKeQqpCtQK8QoGCyALQgtmC4YLnguwC8AL1QvvCwIMAwzzC+EL2wvaC9QLxgu6C7ILpwuRC3gLawtpC2ILTAsuCxsLFAsMC/cK1QqxCo4KbApJCicKDAr5CewJ2Qm3CYQJTAkeCfgI0AidCGEIIwjjB58HVgcNB8IGdAYoBuQFpAVZBfoEkwQ7BPgDtgNkAwIDpAJTAgoCvwFsARMBtABRAPL/nP9R/wv/wv52/in+2/2H/TL94/yb/FX8C/y/+3b7L/vl+pf6T/oR+tn5nfld+SL57fiz+HP4NfgC+NT3m/dX9xf35fa79ov2UvYV9tr1ofVu9UL1HfX79OD0yvS29Jj0dPRb9Fr0ZfRo9F70UvRQ9FH0UPRO9FT0XvRo9HP0jfS49Of0C/Um9Uf1d/Ww9ef1GvZP9on2x/YH90r3jPfN9w74Vfih+O34NPl1+bT59vk++or61fof+2f7rvv1+z78jfzg/C79dP23/QH+Vf6r/vj+Ov95/7v/AABDAIgA0gAgAW4BvQEJAlMCnALoAjcDhgPPAxUEXwStBPcEPAWDBc4FDwY8BmUGogb3Bk0HiQeuB9IHBQg+CHEImwi/COIIAgkgCTsJUQlgCWkJdQmGCZMJkwmECW8JXQlQCUIJLgkYCf8I4Qi6CIwIYQg9CBoI7Qe0B3kHQwcSB94GoAZVBgQGsAVhBRYFzQSHBEUEBgTDA3UDGwO+AmsCHwLQAXsBIwHRAIUAOQDs/57/Uv8K/8v+lv5l/i3+6/2s/Xn9Tv0k/fr81/y8/KH8gfxl/FP8SPw8/Cz8HfwT/An8/Pvw++r76/vx+/f7/PsB/Aj8Fvwt/EP8U/xc/Gv8hvyp/Mn84Pz0/Ar9If04/U79ZP16/Y39n/2z/cj92/3o/fX9Bf4Y/if+Mv4+/kv+Vv5a/lz+Yv5p/mv+Zf5f/l3+X/5c/lT+S/5C/jr+Mf4n/iL+H/4e/hv+F/4U/hT+FP4V/hX+F/4a/h/+J/4x/j3+Sv5W/mH+bP55/ov+of65/s/+4/76/hX/NP9R/2z/hv+g/7r/1P/v/wsAKABEAF4AeQCWALMAzQDmAP4AFQErAT8BVQFsAYEBkgGjAbcByQHUAdwB6QH+ARICHgIiAiUCLAI0AjoCPwJEAkoCTAJKAkYCQQI8AjcCNAIyAiwCIwIXAgoC/gH0Ae0B6AHiAdgBzAHBAboBtAGrAaEBlgGMAYQBfAFzAWoBYQFXAU4BRQE+ATcBMAEoASABGAETARABEAEPAQ0BCQEGAQUBBQEFAQMBAQH/APwA+QD2APQA8QDrAOMA3ADYANMAzADCALcArQCkAJoAkACGAHsAcABlAFoATwBEADgALQAiABcADQAEAPv/8v/o/+D/2P/R/8n/wf+6/7T/rv+p/6P/nv+a/5b/kv+N/4n/hv+E/4L/gP9//3//f/99/33/gP+F/4X/gf99/3v/eP9x/2b/Xf9Z/1X/Tv9F/z7/Ov82/zD/KP8c/w3///73/vH+5/7V/r/+rv6j/pj+hv5v/lf+Qv4v/h3+Cv73/eb91f3E/bb9qf2e/ZP9if2C/X79ev12/XP9c/11/Xf9fP2C/Yv9lf2f/an9tP3A/c793f3u/f/9EP4h/jP+R/5Z/mn+ev6P/qr+x/7l/v7+Ff8t/0r/bP+R/7X/1//2/xQAOABgAIoAsgDYAP8AKgFXAYEBqgHSAfoBIQJIAnECnALGAuwCDwMxA1QDegOfA8ID4gMABBsENQRNBGUEfASTBKYEswS9BMcE0ATVBNQEzgTIBMIEuASpBJUEfgRlBEoELQQNBOsDyAOiA3kDTwMjA/cCyQKbAmsCOwIKAtsBqgF3AUEBDQHZAKcAcgA7AAQA0P+d/23/Pf8M/9v+qv56/kv+G/7r/b79lP1s/Ub9IP3+/N/8xPyr/JH8d/xe/En8PPw0/Cz8IfwV/A78DfwP/BD8DvwO/BD8Ffwc/CX8Lvw7/En8WPxn/Hj8jPyi/Lj8z/zo/AP9Hv06/Vb9dP2R/a39x/3i/f/9HP43/lD+af6E/p7+tv7N/uX++/4M/xr/Kv8+/1X/aP93/4P/j/+c/6n/tf/A/8j/0f/b/+f/7//z//L/8v/z//X/9f/z//H/7//t/+n/4v/Z/9L/z//M/8j/wf+5/7T/sP+r/6X/oP+d/5n/lf+Q/4z/if+G/4P/gf9//3z/ev95/3j/eP94/3j/eP95/3n/ev98/37/gf+D/4X/iP+L/47/kv+W/5v/ov+r/7L/t/+8/8X/1P/j/+7/9f///wsAGQAnADQAQgBRAGAAbQB7AIsAmwCrALoAyQDZAOkA9wAFARQBJgE4AUkBWQFoAXcBhwGWAaYBtQHEAdIB3wHrAfYBAQILAhUCHgInAi0CMgI3AjsCPQI/Aj8CPgI9AjgCMQIoAh4CFAIIAvoB7AHcAcsBuAGlAZABfAFmAVABOQEiAQkB7gDSALUAmQCAAGkAUgA5AB8ABADq/9D/tv+d/4X/bv9W/z7/J/8R///+7f7a/sT+rv6c/pH+if5+/m3+XP5S/k7+S/5G/j3+Nv4y/jD+MP4v/i/+L/4v/i/+Mv42/jv+QP5E/kj+Tf5S/ln+YP5p/nL+eP58/oH+if6U/p7+pf6r/rP+vP7F/s7+1/7i/un+7f7x/vj+BP8S/x7/Jv8s/zX/QP9N/1f/X/9n/3P/gP+M/5f/pP+0/8f/2f/p//j/BwAaAC4AQgBUAGcAfACUAK0AxADWAOYA+AAMASIBNgFGAVQBYgFxAX8BiQGSAZwBqAG0Ab4BwwHHAcwB0gHXAdoB3AHcAdwB2wHYAdUB0gHOAcgBwAG5AbMBrQGlAZwBkgGIAX8BdAFpAV8BVQFJAT0BMAEkARgBDAH/APIA5ADVAMYAuQCtAJ4AigB1AGQAVQBHADkAKwAfABQABwD6/+3/4f/X/87/xf+7/67/ov+Y/5H/i/+C/3f/a/9i/1z/Wf9V/03/Q/87/zn/O/86/zL/KP8g/x3/HP8b/xf/EP8I/wP/Af8C/wL/AP/9/vn+9/71/vT+9P71/vX+8/7w/u7+7/7y/vb+9/73/vf++f79/gH/Bv8K/w3/Dv8P/xP/Gv8k/yv/Mv86/0b/VP9l/3f/if+X/6T/s//I/+H/+f8IABMAIAAzAEsAZAB5AI0AnwCyAMUA1wDpAP0AEQEmATgBSAFXAWYBdgGFAZMBnwGqAbQBvQHFAcwB0gHXAdkB2gHcAd8B4gHjAeEB3QHZAdUB0QHLAcUBvgG2Aa0BowGVAYUBdAFoAV0BUQE/ASsBGAEIAfYA3wDGAK4AmACEAG8AWwBHADMAHwAHAO//1//B/67/nP+H/3H/Xv9M/zr/Jv8T/wL/8/7j/s/+u/6q/p3+kv6H/nz+c/5r/mT+Yf5g/l7+Wv5U/lH+VP5a/l7+Yf5l/mz+dv6A/on+k/6f/qr+t/7E/tD+2v7k/vD+/f4L/xb/H/8r/zv/Tf9c/2f/cv9+/43/m/+q/7f/w//N/9b/4v/w//3/BgAQABoAJwA1AEQAUgBdAGUAbgB5AIgAlgCkALIAwgDTAOEA6gDxAPoACAEWASIBKQErAS0BMwE8AUYBTQFRAVIBUwFVAVYBVwFXAVkBWgFZAVYBUgFQAVABUAFOAUoBRAE/ATsBOAE2ATUBMgEsAScBJQEkASQBIQEdARkBFwEYARkBGgEYARYBFgEVARIBDQEIAQYBCAEKAQoBBgEAAfsA+QD1AO4A5wDhAN0A2QDSAMoAwAC0AKgAmwCQAIUAegBvAGMAVQBEADAAHQAQAAgAAADz/+H/0P/D/7X/pv+U/4X/eP9u/2T/W/9S/0r/Qv84/yr/Hf8U/w//Df8L/wf/A//+/vv++f76/vv+/P76/vb+8/71/vj+/P4A/wT/B/8J/wv/D/8U/xb/E/8P/w7/EP8T/xH/Dv8L/wz/Dv8N/wr/Bv8C/wH/AP///vv+9P7s/ub+4f7d/tn+1f7U/tP+1P7V/tX+1P7T/tT+1/7d/uL+6P7y/v/+C/8U/xr/Iv8t/zz/TP9Z/2P/a/90/4L/k/+l/7X/wv/O/9r/5v/z/wAADwAfAC4AOgBFAFIAYABwAH8AjQCZAKMArAC4AMYA1QDjAO4A+AABAQ0BGQElAS4BNQE9AUYBUQFcAWUBbAFzAXkBegF6AXsBgQGLAZIBlAGTAZQBmAGdAaEBowGjAaMBogGfAZsBmAGYAZkBmQGZAZkBmQGYAZUBkQGLAYYBhQGHAYoBiwGLAYoBiAGFAYABewF4AXcBdgF0AXIBbwFsAWgBZQFiAWABXAFVAUkBPQEzASwBJwEgARYBCgH8AO4A4QDRAL8ArQCcAI0AfgBrAFYAQwAxAB8ACgD0/97/yf+y/5n/gf9r/1X/Pf8j/wr/8v7d/sj+tP6f/ov+dv5k/lT+Rv45/i7+JP4a/g7+Av74/fP98P3s/ef94f3f/d793f3Z/dX90v3R/dL90v3T/dX92P3b/d/94v3n/e399P36/QH+B/4Q/hr+Jf4w/jn+RP5Q/l7+a/54/of+lf6i/q/+vv7S/uf++v4L/xz/Lf9A/1P/af+B/5f/rP+//9P/6P/+/xIAJwA6AEsAXABvAIMAlgCkAK8AugDEAM8A2QDkAO8A+gAEAQwBEwEYARwBIAEkASoBLwEzATcBPQFDAUoBTgFQAVEBUwFWAVgBVwFVAVMBUgFSAVMBUwFSAVABTAFIAUQBPwE8AToBNwEzASwBJgEiASABHgEZAREBCAH+APcA8gDwAO0A6ADhANsA1QDPAMkAwwC8ALQAqwCjAJ0AmACTAI4AhAB2AGcAXgBaAFYATQBDAD8AQQBDAEIAPQA6ADkAOAA1ADMANQA6AD4AQQBCAEQARwBLAFAAVABYAFkAWQBYAFkAXABfAGIAZABjAGIAYQBgAGAAXgBZAFMATgBJAEQAPgA4ADMALAAjABgADQADAP3/9f/s/+L/1//L/8H/tv+r/6D/l/+O/4T/ef9v/2j/Y/9g/1v/Vv9R/0z/Rv9C/0T/Sv9Q/1H/T/9P/1T/Wf9a/1j/WP9b/2D/ZP9k/2X/aP9q/2r/aP9o/2v/cP9z/3T/dP92/3j/e/99/3//gf+D/4b/iP+L/47/k/+W/5n/m/+e/6L/pf+o/6z/sP+z/7T/sv+x/7P/uP+9/8H/w//E/8X/x//J/83/0v/W/9r/3P/e/+L/5v/q/+3/8P/z//b/+v/+/wAAAgACAAIABQAKAA4AEAARABUAGwAfAB8AIgApADQAPwBGAEwAUwBbAGIAagBxAHkAfwCEAIkAkACYAKAAqACuALIAtQC5AL0AwQDFAMYAxwDIAMoAzADOAM4AzQDLAMgAxgDDAMEAwAC9ALkAtACvAKsAqACkAJ8AmACQAIcAgAB7AHYAcQBpAGIAWwBVAE4ARgA+ADYALQAkAB0AGgAZABYAEQANAAkABwADAAAA+//3//P/8P/w//D/7v/p/+L/2//U/9D/zv/M/8n/w/+//73/vf+8/7n/tf+y/7H/sP+v/67/rv+u/67/rf+t/67/sP+x/7L/s/+0/7b/uP+7/73/wP/D/8X/xf/E/8T/xv/J/8z/zf/O/87/z//R/9L/0v/T/9T/0//R/87/zf/M/8v/x//B/73/u/+6/7f/s/+w/63/qv+n/6P/of+f/5z/mf+Y/5n/m/+b/5n/l/+X/5r/nf+f/6D/ov+l/6j/rf+x/7X/uf+9/8H/xf/K/8//1P/a/97/4//o/+7/8v/z//b//P8DAAkADAAPABUAHAAiACQAJwAvADwASABRAFYAXABkAGsAdAB9AIcAkgCbAKIAqQCxALoAwgDGAMkAzADRANcA2wDeAOEA5gDpAOoA6wDsAO4A7QDoAN8A2ADUANEAzgDIAMEAtwCtAKMAmgCRAIgAfgB0AGkAXgBTAEkAPgA1ACwAJQAgABsAFQANAAYAAAD5//D/6P/i/97/2//W/9D/y//G/8P/v/+6/7b/s/+w/6v/pP+c/5X/kP+M/4n/hf+A/3z/eP90/3H/bv9r/2n/Zv9k/2L/YP9f/2D/Yf9g/13/Wv9X/1f/WP9a/1r/Wv9Z/1r/W/9c/17/X/9g/2H/Y/9l/2b/Zv9m/2f/av9u/3H/c/91/3j/fP9+/37/ff9+/3//gv+F/4r/j/+S/5P/k/+W/5v/n/+j/6X/qP+s/7D/tv+7/8D/xP/I/8z/0f/V/9n/3v/i/+f/6//x//r/AwALABEAGAAiAC4AOQBDAEsAVABdAGYAbwB5AIIAiwCQAJMAlwCcAKMAqQCsAK4AsACzALcAuQC7ALwAuwC4ALQAswC4AL8AxQDGAMYAxwDJAMsAzQDNAMwAywDLAMwAzQDNAMsAyADFAMIAwgDCAMAAvAC5ALgAtwCyAKsApgCmAKcApgCgAJkAkwCPAI0AjACMAIsAiwCJAIcAhACDAIIAgAB9AHoAeAB2AHQAcwBzAHUAdgB1AHMAcQBxAG8AagBiAFsAVwBVAFQAUgBNAEUAPQA2AC8AKgAlACAAGgATAAwABgAAAPv/9f/v/+f/3v/W/87/xv+8/7D/o/+a/5b/lf+T/4z/gv95/3X/df92/3T/cP9t/2r/av9r/2r/Z/9k/2L/ZP9o/23/cP9y/3T/df93/3j/ef98/3//g/+I/4v/jv+T/5j/m/+c/5r/mv+d/6D/of+f/53/nP+e/6D/ov+i/6L/ov+j/6T/pP+l/6X/p/+o/6n/q/+s/67/s/+6/8D/xP/G/8n/zP/R/9X/2f/d/+H/5f/q/+7/8//3//r//f8AAAMABgAJAA0AEQAUABYAGAAaAB0AHwAgACIAJAAmACgAKQAqACwALQAuAC4ALwAwADAAMQAxADIAMgAyADEAMQAxADEAMAAwAC8ALgAtAC0ALQAtACwALAAsACwAKwAqACoAKQApACgAJwAnACcAJQAjACIAIQAfAB0AHQAhACgALQAvAC8AMgA1ADkAOwA8AD4AQQBFAEkATABOAFAAUABRAFMAVgBZAFoAWQBaAF0AXwBeAFwAWgBcAF4AYABeAFwAWQBZAFkAWwBcAFwAWgBYAFcAVgBXAFcAVwBVAFMAUQBQAE8ATgBNAE0ASwBJAEYARABCAEAAPAA4ADUAMgAvACoAJwAjAB4AGQATAA8ACwAHAAMAAAD+//n/8v/r/+j/5//l/+L/3//c/9j/1v/V/9X/1P/R/8z/yv/L/8z/yv/G/8L/v/+9/7v/uv+7/7z/u/+5/7f/t/+6/7z/vf+9/7z/vf/A/8T/yP/K/8v/y//M/87/0P/S/9P/1P/X/9r/3f/f/+H/5P/n/+r/7f/x//b//P///wEAAwAHAAsADQAPABEAFgAcAB8AIQAjACYAKQArACwALQAxADUAOAA6ADsAPQBAAEMARQBIAEoASwBKAEoASgBLAE0ATgBOAEwASgBJAEcARgBDAD4AOwA5ADkANwAyACsAJgAhAB4AGgAXABMAEAALAAYAAgD///v/+P/0//D/6v/l/+H/3//e/9v/1//U/9P/0//S/8//zv/O/8//z//O/8z/yv/J/8n/zP/O/87/zP/M/83/z//Q/9H/0f/T/9X/1v/X/9j/2f/Z/9n/2f/b/97/4//m/+j/6v/s/+//8f/0//f/+v/+/wAAAgAFAAgACwALAAsACwAMAA0ADwAQABIAFQAWABYAFQAUABUAGAAaABkAFgAUABQAEwARAA8ADQANAA4ADgAOAA4ADAALAAsACQAGAAIAAAD+//3//P/6//j/9f/y/+//7P/p/+X/4v/g/+D/4f/i/+L/4f/h/+L/4//i/+H/3//e/93/3v/f/+H/4v/j/+P/4//i/+H/3//g/+L/5v/n/+b/5f/l/+f/6P/n/+X/4//i/+D/3v/d/97/4P/g/+D/3//g/+L/5f/m/+b/5//o/+v/7v/x//T/9f/2//j/+//+//7//f/+/wAAAQADAAYABwAGAAQABAAIAAsADAALAAwADgAPAA8AEQAWABcAEwAOABIAGQAWAAUA8f/o/+n/6f/j/97/3P/c/9n/1f/T/9T/0//P/83/zf/N/8z/y//L/8z/zP/M/87/z//Q/9D/0f/S/9T/1v/X/9j/2f/b/9z/3v/g/+L/5P/m/+j/6v/s/+//8f/z//T/9v/4//r//P/+////AAABAAMABQAHAAgACgALAA0ADwAQABEAEwAUABUAFgAWABcAFwAYABkAGgAaABoAGgAcACAAJAAnACcAJQAkACQAJQAkACEAHQAaABoAHAAeAB0AGgAXABUAEwAQAA0ACgAGAAMAAQAAAP///f/6//b/8v/t/+r/5//m/+P/4P/c/9n/2P/Y/9j/2v/c/93/3P/a/9n/2v/c/97/3v/f/+D/4v/j/+T/5f/m/+f/5v/l/+T/4//i/+D/3v/c/9n/2P/Z/9r/2v/Y/9b/1f/W/9f/1v/V/9X/1v/W/9f/2P/Z/9r/2//b/9z/3f/e/+D/4f/i/+P/5f/n/+n/6//s/+3/7//w//L/9P/2//j/+v/7//3//v///wAAAQACAAMABAAGAAcACQAKAAoACwAMAA0ADgAPAA8AEAARABEAEgASABMAEgASABMAEwASABIAEQARABEAEQAQABAAEAAPAA8ADgANAAwACwAKAAoACQAIAAgABwAGAAYABQAEAAQAAwADAAIAAQABAAAAAAAAAAAAAAABAAAAAAAAAAAAAAAAAP///v/+//7//v/+/wAAAwAJAA8AEgAUABQAFQAXABkAGwAeACQALAA1AD4AQwBFAEMAQQBDAEkATwBUAFcAWABaAF0AYABiAGMAYgBhAGAAXwBgAGAAYABfAF0AWwBYAFUAUgBPAE0ATABNAEwASgBHAEQAQQA9ADoANwA0ADIAMAAtACsAKAAlACIAHwAbABgAFQATABAADQAKAAcABAACAAAA///+//z/+f/z/+r/3v/T/8v/xv/D/7//uv+1/7D/q/+m/6L/n/+a/5L/iP+B/33/ff98/3n/dv9z/3L/cf9v/23/av9o/2f/Zv9m/2j/av9t/27/bv9x/3b/fv+F/4f/hv+B/3z/fP+C/4j/i/+J/4b/hv+I/4v/jf+M/4n/hP9//37/gP+D/4b/h/+I/4j/if+K/4v/jf+Q/5P/lf+Z/53/ov+m/6n/rf+x/7b/uv+9/8P/zP/Y/+P/6v/v//b/AQAPABsAJAAsADEANQA7AEUAUwBfAGkAbgB0AHkAfwCEAIgAiwCQAJYAnQCkAKgAqQCqAKsArACsAKoAqACpAK0AsACyALEArgCrAKgApQClAKUApACjAKEAngCcAJcAkgCNAIgAgwB9AHcAcwBwAG8AbABmAFsATAA9ADEAKAAgABYACgD+//L/5//d/9P/yP+5/6r/nP+R/4b/eP9o/1n/Tf9D/zr/Mf8o/yH/G/8V/w//C/8I/wb/Bf8E/wX/B/8K/w3/EP8V/x3/KP81/0D/Sf9U/2L/c/+F/5b/qf+8/87/3//x/wcAIgA6AFAAZwCCAJsArQC9ANQA9wAaATcBUwF2AaMBzQHtAQYCIQI+AlgCbQKAApMCpQK1AsMC0ALaAuIC5QLlAuMC3wLbAtgC1ALMAsICtgKpApoCiAJ0AmECTQI3Ah8CCALzAd0BxgGrAYwBagFHASYBBgHnAMcApgCFAGQAQwAkAAkA7P/K/6n/j/9w/zv/7f6c/lf+Ev67/V79Fv3f/In89ftB+6b6NPrL+VP52/h4+CL4w/dh9xX33PaS9hn2hvUK9br0gvRE9P3zxPOl85HzcfNM8zzzTfNm82zzdfO38z301/Rf9e/1vvbH98v4oflr+lX7WfxQ/TH+Ff8DAOUAtAGUAqUD0gTjBcQGjwdgCDAJ7AmRCi0LxQtRDMoMLg1/DcIN/A0sDkgORw44DjwOaw63Du4O7Q7MDswOFQ+BD80P6A8BEDcQYhBUEDoQbBD4EIkR4xE8Eu0S6hPPFGoV7hWeFmoXGxikGCgZthk2GpQa2RoSGz4bWRtiG1MbIxvmGrUaeRrvGfQYwxevFqYVOxQvEsYPbw1GCxAJrQY9BOIBj/8t/dX6m/hX9tDzGvGX7oHsmup26P/lhuNb4X3fut3521Xa6diy15fWk9W61CLUw9N/007TUNOf0xnUetS41BbV1NXX1s3Xm9hv2Wnabdtd3Fndkt7h3+PgfuEO4vPiGOQf5erlsead54voU+kQ6vTq7eur7AjtOe2J7QXueO677t3uBe8+727vfO9975fvze/w7+bv4e8u8MzwbvHp8YDygfPU9BT2I/dC+KX5I/uG/OD9Xf/lAD8CfQP9BOkG9AjHCmcMFw7tD8kRmRN4FXUXcRlBG9scWB7YH4AhaCOBJYcnOSmeKv0rky1SL/4wczLHMxg1XTZ0N104QjlAOj07CzytPFo9Kz7zPnM/qT/HP+4/CED3P7k/YD/qPks+gj2bPKA7jDpVOfU3cDbaNE0zyTElMDkuCyzNKZonUSXEIvIfAx0PGhEXABTpEM8NpgpsB0MERgFW/jz79vfE9NnxJO9r7Jbptebm4z/h1N6g3IDaVNg11lvU1tJ20RXQzs7VzTrN5MzFzNXM8sz/zBbNeM0nzs3OIc9Fz5DPGtCw0C/RrNE50rvSItOS0yfUs9Tu1OjUA9Vv1eLV8dWZ1TPV/9Th1KPUQdTd04DTGtOk0jbS3tGP0TjR39CZ0HLQYNBP0DPQFNAD0A/QMNBM0FbQY9CS0OzQYNHk0XrSH9PA01nUBNXc1dvW3dfS2M/Z79oy3IHdy94V4G/h6eKJ5D/m4udh6d3qiOxn7kbwBvLI87z11vfZ+bH7jP2N/5oBjgNsBU4HKgnbCnAMIw4JEOoRjhMGFYoWJBirGQwbaBzTHS8fWSBZIVEiRiMmJPQkzyW6JoonGyiEKPoojikYKnEqoyrPKvoqCSvuKsQqpSqKKlAq9CmYKVopJinYKGgo7id7JwQngyYBJoklECWHJOwjTiOyIhYieyHkIEcgmx/oHj8enx35HE4ctxtAG9AaTxrPGXQZORn0GIgYExi8F4YXUBcKF8IWhxZTFhYW1RWbFW4VPxUCFbwUgRRjFFoURhQOFLwTcBM4E/4SpxItEqMRFhGGEPIPWg+4DgIOOg12DMQLDws0CiwJGQggB0AGVwVHBA8DyQGTAHb/Xv4w/eD7g/o3+Qv48fbS9Z/0XfMj8g/xIvA47yruAO3q6wPrNepk6ZLo0ecR5zvmXeWl5BfkfuOx4tThJOGk4Cbglt8T37DeVN7q3YndT90i3c/cXtwT3BTcKdwF3KnbXdtN21zbXNtM207bb9uX27Pbztv920LcjNzW3Cvdmd0Z3pjeCN9z3+/fgeAS4Yzh+OF44iHj5eOg5Erl9eWu5mvnHOjH6H/pSOoP68XreOw+7Rfu7O6r72DwIvHz8b/ye/Mz9PL0rvVd9gf3vfeC+EP58vmR+i770vt+/Cz9yv1M/sP+Tf/x/5EAEgGMASQC1gJzA+cDVgTpBJEFJwaoBiwHtAcpCIwICgm3CWwK+wpuC/QLmww+DcYNSg7mDooPGBCPEAYRhxEGEoISEhO5E1UUyhQtFa0VVRb/FokX/Rd6GAkZkhkDGmca1xpWG80bLxyJHPccgR0IHmsesB4AH3If7x9RIJIgzCARIVIheyGRIaEhqyGnIZwhlSGJIWEhFyHDIHYgICCqHxYfdx7SHR0dWRyOG7kayRm5GKAXkRZ7FTsU0hJiEQcQsg5IDcILLwqdCA8HhAX9A3QC5ABR/8j9VPzw+pH5LvjN9nr1RfQu8yLyDfH57wTvP+6X7e/sSey961XrBOvB6pPqfepz6mvqcOqR6svqDuta67nrKOyY7Artk+057ubug+8Z8L3wb/Eb8rvyV/Ps82301/Q+9ar1BfY49kv2XPZy9nn2ZPY99g32zPV29Rb1t/RK9LnzCvNf8sjxL/Fv8Ijvne7E7fXsGuwx60vqcumf6MXn6eYX5lXlouT241PjweJC4tDhY+H/4KzgcuBH4CDg/9/33xPgS+CL4NDgJeGV4RbinuIv49XjkORS5Rnm8ebg59joyOmw6qfruezd7QLvJvBN8XryqPPT9Pr1H/dA+F/5fPqW+6f8rf2n/pr/iAByAU4CFAPLA30EMAXaBW8G9waABwkIhQjqCEQJowkFClsKpArlCiELUwt7C6YL3wsZDEUMZAyHDLcM7QweDUwNgA25DfANIw5UDogOwQ7+DkIPiA/IDwEQOhB/ENAQIhFpEaoR8RFCEo0SyRL9Ej8TkhPfExIUMhRbFJUU0RT6FBQVLxVPFWgVdRV8FYAVehVfFTYVCRXXFJgUSBTrE4cTGROgEiESnhEPEW0Qvg8ND1oOoA3cDBEMPgtgCncJjAikB7YGuQWxBKsDrQKvAawAqP+l/qL9n/yi+6/6wfnP+N33+PYl9lz1j/S/8/byQPKZ8frwYvDT71Lv2+5r7gHuo+1Y7Rzt5ey07JTsh+yB7HnseOyW7NTsHO1V7YXtv+0L7l7usu4M73Lv4u9U8MnwRPHE8Ujy0PJf8/PzhfQW9av1R/bn9oX3H/i6+Ff59vmU+jH7zfto/AT9n/03/sj+Vf/h/2wA9QB4AfUBawLZAkQDsAMeBIYE5AQ6BZAF6AU8BocGzAYPB1EHiwe8B+gHEgg6CF8IgAieCLIIvgjHCNAI2gjcCNgI0QjICLoIpgiPCHcIWgg2CA4I6QfKB6oHhgdcBzIHCwfiBrYGhQZUBicG/gXWBaoFewVNBSMF+ATMBKEEeARQBCUE+gPSA6wDhANbAzcDGgMBA+UCxgKqApMCfgJnAlICQQIyAiICEQICAvUB6gHeAdIByAG/AbYBrQGlAZ4BmAGQAYgBggF9AXgBcgFtAWgBYwFdAVcBUgFNAUkBRAE/ATsBNgEvASUBFAH+AOgA1gDFALEAmwCGAHIAWgBBACoAGAADAOn/0P/A/7P/lv9q/z//IP///sr+if5S/ij++/3A/YT9U/0k/er8rPx8/Fj8Jvzd+5D7V/sr+/v6wfqM+mH6N/oG+tf5tvma+Xn5V/lB+TP5Hvn4+ND4t/iq+J/4jvh9+HT4b/hp+GL4YPhl+HH4fPh9+HX4bPht+Hf4gfiG+I34mfik+Kv4tfjJ+OP49vj7+P34Cfkd+S/5PvlQ+Wv5ivmn+cD52fnz+RL6Nvpc+oP6qPrR+vz6JPtJ+2/7n/vW+wv8O/xq/J38zvz8/C39bP2z/fL9If5Q/pH+5P43/37/v/8BAEUAhQDGAAoBTwGNAckBDQJXApsC0gIFAz8DfgO4A+0DIARSBHwEoQTLBP8EMQVXBXoFogXQBfcFFQYvBkkGYwZ7BpkGvAbdBvEG/AYJBxgHIwcnBy0HPAdMB1cHYAduB38HhgeBB3wHhAeTB50HnweiB6wHtge6B7kHuAe3B7UHswe2B74Hwge9B7IHqgekB5wHkAeEB3kHagdYB0MHMQcdBwYH6wbPBrUGmQZ4BlAGHwbmBawFeQVKBRUF2gSfBGcEKwTmA50DVgMRA8gCgwJIAg4CwAFbAfMAnABKAO3/g/8g/8f+Yv7l/V794/x4/A78ofs1+8f6S/rD+UL51fht+Pj3efcF96X2S/bu9ZT1QfXq9H70A/SV80XzCPPK8obySPIT8uDxrfGD8WzxXvFH8SLxA/H58ADxCvEU8SXxRfFw8Z3xyfH18SnyZ/Kx8gLzVfOs8wn0avTI9CP1g/Xy9Wz25vZb98/3RPi0+CL5m/kr+sf6VvvM+zz8vvxT/en9cP7w/nv/EwCwAEQB0QFdAukCbgPrA2UE3QRSBcAFLgadBgYHXweoB+kHKQhkCJUIwQjqCBEJLwlJCWMJdwl6CWcJTQk6CSsJFAnvCMYIngh2CEYIDgjRB5IHTwcMB88GlgZcBhsG0gWIBUIFAAW/BH0EOgT6A70DgANBAwQDzwKkAnsCTwIoAgoC8AHQAakBhgFtAVsBSAE5AS4BIwEXARABFwEkARwB9QC9AJMAgwB+AGsARgAlACMARAByAJcArwDGAN0A5wDeANUA4AD/AB8BMgE9AUgBUAFOAUgBRwFOAVMBTgFHAUMBQgE7AS4BHwEUAQwBBAH3AOgA2wDQAMIAsgCjAJgAjQB+AG8AZABbAEsAOwA4AD0AKwDw/5//Zf9L/zf/E//o/sD+kf5U/hz+//3o/ar9QP3k/Mv85Pzw/Mz8ivxK/Bn88vvX+8H7o/ty+zz7F/sD++z6yfqh+oP6b/pc+kr6PPox+ib6G/oX+hr6IPom+i36OvpL+mD6d/qR+q36yvrp+gz7MvtY+377pfvP+/r7JvxT/H78qPzU/AT9M/1d/YT9tf31/Tz+fP6z/un+Iv9e/5v/2P8RAEcAggDNACIBbwGqAeMBLAKHAuUCOgOKA9kDIgRqBL8EIwWBBcUF9wUuBm4GpQbOBgUHbwcJCLIIUAniCW8K9ApmC8kLKwyQDPAMSQ2jDQYOaQ69Dv4OOQ92D7QP7Q8dEEgQbhCNEKIQrxC4ELwQuBCtEJoQghBkEEEQFhDhD6gPbA8uD+gOmw5NDvwNpA1CDdcMWwy+C/0KLApiCZ8IzwfsBgAGDwUSBA4DHAI+AUcADP+o/XD8i/u9+rr5gfhP90D2MvUK9ODy2fHp8Ovv2u7Z7f3sLOxS63nqu+kZ6X7o5Oda5+rmjeY45u/lteWG5V3lPuUx5TblRuVe5X/lruXo5SzmeObR5jPnnecO6InoC+mV6SXqu+pW6/PrluxB7e/tmu5F7/zvwfCN8VPyFfPa86X0cfU69gT3z/eb+G75TPov+wn81/yp/Yn+cv9YADsBGwL2AsgDowSWBZQGfAdGCBIJBAoTCxcM/gzbDcIOsQ+UEGoRORIFE8kTiBRFFfsVoBYzF7wXQhjAGC8ZjhnhGSgaYRqMGqsavRrAGrUanhp7GksaDhrFGXAZERmnGDMYtRctF54WCBZpFcQUGhRsE7kSABJEEYkQzA8MD0oOig3PDBUMXAuoCv0JUwmkCPEHPgeSBu0FTwW0BBkEfwPxAm8C7gFlAdsAZQAFAKj/P//U/nf+If7D/V39Av24/HH8I/zT+477Vfsg++v6tfp5+jb6/PnX+bb5fvkk+cD4bPgl+Nv3hvcu9972lfZR9gz2wPVr9RP1vvRo9Af0nfM189jyf/Ij8sTxa/EY8cjwePAw8PLvuu+E71TvK+8N7/Xu4+7W7tLu1+7j7vPuCu8s71Xvgu+w7+bvLvCJ8O7wVPG88SnynvIb853zHfSX9BX1oPU89tn2aPfo92L44Phg+d35VfrI+jn7rvsr/Kr8If2N/ff9ZP7P/jH/kP/w/0kAlADXACABdAHDAQQCQAKJAtsCIQNYA44DzQMLBDYEVwSCBL8E+wQnBUYFaAWPBa8FxgXcBfgFEAYZBhsGJwZABloGZgZoBm0GdwZ+Bn8GfwaBBoIGfAZyBmgGXwZRBjwGKQYkBigGJAYQBvsF+AUGBg4GAQbtBegF9QUEBg4GGwYuBjsGPgZKBnMGqQbPBt8G9gYsB3EHqwfaBw4ITQiKCLsI7AgkCWEJmQnQCQwKSgqACqsK1QoBCysLTgtvC40LowuvC7YLvAu9C7ULoguMC3ULWgs4CxAL4wquCnEKMgrxCbAJaQkdCc0IewgrCN0HkAc/B+oGlQZCBvAFnAVKBfwErwRfBA8EyAOJA0kDAAO0Am8CNAL7AcQBkwFoATsBDAHjAMEAogCBAGMATQA6ACEADAAHAAUA8f/F/57/iv9z/0H///7O/rH+jv5X/iP+/v3Z/aH9Z/1D/Sj99vyn/Fv8J/zz+6b7SPv4+rz6f/o2+uz5pPlO+eX4f/g0+Pn3rfdB98z2b/Yo9t/1f/UP9aT0RvTt85TzQfP68rjyb/Ik8ujxwPGa8WzxRPEy8SvxEvHh8LPwpPCv8LvwwvDN8OLw+/Ab8UrxivHM8QfyQ/KP8ubyPPOR8/TzavTl9Fn1y/VF9sT2Q/fH91j49viP+Rj6nfoy+9r7g/wf/bL9Sf7n/oX/HQC0AEoB2AFdAuQCeQMTBKAEGAWGBfsFcwbkBkwHsQcXCHMIvwgBCUcJlQnnCTEKagqPCqkKxQrlCv8KCAsHCwwLFAsTC/4K4wrVCtIKywq1CpAKZAo0CgAKyAmNCU4JBwm6CGsIGgjGB20HEge2BlsG/AWYBTEFywRsBBEEtANTA/UCnAJHAu8BlgFCAfQAqABYAAgAwf+B/0P/BP/I/pL+Yf4y/gb+4f3C/aP9g/1n/VP9Qv0x/R/9Ef0L/Qj9Bv0F/Qb9B/0J/Qz9Ff0i/S39NP05/UT9Vf1k/W79d/2C/Y79lv2b/aL9q/2w/a/9rP2s/az9o/2T/YP9eP1v/Vz9Pv0c/f784vzF/J78bvw6/An82/uq+3P7OfsA+8j6jvpR+hX63Pmk+W35N/kD+c/4lvhc+Cj4/PfU9633hfdh90D3JPcO9/728/bq9uT25fbr9vT2AfcW9zf3XveF96733PcR+Ez4i/jO+Bf5Yvmu+fr5Tfqn+gX7Yvu9+xn8efzc/EH9o/0E/mX+xf4j/33/1f8uAI0A7ABDAZIB4AExAoQC0gIbA18DoAPdAxgEWASbBNcEBwUvBVcFgAWnBckF6AUFBh0GKwY1BkEGVAZtBoIGiwaFBnoGdgZ4BnYGZwZTBkcGQQY0BhwGBgb7BfYF6wXXBcMFtAWnBZcFgwVxBV8FSwUyBRkFAAXlBMcEqQSLBG4ETgQoBP8D1gOuA4UDWgMsA/kCxQKQAlsCJALsAbIBeQE/AQMBxgCIAEsADgDV/5r/YP8m/+v+sf55/kX+Ev7h/bH9hf1b/TX9Ev3z/Nj8wPyo/JP8g/x6/Hf8dvx4/H38hfyS/KP8uPzR/Oz8CP0m/Uj9bf2S/bb92v3//Sf+UP54/p7+xP7o/gz/MP9T/3T/k/+u/8n/5P/8/w4AHwAtADsARgBPAFYAWwBbAFgAUwBNAEIAMQAdAAkA9v/f/8P/pv+L/2//Tv8o/wH/3f65/pT+b/5K/iL+8/3B/ZT9bf1J/SP9+/zU/K/8jfxu/FH8MfwO/Oz7zfuz+5n7fvto+1r7UftG+zv7Mvsw+zL7N/s++0r7WPto+3n7kfuu+9D78/sX/Dz8Z/yX/Mr8/fwu/WL9nf3e/R3+Wv6c/ur+QP+S/93/JQB4ANQAMQGHAdoBLwKHAt8CNwOSA/QDWQS5BA8FYAWyBQkGYwa6Bg0HXAemB+oHKghqCK0I9gg8CXUJmwm4CdoJAAodCisKMgo/ClEKVwpOCj8KOQo3CiwKEwr1CdkJuwmWCWoJOwkKCdUImghbCBoI1AeKBz8H9AamBk8G8AWOBS0FywRmBP0DkgMjA7ACPQLLAVsB5wBtAPT/ff8J/5b+JP6z/UP91fxo/P/7m/s7+936gPok+sr5dfko+d/4lvhM+Aj40Pee92v3M/f/9tf2uPad9ob2ePZx9mv2Y/Ze9mT2cvaF9pr2tPbV9vf2Ffc091r3ivfA9/j3L/ho+KL44fgk+Wf5pfnb+Q/6RvqB+rn67vok+137mPvN+/37LPxc/Iz8uvzm/BL9PP1i/Yb9qv3Q/fb9Gf44/lT+cP6O/q/+y/7d/un++/4U/yv/Nv88/0z/av+L/6H/sP/B/9n/9v8NACAAMwBOAHEAkwCvAMoA7QAeAVMBfgGfAcIB7wEkAlUCfgKlAtECAQMzA2kDpwPnAyMEVgSEBLUE7gQuBW8FqwXiBRcGSgZ8Bq4G5QYlB2QHlge1B9AH+AcqCFIIaQh6CJQItgjRCNwI5Aj0CAkJFwkYCRMJDgkKCQEJ8gjcCMMIqgiQCHMIUAgnCPwHzgebB2QHLgf4BrsGdgYsBuUFnQVQBf4ErARaBAYEsANZAwQDqgJMAuwBkAE0AdUAdQAXAL3/X////qL+S/72/aD9Rf3q/JL8P/zz+6r7XvsN+776ePo6+vz5ufl4+T75C/nc+LL4k/h6+GH4RPgt+CD4Hfgd+B/4J/g0+ET4Vfhq+In4svjf+Az5O/lu+af55Pkk+mb6p/rm+if7b/u++wz8Vfyc/OT8Lf1x/bL98v02/nr+u/75/jT/bv+k/9r/EwBMAHwAogDJAPYAIAFAAVgBdgGfAcoB6QH8AQwCIQI7AlECXwJpAnQCgwKTAp0CoAKkArQCzALcAt8C3ALgAu4C+gL/Av8CAAMEAwsDFQMjAzMDPwNGA0kDTwNZA2cDdQOAA4gDjwOXA54DpQOuA7sDygPQA8wDyAPNA9oD4wPiA94D3gPgA90D1wPTA9EDxwOyA5kDhQNxA1UDLwMFA90CuAKQAmMCLwLyAbABcQE7AQYBxQB3ACgA4P+b/1b/D//J/oD+MP7c/Y79S/0L/cP8c/wj/Nz7m/te+yD75Pqr+nj6Sfof+vX5yfmf+Xv5YPlL+Tj5JvkY+RD5DfkP+RT5Hvkt+T/5Vflw+Y/5svnY+QH6L/pf+pL6yPoA+zr7dPuu++v7Lfxx/Lb8+vxA/Yf9z/0U/lf+m/7g/ib/aP+m/+H/GwBWAI8AwwDzACEBSwFxAZIBsgHPAeYB9QEDAhYCLQJCAlECWAJaAloCXAJkAm0CdgJ6AnkCdAJrAmYCaQJzAnoCeAJ3An4CjgKdAqYCqwKvArcCxALbAvYCCwMUAxsDMQNVA3wDnAO3A9MD8AMOBDIEYASUBMME5wQJBTUFaQWbBcYF6wURBjcGWgZ4BpQGrwbJBuAG9AYFBxIHGwcjBycHKAclBx8HFgcIB/kG6AbUBroGmwZ7Bl0GQwYnBgUG4QW7BZUFcQVNBScF+wTJBJcEZgQ3BAYE0wOeA2kDNAMBA84CmQJeAiIC6QGwAXABKwHoAK0AcwAyAOn/oP9c/xv/2/6d/mD+I/7o/bL9f/1K/RD92fyo/Hz8S/wW/OH7r/t7+0X7Evvo+sH6mfpu+kf6JvoJ+u751/nE+a35k/l6+Wr5X/lN+S/5Dvnz+OH40fi8+KT4jfh7+Gn4WPhH+Dn4Lvgm+CD4HPgZ+Bj4Gfgf+Cn4NPg/+Ez4X/h2+I74pvjB+OD4Avkj+Ub5bvmX+b755fkS+kv6h/rA+vP6KPti+5/74Psn/HT8vvwA/UD9jf3m/UH+kf7a/ij/gf/f/zoAkgDnADoBiwHeATMCiQLbAisDeQPHAxIEWQShBOsENAV3BbcF+QU8BnwGtQbnBhUHQgduB50HygfwBwoIHwg6CFoIdwiMCJoIpgiwCLgIvAi/CL8IvAi1CKoInQiMCHgIYQhHCCoIDAjqB8UHnAdxB0cHGQfkBqkGbQY3BgQGzgWTBVYFGwXfBJ8EWwQbBOADpQNlAx8D2QKXAlYCEwLNAYkBSQEMAdEAlQBaACIA8P+//43/WP8k//X+yv6g/nf+T/4p/v/91f2t/Yz9bv1Q/TL9F/3//Ov82fzK/L38svym/Jz8l/yV/JD8ifyF/Ij8kfyc/Kb8r/y7/Mv83vzy/Af9Hf03/VH9bP2K/az90v33/Rr+Pv5m/o/+tv7a/vz+IP9G/2z/j/+v/87/7P8JACUAPgBVAGsAgACTAKIArQC2AL4AxQDJAMkAxwDDAL8AugC0AKwAoQCYAI8AhwB7AG4AYQBUAEYAOAAqAB0ADwABAPT/5//b/87/wP+0/6n/oP+V/4n/ff9z/2r/Y/9b/1L/SP9A/zr/Nv8w/yj/H/8Z/xT/EP8L/wb/A/8B/wD///7//gD/Av8F/wn/D/8V/xz/I/8t/zn/RP9R/2D/c/+G/5j/qv+//9b/6//6/wUAEwAlADgASABUAF4AaQB0AH4AhgCNAJIAlwCbAJ4AoAChAKAAnQCcAKAApQCoAKgApgClAKUApgCnAKgApwCmAKYApgCmAKIAnwCfAKQAqwCwALIAswC1ALoAwADEAMkAzADQANUA2gDfAOMA5wDrAO4A8QDyAPYA/gAHARABFgEaAR4BJQEuATYBOgE9AUUBUgFeAWQBZgFsAXkBiAGUAZ8BrAG7AckB1gHjAfEB/wENAhoCJwIyAjwCRwJVAmMCbwJ6AoYClAKiAq4CtwK/AsgC0QLZAt8C4wLnAukC6gLqAukC5gLiAtsC1ALLAsICtwKrAp4CkAKBAnECYAJOAjsCKQIWAgMC7wHaAcYBtAGhAYwBdQFeAUgBMQEYAf4A5QDLAK4AjgBwAFMAMwAQAO7/z/+x/5H/cP9R/zT/FP/v/sf+o/6D/mX+Rv4o/gn+7f3T/bz9pP2H/Wf9S/04/Sf9Ef3y/NH8t/yj/JD8e/xm/FP8Q/w2/Cn8HfwT/Az8CPwG/AX8BvwJ/BD8Gfwk/DH8P/xP/GL8d/yN/Kb8wPzd/Pz8Gv04/Vn9ff2g/cH94v0K/jn+a/6a/sX+8P4f/1H/hv+3/+T/EABDAHwAtQDpAB4BWAGVAcoB9QEcAksCfwKzAuICDQM3A14DgQOlA80D9QMZBDcEUgRvBI0EqAS/BNME5wT8BA0FGwUkBSoFMAU1BTYFMgUqBSQFHwUaBRAFAAXvBN0EzQS7BKUEiwRsBEoEKAQHBOMDvAOTA2kDPwMUA+gCuwKMAl0CLwICAtQBowFxAUEBEgHhAK8AfABJABgA7f/G/6L/fv9Y/zT/Ff/3/tb+tf6X/n3+X/43/gv+5P3F/an9h/1h/Tz9HP0A/eT8w/ye/Hf8Vfw6/CH8AvzZ+677jPtz+1/7Rvsp+w/7/Pru+uH60/rE+rn6sfqt+qr6qPqp+q76s/q2+rn6vfrH+tT64vrv+v36Dvsh+zX7Sftf+3j7k/uv+8n75PsE/Cz8WPyE/K782PwF/Tj9bP2g/dH9A/47/nv+vf75/jH/bf+z////QwB+ALcA/ABNAZ4B5AEhAmECqgL8Ak4DngPsAzsEigTYBCMFawWyBfkFPwaBBroG7QYgB1kHkgfDB+cHBAgmCFAIeAiUCKUItAjHCNgI4AjeCNoI1gjRCMQIrwiUCHcIWQg3CA4I3weuB3wHRwcMB80GjQZMBggGwQV6BTMF5wSSBDgE4QOPAzwD5QKMAjUC4QGLATcB5wCZAEkA9/+m/1n/C/+1/lv+Bv67/XX9Lv3j/Jr8Wfwg/Of7qftm+yX77vrB+pb6a/pB+hb66vm9+ZL5cPlU+Tz5IvkJ+ff47fjm+Nr4xviz+Kj4qfir+Kj4o/ik+Kv4tvjA+Mr42fju+Ab5IPk6+Vf5dvmZ+b754/kJ+jP6YPqO+rv65/oX+0n7evuo+9r7Dfw//G38nfzQ/AD9J/1N/YD9v/31/Rf+M/5h/qH+3/4K/yz/V/+N/8D/5v8GAC0AVwB/AJ8AvADZAPYADwEkATcBRQFSAWEBcwGGAZQBmwGjAbEBwQHOAdYB3AHmAfEB+QH+AQMCCAIKAggCCAINAhUCGAIWAhMCEgIUAhUCEgIPAgwCCgIHAgIC/AH1Ae4B6AHfAdQByQHBAb0BuQG0AasBowGcAZgBlQGPAYgBgwGEAYgBjAGOAZMBnwGxAcIB0AHeAfEBCAIeAjMCSAJhAnoCkwKqAsAC2ALuAgQDGAMrAz4DTgNdA2sDeAOCA4oDkAOVA5gDmAOWA5MDjwOJA38DdANoA1oDSAM2AyQDEQP3AtgCuAKYAnQCSQIaAusBugGEAUgBCQHIAIQAPADz/6b/Vf8B/6z+V/7+/aH9Rf3r/JT8Pvzn+5D7OPvh+o76QPr2+a75afkr+fP4v/iN+F/4Ovga+Pz34PfO98T3v/e797/3y/fb9+73B/gr+FP4dvie+Nr4J/lw+aj53vkt+pP6+fpP+6L7BPxy/N38Pv2f/Qj+c/7a/jz/nv8AAF4AtgAMAWEBsQH7AUQCkALbAh8DWQOQA8oDAwQ1BF4EgwSmBMcE4gT4BAsFGgUhBSEFIAUjBSMFHAUKBfUE4wTSBLsEnwSCBGcESwQoBAEE2QOzA40DZAM5Aw4D5AK4AooCWwIuAgEC1AGoAX0BVAErAQIB2wC2AJMAcQBSADUAGgABAOr/1//G/7X/n/+K/3n/bv9l/1j/R/81/yf/Hv8V/wf/8/7f/s/+wv61/qP+kv6F/nr+bP5X/kL+Lv4d/g3+/f3u/dz9xf2r/ZT9gP1s/Vf9Qv0s/RP99vza/ML8rPyS/HL8Ufwz/Bj8/fvh+8X7q/uU+4H7bftV+zb7E/v1+t/6yvqx+pb6fvps+lr6R/o0+ib6HPoU+gz6B/oJ+g36DvoS+iH6P/pj+ob6p/rN+vz6Mftm+5371/sV/Fn8qPwD/Wb9yf0r/o/++P5l/9P/QQCwAB0BigH8AXQC7QJfA8kDMASVBPsEYgXJBS8GjwboBjkHhAfNBxYIXwilCOYIHglNCXUJmwm9CdUJ3wnjCewJ/gkRChUKCgr6Ce8J4wnOCbEJkwl1CVEJJgn3CMkIlghaCBwI4QenB2UHGwfSBpAGTAYABrEFawUnBdgEdwQQBLMDXQMEA6YCRwLkAXQB+ACAABgAt/9C/7j+Lf6x/UD9xvxD/Mb7Vfvp+nr6Dfqs+Vb5+viT+C742veV91P3DPfL9pr2c/ZM9ij2EPYI9gD27fXT9cr13fUC9ij2SvZy9qX24PYh92n3ufcL+Fn4pvj7+Fr5ufkS+mj6xfom+4T73Ps0/JP89PxO/aT9/v1d/rf+CP9U/6j/BABiALoADgFhAbQBAwJPApgC3gIfA14DowPwAz0EgwTBBPwENwVwBacF2wUJBjEGVQZ7BqUGzQbsBgIHFAckBzMHRAdXB2gHcAdrB18HUQdDBzcHLAciBxMH/QbhBsYGrAaNBmkGQQYbBvYFzAWdBWsFOQUFBc4ElARbBCEE5AOmA2oDLQPrAqICVwIPAssBhwFCAf0AtQBoABsA1P+W/1n/Ff/K/oH+Qv4H/sz9kP1Y/Sb9+PzK/J/8ffxf/ED8Hvz+++j72PvK+7v7sPus+6z7rPuu+7b7xPvS+9v74/vx+wj8I/w+/Ff8cvyR/LL81Pz2/Bj9OP1V/XL9kP2x/dD96v0B/hr+M/5J/lz+cf6H/pj+nP6Z/pr+ov6m/pr+gf5o/lH+Nf4S/vH91f2y/YD9R/0X/fX80Pyd/Gf8Pvwk/BD8+fvm+9z71/vU+9b74vv0+wf8HvxE/H38vvwA/UT9kP3i/Tn+lv78/mP/xP8mAJkAIQGtATECswJAA9oDdQQNBasFUQbxBoEHBgiMCBYJnAkcCpYKCwtyC8oLHQx4DNMMHQ1RDXcNnw3IDeYN9Q35DfUN5g3IDZ8Ncw1EDQoNvQxhDAAMnAswC7gKOQq2CS4JoAgKCHMH3AZEBqQF/gRYBLYDGAN4AtcBOgGkABIAgv/2/nL++P2B/Qr9l/ww/Nn7ifs5++n6ofpk+jP6Cfrl+cP5pPmM+X75ePl0+W75avlv+Xn5gfmF+Yz5nvm1+cb5zPnP+dr57/kB+gj6BvoF+gz6Fvoc+h36Hfod+h76H/oc+hb6Cfr4+ej53vnU+cX5svmg+ZH5g/ly+WT5W/lR+Tv5H/kN+Qn5A/nr+MX4pPiO+Hz4ZvhT+Eb4NPgT+O731/fP98P3qPeK9333gfeI9433lfei97L3w/fc9wH4KfhN+HX4rPj2+EX5kfng+Tr6nvoG+3X76ftf/M/8Q/3K/Wf+Cv+m/zwA3gCNAT4C5AKDAycE2gSQBTcGzAZfBwUIvQh0CRwKvQpkCw0MsQxRDfQNlw4sD6oPGRCFEO0QShGdEesRLhJbEnISiRKuEtIS4BLQErYSoRKPEnQSSxIaEuERnBFKEfIQmhA+ENgPZg/xDnsOAQ59DfMMaQzgC1ULxQoxCqAJEQmACOwHVwfCBikGiQXpBE8EuQMdA3UCyAEhAYUA7/9S/6/+D/53/er8YvzX+0r7vvo7+sP5Vfnp+Hz4Dvil90j39fal9lP2Afa79YT1UvUX9dH0jPRU9C30CvTi87LzhfNj80vzNPMd8wbz7vLT8rryrfKr8qfylvJ+8nDycPJ08nfygvKV8qXyq/Ky8sfy5/ID8xXzK/NP84DztfPr8yL0V/SN9Mj0DPVV9Z314/Uv9oX25fZK97P3IPiZ+B/5qvkx+rn6T/v/+8P8i/1P/hX/4v+zAIQBTgIUA+IDvgSgBXAGJwfaB6QIhQlkCjEL9QvDDJQNXA4eD+MPqRBdEfcRhBIME4wT/RNnFNAUKhVlFYoVsxXrFRsWKhYaFgIW7hXZFbcVhxVLFQMVrxROFOETahPpEmAS1BFFEbAQEhBpD7oOCg5dDa0M+AtBC40K3QkqCXIIuQcEB0wGjQXQBCIEfgPRAhQCVwGwABoAgv/c/jT+mf0N/Yf8BPyF+wv7mfow+tT5fvkq+dj4kvha+C34Bvjh98D3o/eO94H3efdz9233bPd394f3k/eW95b3m/er98H30/fd9+P37Pf79w34Gvgi+CX4Jvgo+Cz4NPg6+Df4Lvgn+CX4I/gg+B/4JPgn+B74Cvj39+r33vfO9733rfeg95b3kPeL93r3XvdG90T3TPdG9yb3APfl9tb2xPaw9qL2mPaL9nb2ZfZa9lH2RPY29jD2MPY09jv2R/ZS9lb2V/Zg9nX2i/ab9qf2uPbR9u72Dfcy9173kvfN9wv4SviN+Nv4O/mq+R76lPoN+437FPyd/CX9rP08/tn+fP8WAKMAMgHRAX4CKgPPA3cEJQXUBX4GKgfeB5EIOgnZCXgKFguqCzgMygxiDe4NYw7NDj4PtQ8gEH0Q1RAvEYIRxRH7ESsSUhJoEm8SbBJjEk4SKxIBEtYRpxFqER0RyBBwEBQQrA89D80OWw7gDVoNzgw/DKkLBwtjCsgJNAmWCOUHMQeHBuYFPQWGBM0DHgN2As4BJQF+ANv/N/+V/vb9WP21/A78bvva+lD6xfk4+az4Jvim9y33uPZF9tf1cfUZ9cn0dvQc9MbzfvNE8xDz3fKt8oTyW/I08hbyCPIE8vzx7vHq8fvxGfIx8j3yR/Jf8oLyqPLN8vbyKfNk86Lz4PMf9GH0p/T29E31qvUL9m/22vZM98D3Mvil+B/5ofkn+qn6J/un+yz8tPw9/cj9V/7o/nf/AQCMABoBsAFLAukChgMgBLkETwXhBWsG8QZ2B/4HhQgDCXUJ3glICrcKJguOC/ALTwyvDA0NaA3CDR0Odg7FDgYPQA96D7QP6w8bEEMQZhCDEJkQqBCwELIQrBChEJEQehBbEDMQBhDRD44POg/aDnUOCQ6VDRoNmgwSDH4L2wowCoIJ1QgkCGsHqAbdBQsFNARdA4cCsQHaAAUANf9o/pv90fwO/FP7oPr0+VP5vPgu+Kj3Lfe/9l72CPa79Xv1T/U19Sn1KPUy9Uj1bfWh9eD1K/aB9uP2UvfI90X4y/ha+fP5kfox+9T7dvwZ/cD9bP4W/7f/VQD9ALYBcwIlA8wDcQQZBbwFWAbuBoMHEQiUCA8Jhgn0CU4KmgrrCkcLoQvpCx8MTgx7DJ8MuAzJDNYM3AzYDMsMtwyZDHEMPwwGDMoLiQtAC+0KlAo3CtYJbwkBCZIIJQixByUHgAbPBSMFdQS2A+MCAwIhATwAVf9r/nv9fPxx+2T6X/lY+EL3IPYB9fLz7fLo8eDw3e/q7gruNe1e7H7roera6S/pl+gH6H/nCOem5lfmF+bq5dHlzuXc5f3lNOaA5t3mR+fC51Lo9+in6WHqKusG7O3s1+3I7svv2PDg8eTy9PMT9Sf2J/cq+Ez5fvqh+7b83/0h/1IAWwFcAn4DtgTaBekGCAhBCWwKbQtgDGUNcA5ZDycQAhH5EeoSsRNcFAYVsBVGFsoWThfTFz8YgxiuGNQY8RjxGNQYqBh1GC4YyhdTF9wWZxbjFUcVmhTrEzgTeBKnEc4Q9Q8YDzMOSA1cDG4LeQqDCZwIyAf+Bi8GXgWZBOYDOwORAuwBWAHVAFoA5f95/x7/z/6D/jr++v3E/ZP9Y/04/Rn9A/3w/N781fzW/NP8vfya/Hn8YfxI/B/85fui+177G/vW+oz6Ofrd+X/5JfnL+Gb4+feO9y330fZu9gr2rPVW9QD1qfRi9DT0E/Tw88zzuPO8883z4PP78y30b/Sv9OX0IPVv9c/1MPaO9vP2Y/fX90j4uPgx+bD5Lvqn+iP7p/su/K38I/2Z/Rv+pv4v/7D/KQCiABwBlQEIAnYC4QJIA6cD/gNQBJwE4wQhBVYFhgWzBdYF6gXtBd8FwQWTBVMFBAWsBEsE2wNdA9ECPwKnAQgBYgC6/xH/Zv65/Qr9Wfyo+/X6Q/qV+er4Rfim9w73ePbm9Wz1MfVC9X/1t/Xu9WL2Qfdr+JX5qPrj+4r9kv+2AdED9QVDCLMKKg2hDycSuhREF7UZFRxzHsUg9CL1JNomsyh9KhgsXy1FLuQuay/oLzEwBTBXL1guPC3/K3gqnyiQJl0k9CFPH4scwBnVFrMTfBBlDVoKCwdrA+H/zPwE+hv3+vMA8W/uHOzJ6Yrnm+X242vi/+Dn3x/fWN5p3ZLcFtzO21rbrtoi2urZ1tmh2U7ZENn12N7Ysdhu2AfYY9eD1pPVttTf0+PSttFw0DLP/83FzHvLL8r6yOLHzcapxZLExMNWwyHD8cLKwtHCIMO3w6PE+8W4x6vJvcsXzvbQS9TQ11jbCt8l47nnnOyU8YD2aPt2ANMFcwsbEaIWGhyrIVQn4iwzMlE3TDwiQdBFX0rKTuRSilbVWQVdKGAJY21lV2f1aFxqemsybIBscGwLbFFrP2rRaBNnHmUDY7dgJV5MW0ZYJVXlUXxO90pmR8RDAUAoPF84tDQPMVstqCkYJq8iWB8OHOMY4hUDE0EQqg1BC/YIuQaaBKsC4QAn/339+vuc+kP53/eE9kf1FfTN8nLxH/DO7k/theuO6Znnq+Wa40bhyd5X3AHandf71CPSR8+IzNzJMceWxBvCqL8bvXy6/7eztWuz/bCErkGsQ6pgqHqmn6TromihEaDbnqudXJzymq+Zzpg7mLOXG5eallyWXpaClsGWKpfKl6SYrpnZmhyckJ1fn5ahCKSKpiepA6wer1WypbU0uQC9ycBoxBDI/8sK0MTTFddl2g/e4uFv5Z/ou+vh7tjxcvTr9pP5V/zV/uAAuQKlBKQGlgh9CmAMHw6TD+oQjRKZFLMWiBg9GjUcgx7WIPIi9iQgJ3Qp1ytFLsYwQDOKNa437DlwPBI/jUHMQ/ZFNEiKStxME08oUSRTDFXdVoZYCFpyW95cTF6lX85gxmGXYktj4mNbZK5k1GTJZJZkQ2TPYypjT2JGYR9g2l5vXddbFVoyWDRWFVTYUYpPOk3nSnlI20UUQz1AYj1xOl83PTQkMQ4u4yqhJ2gkTiE9HhEbyhd/FEcRIA4LCwkICwX1Ab7+dvs0+PL0nfEw7rXqOOfB41jg89xv2bbV6NFFzuHKjscfxJXAEL2auSe2uLJdrxGsvahbpRCi/Z4WnDeZWZaXkxWR0o6tjImKaoh3htmEm4Ohgs2BHoGkgHCAh4DugJeBYII0gz6EyIXjhzqKdYyhjh6RH5Ryl8yaNZ7joeelC6oarhWyGrY7un2+6MJ3x//LUtB71L3YQt3r4Xvm4+pM79PzYfjL/AkBOQVwCa0N4REEFgwa4R17IfEkaSjwK2kvqzKvNYs4WjsgPtNAYkPIRQdIJkohTPBNlU8dUZhSDFRqVaBWnFdaWN9YQlmSWcZZv1lxWexYRlh8V3pWPFXTU0VShVCPTndMR0rjRydFH0ICP/I71jiPNSQyti5EK7An7CMYIFwctxgOFU8RhA25CfAFMQKE/un6VvfC8zjwz+yP6W7mXuNj4JDd8NqA2C3W6tO/0cXPEc6lzGzLUcpOyW/Iy8dtx0jHQMdEx2THwsdwyGDJd8qmy/TMaM4B0LfRgtNl1W3XpdkC3Gjew+AZ44blG+jR6ontL/C/8kv15/eT+kH93v9rAvMEdAfcCSIMVQ6EEKcSqRSEFksYDhrGG1wdxx4PIEMhZyJ6I3MkTSUDJpgmECdsJ64n2if2JwcoCCj0J74nXifXJjwmnSX4JDUkSSNBIjAhHCD6HsIdeRwhG7sZShjWFmEV3hNEEp0Q/w5tDdULLQqECO0GZwXeA0cCrQAk/6/9Sfzo+oj5K/jT9on1UfQo8wfy6vDV79Hu5O0N7UjsjOvX6jbqvel06U3pNOkp6TLpU+mG6cfpGeqD6gjrqetp7EXtLu4a7xPwKPFc8qLz7fQ79o335vhI+rb7Mv20/i8AoAEMA3YE3wVDB6AI8QkwC1gMbA11DnYPahBFEQISphI6E8MTPhSiFO0UIBU5FTcVHxX9FNcUqBRpFBgUsxM2E58S+xFYEbYQBBA4D14Ohw21DN0L+woWCi0JPghLB2AGfgWXBKEDqQLBAesAHABS/5H+2P0d/Wj8z/tL+7L67fka+W748fd99/v2f/YY9rX1S/Xz9Mn0svR39BH0sPN380fz9/KJ8iny7PG/8YvxT/EY8fDw1/DC8JfwTPDz77Lvku9/72XvSe807yLvDO8B7w3vIu8t7zjvXO+Q76fvj+9p72Dvc++K75/vsu+r727vDe/K7sHuwu6F7gDuZu3m7IbsMuzb63vrDOuR6hHqlukk6cjolOiQ6KnowujK6Mno1ugD6UvpnOnk6TXqtOp062DsTu0k7urutu+Z8JLxkfKI84H0lvXY9jX4h/m6+tX76/wM/jf/WgBgAUwCSQN+BNEF+AbRB4wIbgmECqILnwxxDSAOuA5PD/MPjBD/EFgRxRFVEt0SQBOoE0cUCxWqFQgWURawFhkXahetF/0XWBieGMgY9hhFGakZAxpEGm8ajhqtGtQaBBsvG0gbTRtDGzMbJRseGxUb9hq5GnEaNxoIGtIZjRk9Gd0YYRjTF1YX/BasFkMWtxUWFWwUuBMHE2YSyxEQESUQKg9HDoQNywwIDDILQAoxCRgIFgcvBkgFTwRMA1MCaAGFAKv/1P7p/eT86vsk+3z6sPmh+IL3lPbW9Rr1VvSh8/nyNvJT8Y/wGfC87xXvGO4a7WPs1Osq61nqmOkC6X/o6udK573mVOb65ZHlCuVy5OXjfOMz4/TisuJ24kriK+IR4gHi9uHh4b7hqOG84e3hBuLx4dDh1OH74SHiPeJj4pXituK44sbiD+OG4+Pj/uP64xTkXeS15P3kOuWA5dHlIOZl5qrmAud45wXol+gd6ZnpG+qt6kfr0etB7KHsEe2o7V/uHO/J72Xw+/CN8RnyofIy883zZ/T19H71DPag9iz3rfcu+Lr4S/nV+U76v/oy+6n7Fvxr/K389PxV/cn9PP6c/ur+L/9z/7T/8v8nAFQAgAC7AAgBWwGkAdsBBwIvAlgCgAKkAsEC2gIDA0YDlAPPA+8DCgQ7BIME1QQlBXAFsgX0BUMGqAYPB2gHuwcmCKgIIgmFCe0JeQobC6wLIwyfDDUN0A1YDs0ORw/HDz0QoBD/EGQRxhEbEmUSsxIKE1wToBPYEwsUQBR3FK0U3BT8FBQVMBVZFYQVpRW7FdMV7hUAFgIW/xUJFhsWJBYdFhUWFRYWFgkW7xXUFbkVmRVwFUUVGxXtFLcUgBROFB4U5xOoE2UTJBPnEq4SeBI9EvsRtxF9EUsRDxHAEG0QKBDuD6oPUw/6DrEOdA4yDucNnA1VDQoNtgxdDAcMtQthCwgLrgpcChAKvwlgCfYIjggrCMUHUQfWBmEG+QWWBS4FwQRYBPUDlQMwA8ICRwLLAVsB+ACUACUArP81/8j+Yf75/ZP9Lv3K/Gf8Cfyv+1P77fqE+iL6zPl++TH55/ij+GP4Ifjh96X3c/dG9xz39vbX9sH2svak9pr2lvaW9pD2gPZr9mH2ZfZx9nn2ffaG9pj2qva39sL20vbq9gT3Hvc79133gvem98n38PcY+Dz4Wfh1+Jf4v/jl+An5LvlV+X35oPnD+ej5D/oz+lX6e/qp+tn6B/sy+2P7mfvM+/X7Fvw5/GH8jPyy/NX8+vwm/VT9f/2j/cb96v0M/iz+Tf51/qD+yP7q/gr/Lf9O/2j/fP+O/6T/v//d//r/EwAoADsAUABqAIcAoACyAMYA4AAAASABPQFYAXMBkAGsAccB4wEAAiACPwJcAncCkQKsAskC5QL/AhYDLANCA1kDcQOIA5sDqQOzA7wDxwPSA9wD5QPtA/MD9QP2A/UD8gPrA+ID2QPRA8gDuwOqA5kDhwN1A2QDUgM/AyoDFAP/AuwC2gLHArECmwKHAnMCYQJRAkACLwIgAhQCDAIDAvgB7gHqAeoB6QHkAeAB4wHuAfwBCgIZAikCOAJIAlwCcgKFApMCnQKrArwCywLXAuQC8wIBAwoDDwMYAyMDKgMlAxwDFQMTAw4DBQP7AvIC6ALZAsYCtwKqApcCeQJXAjgCIAIHAugBxgGmAYoBbQFMASkBCgHuANAAsQCUAHoAYwBJAC0AFgAEAO3/zf+o/4r/c/9b/z//I/8N//n+4f7H/rL+ov6O/m/+TP4v/hr+B/7w/dj9w/2x/Z/9iv13/Wr9Yf1X/Ub9MP0a/Qr9/vzy/OP81vzM/MP8uPyt/Kb8o/yf/Jr8l/yX/Jb8kfyM/Iv8jvyR/JL8lPya/KD8pfyr/LP8vfzE/Mj8zPzT/Nz85fzu/Pb8//wJ/RT9Hv0n/TL9Rf1e/Xr9k/2q/cL93v39/R3+O/5X/nf+n/7N/vz+KP9Z/5P/0/8OAEMAdQCuAOwAKgFiAZcBzgENAlACkQLOAgsDSgOMA8oDBQQ+BHgEsgTlBBQFQQVuBZUFtgXVBfcFFwYwBkIGUQZeBmgGbQZvBm4GbAZkBlcGRwY1BiEGCQbsBcwFrAWKBWUFPQUUBeoEwASUBGUENgQHBNgDpgNwAzgDAQPLApgCZAIvAvsByAGXAWcBNQEBAc8AoQByAEAADQDd/7L/iP9d/zL/Cv/l/sH+n/5//mL+Sf4x/hv+BP7r/dH9uv2m/ZX9hP1z/WT9Vv1J/UD9OP0w/ST9GP0Q/Qz9Cv0H/QP9Av0E/Qf9Cf0O/RX9Hf0m/TD9O/1I/Vb9Zf11/Yb9mf2s/b/90/3p/f/9Ff4q/kH+WP5u/oP+mP6u/sP+2P7r/v/+Ef8j/zX/Rv9W/2X/dP+B/43/l/+h/6v/s/+4/73/w//H/8n/yf/K/8z/yf+//7P/rv+u/6r/nf+J/3f/aP9X/0P/MP8f/w7/+v7l/tT+xf61/qT+lf6I/nj+Yf5G/i3+GP4C/ur90f25/aD9h/1w/Vr9Q/0n/Qn97vzZ/MX8rvyW/ID8bvxd/Ez8Pfwx/Cj8IPwa/Bf8FvwY/Bv8Ivws/Df8RfxV/Gb8d/yN/Kv8z/zy/BP9Nf1g/ZT9yv3//TP+a/6l/t/+HP9f/6X/6f8nAGUAqgD1AD4BggHEAQgCTQKOAsoCBQNAA3cDqQPXAwYEOARmBI0ErATHBN4E8wQGBRkFKwU5BUAFQQVBBT8FPAU3BTAFKAUcBQ0F+gTmBNQExQS2BKUEjwR6BGYEUgQ8BCUEEAT7A+UDzQO1A54DhwNvA1YDPwMnAw8D9wLgAscCqAKFAmUCSQIrAgkC5gHFAaUBggFdATwBHAH5ANAApQB/AFoAMAAAANP/rf+K/2P/NP8D/9f+rv6E/ln+Lv4F/t79t/2S/XD9T/0w/RP9+fzg/MT8pfyG/Gn8UPw5/CH8Cfzz+9/7zfu9+637nPuK+3n7avtf+1b7TftE+z77Ofs3+zX7Nvs4+zz7QvtK+1T7YPtu+337jvug+7b7zfvk+/r7FPwz/FT8dfyT/LP81fz2/BP9MP1R/XX9lv20/dP9+v0l/k/+dv6f/sz++v4m/0//fP+t/+D/DgA6AGYAlgDIAPcAJAFRAX4BqwHVAfsBIgJIAmwCiwKoAsYC5gIFAyEDOQNOA2EDcwOFA5gDqgO5A8YD0QPaA+ID6QPwA/YD+wP+AwAE/wP6A/QD7gPoA+ED1gPJA7wDrgOeA4sDeQNpA1kDSAMzAxsDAwPtAtcCvgKjAokCcwJeAkYCKAILAvMB3QHFAaoBkQF8AWYBTQEzARwBBwHvANUAvAClAI8AeABiAE4AOwAlABAA/v/r/9T/uv+j/5D/ff9o/1L/P/8u/xz/Cf/4/uv+3f7M/rz+rv6i/pX+hf54/m3+ZP5Z/k7+Rv5A/jv+NP4u/iv+Kv4q/in+Kv4t/jH+Nv47/kH+Sf5T/lz+Z/5z/n/+jP6Y/qb+tP7D/tH+4P7w/gD/D/8e/y//Qf9S/2H/b/99/4z/mv+o/7X/wv/P/9v/5v/w//n/AQAJABEAGAAeACQAKQAuADEAMwA2ADgAOgA6ADoAOQA4ADYAMwAwAC0AKQAkAB8AGgAVAA8ACAACAP3/+P/x/+r/4v/b/9P/y//E/73/t/+w/6n/ov+b/5X/j/+K/4T/gP97/3f/c/9v/2z/af9m/2T/Yv9h/2D/YP9h/2H/Yf9j/2X/af9s/27/cf90/3j/fP9//4P/iP+M/5H/lf+a/5//pP+p/67/s/+4/77/w//I/8z/0f/W/9r/3//i/+b/6v/u//H/9f/4//r//f///wAAAgAFAAgACgALAA0AEQAVABcAGQAbAB4AIgAlACgAKgAtADEANQA4ADwAPwBCAEUASQBOAFEAVABXAFsAXwBjAGgAbQByAHYAegB+AIIAhQCIAIsAjQCQAJIAkwCVAJcAmACZAJgAmACYAJcAlQCTAJEAkACNAIoAhwCEAIEAfgB5AHUAcQBtAGkAYwBfAFoAVgBSAE0ARwBDAD8AOgA2ADEALQApACUAIgAeABsAFwAUABEADgAMAAoACAAGAAUAAwACAAEAAAAAAAAAAAAAAAAA//8AAAAAAAAAAAAAAQACAAIAAwAFAAYABwAIAAoADQARABUAGQAfACQAJgAmACUAJwAsADEANQA3ADkAOgA5ADcANAAyADAALgArACgAJQAjACAAHQAXABEADgAOAA8AEAAPABAAEwAVABUAEQANAAoABwAGAAYABgAEAAAA+v/0/+//6//q/+v/7v/v/+3/6f/l/+P/4//i/+D/3P/Y/9b/1P/S/87/yv/I/8f/x//G/8f/yP/H/8X/xP/F/8X/w//A/8H/xv/K/83/z//U/9n/3P/c/9v/3f/j/+n/8P/3//r/+v/4//j/+/8AAAMABgAKAA4AEAAPAA4ADQAMAA0ADwASABUAFgATAA8ADQAOABAAEgATABQAFQAVABQAEwASABIAEgASABIAEwATABEADwAOAA4ADgAMAAkABgABAP7/+//8//7/AAABAAEAAQAAAAAAAQADAAUABQAFAAcACwAPABAADwAMAAsADAANAA0ADAAMAA8AEgAUABMAEQAPAAwACAAFAAQABAADAAAA/P/5//b/9P/x/+3/6f/l/+L/4f/e/9v/1//T/9D/zf/K/8r/zP/O/87/yv/F/8P/w//E/8T/w//B/8H/wf+9/7j/tf+0/7f/u/+//8P/yP/J/8b/wv/A/8H/xP/G/8j/yv/N/8//0P/R/9P/2f/g/+X/6f/r/+3/7v/s/+n/5//p/+z/8P/w/+3/6v/n/+f/6P/q/+r/6//s/+//8f/w/+7/7P/v//T/+P/5//f/9P/w/+//8P/y//P/8v/u/+z/7P/t/+r/4//d/9z/3v/d/9j/0//S/9P/0f/N/8r/yv/L/8v/yf/I/8r/zv/T/9X/1f/V/9X/2f/f/+X/6v/v//H/9P/4//7/AgACAP3/8//m/93/2v/c/97/2f/L/7j/qP+e/5r/mf+Y/5b/lf+U/5L/j/+N/4z/jv+Q/5P/lf+X/5n/m/+e/6D/o/+m/6n/rf+y/7f/uf+9/8L/xv/J/8r/0f/h//b/CQAXAB0AIAAjACsAPABVAG0AewCCAIcAiwCQAJMAlwCbAJ0AnwCkALEAwgDRANgA2QDXANcA1wDWANUA1ADRAM4AygDEAMAAvAC4ALUAsgCwAK4AqgCiAJoAlQCTAJQAlQCUAI8AigCGAIIAfwB8AHoAdwBzAG0AZgBfAFoAWABXAFQAUQBMAEcAQAA6ADQAMQAvACsAKAAkACEAHQAYABQAEAAOAA0ADAAKAAcAAAD5/+//6P/k/+L/3//Z/9T/0P/O/8v/xf++/7v/u/+5/7P/qv+i/5//nf+c/5n/l/+W/5f/lv+S/4z/hv+D/4L/fv93/3H/b/9w/2//bf9q/2n/af9q/2v/bv9v/23/af9n/2r/b/9v/2f/Xv9Y/1b/Vv9Y/1j/VP9L/z//Nv8x/zD/L/8u/y3/LP8r/yn/KP8p/yv/L/8y/zb/Ov8//0T/Sf9O/1T/Wv9g/2b/bP9z/3r/f/+B/4P/hP+H/4r/kv+e/63/uf/C/8f/y//R/9v/6P/1/wAABwAQABgAIQAqADEAOQBBAEkAUABXAFwAYQBlAGgAbQBxAHUAeQB7AH0AfQB+AH8AfwB/AH8AfwB+AHwAeQB3AHUAcwBxAG8AbABpAGUAYQBdAFoAVwBTAE8ASwBIAEQAQQA+ADoANQAyADAALQAqACUAIQAdABgAFQAWAB0AJQAsAC4AMQA4AEUAVQBjAG8AeQCCAI0AnACtALwAyQDWAOUA9wAIARUBIQEtATkBQgFLAVUBYwFwAXgBeAF2AXYBegGCAYcBiQGHAYUBggF/AXkBcQFpAWMBWwFPAUEBMwEnARwBDwEAAfEA4QDTAMQAtwCpAJoAiQB3AGcAWQBMAD0ALQAaAAYA8//h/9P/xv+2/6P/j/99/27/Yf9T/0P/L/8a/wj/+f7s/tv+yP63/qr+n/6S/oX+e/50/mv+XP5K/j3+N/41/jH+Kf4g/hr+F/4W/hX+FP4T/hX+GP4a/h3+Iv4o/i/+N/4+/kf+T/5Z/mP+cP5//oz+l/6f/qj+sv6//s7+4P7z/gX/E/8g/y3/PP9M/13/bv9+/43/m/+p/7n/zP/e//D///8MABoAKQA4AEgAWABnAHYAhQCUAKMAswDAAMsA1QDfAOsA+AAFAQ8BGAEfASQBKQEwATwBSgFWAV0BYgFnAW8BdgF8AYIBiAGMAZEBlgGbAZ4BngGcAZoBmQGZAZgBlQGQAYgBfQF0AW0BaQFnAWIBVwFIATgBKwEhARgBDgEDAfYA6ADaAM0AwQC0AKcAmQCMAH4AcQBmAFoATAA7ACoAHAARAAcA/f/x/+X/2P/N/8L/uf+w/6X/m/+S/4f/e/9u/2L/WP9Q/0j/Pv81/yz/I/8a/xD/CP8A//f+7f7k/t3+1/7R/sv+xv7D/sP+w/7B/r3+uf64/rn+u/66/rf+tP6z/rX+u/7C/sj+y/7K/sf+x/7J/s/+1P7Y/tr+3P7f/ub+7v72/vz+Af8G/w3/E/8Y/xz/IP8m/y3/NP85/z3/Qf9H/07/U/9X/1r/Xf9h/2b/a/9w/3X/ev9+/4L/hv+K/47/kv+W/5r/nv+h/6T/p/+r/67/sf+1/7r/vf+//7//wf/G/87/1//e/+T/5//r//D/9v/8/wAABgAMABMAGAAcACMALAA2AD4ARQBMAFEAVgBbAF8AYwBoAG4AdQB8AIAAggCCAIIAggCEAIYAiACKAIwAjACLAIkAhgCHAIsAkACUAJYAmQCeAKQAqQCtALAAtAC4AL4AxQDJAM4A0wDbAOMA5wDpAO4A9wD9AP0A9gDvAO0A7wDxAPAA7ADkANwA1ADOAMoAxQC/ALgArQCiAJYAjQCFAH4AdQBrAF8AVABKAEEAOAAwACYAHAATAAsABAD+//T/6v/g/9j/0f/L/8X/v/+4/7H/q/+n/6P/nv+Z/5X/lP+U/5L/j/+L/4j/h/+H/4n/iP+F/4H/gP+D/4b/iP+G/4P/gv+C/4T/hP+E/4X/hv+G/4P/f/9+/4H/hf+F/4H/fP96/33/gf+D/4P/gv+C/4P/hf+F/4T/hf+H/4r/iv+K/4r/i/+N/5D/lP+Z/57/ov+l/6j/q/+u/7P/uP+9/8D/w//I/8//1//e/+X/7P/1//3/AwAKABEAGQAiACkAMQA4AD8ARgBNAFMAWQBeAGIAZgBqAG0AcABzAHYAeQB6AHsAewB8AHsAewB6AHkAeAB1AHMAcABtAGoAZwBkAGEAXQBZAFUAUgBOAEoARQBBAD4AOwA3ADMALwAsACgAJAAgAB0AGgAYABUAEQAOAAsACAAGAAQAAgABAAAA///+//3/+//6//n/+f/6//r/+v/7//3//v///wAAAAABAAMABQAHAAkACwANABAAEgAUABUAGAAaAB0AHgAeAB4AHwAgACIAIwAjACIAIgAhACIAIQAgACAAIAAhACIAIQAfAB4AGwAYABUAFAAVABUAFAAQAAsABwAGAAYABQACAAAA/////////f/5//f/9v/3//j/9//0//D/7f/r/+z/7f/t/+r/5//k/+T/5P/i/97/2v/Y/9j/1v/U/9L/0f/Q/87/zP/K/8j/yP/I/8f/xv/G/8f/yf/L/8v/yf/I/8r/zv/S/9b/2P/Z/9v/3v/i/+X/5//r//D/9f/5//z/AAAEAAgADAAQABQAGgAgACcALAAxADQANgA5AD0AQwBJAE0ATwBQAFIAVQBbAGAAYgBhAGAAYABjAGcAaABnAGMAYQBiAGQAZgBmAGUAYwBiAGAAYABgAF8AXgBbAFcAVQBUAFMAUQBOAEoASABGAEUAQwA/ADkANQAxAC8ALgAtACwAKgAoACYAIwAhACAAHwAfAB4AHAAaABkAFwAVABMAEAAPAA4ADgAOAA0ADQAMAAwACwAJAAcABgAHAAcABgADAAAA///+//7//v////7/+//4//b/9v/3//f/9v/0//H/8P/x//L/8//y//D/8P/y//X/+P/6//v//f///wAAAAABAAEAAQABAAEAAQAAAP////8AAAAA/v/8//v/+//8//z/+//6//r//P/9//3/+//5//f/9v/1//H/7v/r/+r/6v/q/+r/6v/q/+r/6v/q/+r/6f/n/+X/5f/m/+n/6v/o/+b/5f/m/+f/5v/j/+D/3v/d/9v/2f/Z/9r/2f/X/9T/0//U/9b/1//W/9b/1f/X/9r/3f/f/97/3f/d/97/3v/e/97/4P/i/+T/5f/k/+X/5v/o/+v/7v/w//P/9v/5//z//v8AAAEAAwAEAAYACgAPABUAGAAZABkAGgAdACAAJAAnACoALQAvAC8AMAAxADMANgA4ADgANwA2ADUANQA2ADcANwA1ADIAMQAyADUANQAyAC0AKQAnACQAIQAfAB8AHwAeABoAFQAQAAwACwAKAAgABAAAAP3//f/+///////9//r/+f/5//z//f/9//r/+P/2//X/9P/1//f/+f/4//X/9P/0//T/9P/0//X/9f/z//H/8//2//n/+f/3//T/9P/1//j/+//+//3//P/7//v//P/9//z/+//6//r/+//8//3//v///wAAAAAAAP//AAAAAAAA///+//3//f/8//r/+P/1//L/7//q/+f/5v/m/+X/4v/g/9//4f/i/+P/4v/g/97/3v/e/97/3f/d/97/4f/i/+L/4P/e/97/3//d/9r/2P/Y/9v/3f/e/97/3f/e/+D/4P/f/9v/2P/X/9n/3P/e/9//4f/k/+b/5v/l/+X/5//q/+v/6v/o/+j/6f/q/+r/6P/m/+b/6P/q/+r/6P/m/+X/5v/n/+f/5v/l/+P/4v/i/+L/4f/g/9//4P/h/+L/4//j/+T/5//r/+3/7f/r/+v/7P/u//D/8//2//r//f/+//7//////wAAAQAEAAcACQAJAAoADgASABYAGAAYABkAHAAiACcAKwAtAC4ALgAwADIANAA1ADUANgA1ADUANQA3ADoAPAA8ADgANAA0ADYAOAA4ADQALgApACcAKAAqACkAJgAhABwAGgAYABcAFAARAA4ADAAMAAwADQAPABAAEAANAAsACwANAA8ADgALAAgACAALAA8AEAANAAoACQALAAwACwAJAAgACAAHAAcABwAJAAsADQAPABAAEQASABQAFQAWABcAGQAbAB4AIQAjACQAJAAlACUAJAAiAB8AHgAdAB0AHAAcAB0AHQAbABcAFAATABQAFQATAA8ACwAIAAYABAAAAP7//P/9//7//v/7//n/+P/5//j/9P/v/+v/6P/m/+X/4//i/+D/3v/c/9n/1v/S/8//z//R/9P/1f/W/9f/2f/c/97/3v/e/93/3f/e/+D/4v/k/+b/6P/q/+r/6v/o/+f/6P/r/+//8f/x//D/8P/z//T/9P/x/+//7f/r/+j/5v/m/+n/6v/q/+j/6f/r/+3/7//w//H/8//0//b/+f/7//3//v8AAAEAAgABAAAAAAABAAMABgAIAAkABwAEAAMABQAHAAgACAAJAAkACgALAA0ADwAOAAwACgAKAAsADQAQABIAEwASABIAEgAVABgAGQAaABsAGwAaABkAGAAZABsAHgAgACIAIgAiACEAIgAjACQAJgAoACkAKAAlACMAIwAkACQAIwAgAB4AHAAaABgAFQARAA8ADQALAAcAAgAAAAAAAAD9//n/9v/1//T/8//x//D/8P/x//D/7f/q/+j/5//m/+T/4P/c/9j/1//X/9X/0v/P/87/zP/L/8r/y//M/8z/yv/J/8v/z//R/9D/zv/M/83/z//S/9X/1//Z/9z/4P/j/+X/5f/m/+r/7f/v//D/8//3//v//v///wAAAQADAAYACQALAA0ADQAOAA8ADwAQABAAEAARABIAFAAUABMAEgAUABYAGQAbABwAGwAcABwAHQAdABwAHAAdAB4AHwAdABsAGQAYABgAGQAbABsAGwAaABkAGAAWABUAFwAXABQAEQASABcAHQAfABwAGQAYABgAFwAVABMAEwASABAADgAOAAwACgAIAAYABQADAAIAAQAAAP///v/9//3/+//5//f/9v/2//X/9P/z//L/8f/x//D/7//v/+7/7v/t/+7/7v/u/+7/7v/t/+7/7v/v/+//7//v//D/8f/x//L/8//0//X/9v/2//j/+f/6//r/+//9//7///8AAAAAAAABAAEAAgAEAAcACwAPABEAEwAUABYAGAAaAB0AIgAlACgAKgAsAC4AMAAxADIAMwA1ADYANwA3ADcANwA3ADcANgA1ADMAMQAwAC4ALQArACgAJQAjACAAHgAbABkAFgAUABEADwAMAAgABgADAAEAAAD///3/+v/5//n/+v/7//r/+f/5//n/+f/5//j/9//2//f/+P/5//z///8BAAMABQAGAAgACwAOABAAEgAVABgAGgAcAB4AIAAiACQAJQAnACgAKQAqACsALAAtAC4ALgAuAC4ALgAtAC0ALQAtAC0ALQAsACoAKQApACgAJwAlACQAIwAhAB8AHgAdABsAGQAWABUAFAATAA4ABwACAAAA/v/6//P/6//k/93/1f/M/8D/sv+k/5j/jf+A/3P/ZP9W/0n/O/8t/x7/Ef8G//7+9v7t/uD+0/7I/sL+vf64/rT+tP62/rj+uv68/r/+xf7K/s/+1P7b/uT+7v76/gf/Fv8m/zb/R/9W/2X/dP+G/5r/sv/M/+X/+/8NACEANgBLAF4AcQCEAJoAsgDGANYA5ADzAAUBGAEoATQBPQFIAVUBYwFuAXYBewF+AYIBhQGHAYYBhAGCAYIBggGAAXsBdAFtAWQBWwFRAUgBPwEzASYBFwEIAfkA6gDbAMoAuACoAJgAhwB0AGIAVABHADQAFQDx/9D/tv+h/4z/df9X/y7//f7P/q3+kf5w/j/+Af6+/X39Q/0Q/d/8rvx7/Er8Hvz0+8r7o/uC+2b7Tvs5+yr7Ifsb+xf7GPsg+yz7NvtF+2L7j/vD+/X7Kfxq/Lf8B/1R/Zj94v00/or+3/4w/3//1P8zAJkA+QBMAZYB4QEvAnkCugL/AlIDrAP6AzIEYQSZBOEEKwVqBZsFxAXrBRMGOAZUBmQGcAaFBqMGvgbLBtQG4wb8Bg8HFAcOBwoHCQcGB/sG7AbaBsYGrgaTBnMGTwYoBv8F1AWlBXQFPwUJBdIEmgRgBCQE5wOqA24DMQPzArUCewJCAgQCtwFiARIB0gCZAFYAAQCj/07/Cf/H/nr+Hv6//Wn9Hf3Y/JP8T/wI/MD7dfsn+9n6jfpJ+gz60PmO+Uv5Dvne+Lf4kvhu+E34Nfgm+Bz4EvgF+Pr3+vcJ+B/4MPg6+Eb4XviB+Kf4y/jx+B75UvmI+cD5+Pk0+nT6tvr6+j/7g/vK+xT8YPyq/PP8Pv2K/c/9C/5A/nf+sv7s/iH/T/97/6T/yv/s/wkAJAA9AFQAaAB3AIIAiwCUAJoAmgCSAIYAdwBoAFoATAA4AB4AAgDw/+j/4v/X/8z/y//Z//L/EAA0AF4AjAC8AOsAHAFRAZAB3wE4Ao4C2QIfA2sDvwMNBFQEogQEBXEF0QUbBmEGtgYcB4MH4Qc1CIQIywgJCT4JagmQCbgJ5wkaCj0KSQpKClUKbQqCCoMKdQpmClwKTQoxCgoK4wnCCaYJiAlhCTAJ+wjFCJAIWwgeCNsHmQdhBzEH+ga0BmIGFwbeBbEFfwVCBQMFyQSUBF4EJQTvA8ADlANpAz4DEgPoAr8CmgJ6AlwCNwIIAtYBqgGFAWEBOgETAewAxwCkAIEAWQAmAOv/tv+R/3D/Of/i/n/+Kv7n/aT9Tv3m/HX8AfyL+xT7ofov+rz5Qvm++DH4ofcT94f29PVX9bf0HvSO8/zyYfLF8THxqfAo8K7vOu/E7kPuvu1K7fHspuxS7PPrnutj6zzrGuv86u7q9OoF6xnrNeti653r4Ost7Ifs7exU7brtJ+6m7jbvye9c8PDwjfEx8tryg/Mt9Nz0kvVR9hH3zPeC+Dr59/m0+mr7Fvy//Gf9DP6s/kT/1P9bAN0AYQHrAXIC7gJeA8wDRgTNBFkF3wVfBtsGVwfPBz4IpwgcCaMJMgqwChYLeAvsC2wM3gw6DZsNFQ6aDgYPVw+1DzsQzhA6EXYRshEZEp4SERNYE40T1hM1FIoUvRTZFAAVQRWKFcEV3RXuFQYWJRY9FkQWPxY1Fi4WLhYyFiYW+xW2FXcVVBU/FRsV3hSZFFwUHhTPE28TERPAEnESEhKjES0RuRBKEN4PdA8DD4AO6Q1MDbUMJAyQC/UKUwqxCQ4JaAjABxUHZQa3BRQFfwTnAzgDbAKbAeEAPQCZ/9n+BP4x/W/8s/vs+hv6UPmT+N73I/dj9qb18PRC9JzzAfNo8sfxHfF08N3vVe/S7kzuwu027avsJ+yx60jr5OqC6iDqwuln6RPpx+iB6Dno7Oej52znQecS59rmpOZ+5mTmUOY+5jHmJOYS5v/l9uX95QzmGeYo5j/mX+aB5qHmxObw5iXnX+ec59znHuhi6Kno+ehP6anpAOpV6q/qE+uE6/zrduzv7Gvt7u187hDvpu878NPwcPEQ8rDyT/Pu85H0NfXa9YH2KffQ93L4E/m7+Wv6HfvJ+3D8GP3D/Wr+Cv+m/0gA8wCdAToCzAJfA/sDnAQyBbkFPgbLBloH2gdJCLkIOgm/CS4KggrUCjoLqwsMDFMMkAzVDCANYQ2RDbkN4w0SDj4OYQ57DpEOpw67DskOzw7PDswOxw6/DrYOrw6pDp8OjQ52DmAOUg5IDjoOJA4GDukN0w3BDawNkQ10DVkNPg0gDf8M3Ay3DJEMcQxWDDcMCgzSC50LeAtbCzcLCQvZCq8KhgpVCh4K6gm8CY8JXAkiCecIrgh4CEUIFAjhB6cHZAcgB+EGpQZnBiUG4QWfBV4FGQXNBH8ENATsA6MDWQMNA74CagIUAsABcwEnAdUAegAeAMj/ev8q/9P+eP4f/s39fv0w/eH8lfxP/A38z/uS+1j7JPv1+s76r/qU+nj6Wvo9+iv6I/of+hb6CvoI+hT6Kvo++k76Yfp++qL6x/rt+hb7Qftu+5370PsE/Db8ZfyS/ML89Pwm/VX9gP2o/c398f0V/jn+W/55/pT+q/7A/tP+4/7u/u3+4P7I/rD+mv6C/l/+LP7w/bD9cf0w/en8nvxN/PX7lfsy+9H6dfoY+rT5S/nh+Hf4D/iq90v38PaV9jr24vWS9Ur1BfW/9Hz0QvQV9PXz3/PT88zzy/PU8+vzEfRC9Hf0sfT09EX1ofUE9mv21/ZK98T3R/jS+GH58/mH+iH7wvtq/BL9uP1e/gT/qf9KAOcAhQEmAscCXwPqA24E8QR0Be8FXQbCBiMHfAfHBwIIOQhzCKkIzAjbCOII7wj9CAAJ8AjUCLkIoAiBCFgIKAj4B8gHlgdeByIH5garBnAGNAb2BbUFcwUyBfUEvASDBEsEFATjA7cDjANgAzYDEQPxAtMCtAKYAn8CaAJTAkACLgIfAhECBAL5Ae8B5gHeAdgB0wHPAcoBxwHGAcQBwQG/Ab8BvwG9AbsBvQG/AbwBsgGoAaIBmwGNAXcBYgFRAT8BKAEPAfYA3QDCAKYAjgB2AFcAMgAOAO//zv+m/3n/Tf8l///+2P6v/oP+U/4h/vL9yP2i/Xr9UP0o/QX95vzI/Kz8lPx//G78XvxS/Er8RvxF/Ef8TPxV/GH8cPyB/Jb8rvzI/OT8Av0i/UX9af2O/bX93v0G/i3+Wf6O/sb++v4p/1n/jP/B//T/IwBTAIMArwDXAAQBNwFqAZUBvQHrAR4CTwJ3ApoCwQLrAgwDIAMtAz4DVQNrA3kDfwOFA44DlgOYA5QDjQOIA4QDfgN0A2UDVQNHAzcDIwMKA+sCzQKvAo4CZwI8AhEC6AG/AZMBZgE4AQoB2wCvAIcAXQAuAP3/zP+f/3H/P/8L/9r+rf6E/lz+Mv4F/tX9qP2A/V79Pv0d/f784vzI/K/8mfyH/Hf8Z/xX/Ev8RvxE/EP8Q/xG/E38V/xi/HH8g/yW/Kj8uPzJ/N388vwK/SL9OP1K/V39cv2L/aT9uv3P/eX9/P0T/in+QP5X/mz+gP6U/qz+yf7k/vz+Ef8m/z3/U/9o/37/l/+u/8P/1v/r/wMAHAAyAEgAYQB8AJUAqQC8ANEA5wD3AAABCgEYASoBOQFDAUkBUgFdAWYBbQFwAXIBcwFzAXABbAFnAWIBXQFVAUoBPQEtAR0BDQH6AOMAzgC7AKkAlAB+AGkAWABGADEAGwAKAPz/6v/Q/7b/ov+V/4n/eP9l/1b/S/9C/zj/Lf8k/x7/G/8Z/xj/F/8X/xn/Hf8i/yb/K/8x/zn/Qf9I/07/Vv9f/2r/dP99/4b/kf+d/6f/sf+8/8v/2f/l/+//9/8AAAgAEQAaACMAKwAzADwASABUAF4AZwBvAHcAfwCHAJAAmwCmAK8AtgC+AMwA3gDrAPAA8gD5AAQBDgEQAQ4BDQEOAQ8BDQEMAQ4BEQESAQ4BCQEHAQcBBAH/APwA/QAAAQIBAQH+AP0A+wD7APwA/wAEAQYBBwEKARIBGgEiASsBPAFTAWgBdgGBAZUBsgHNAd8B7AH9ARYCMgJKAl4CcQKGApwCsgLEAtQC4gLyAgUDGQMqAzYDQgNSA2YDegOJA5EDmAOgA6YDqgOtA7MDtwO3A7MDrwOrA6MDlwOLA4IDdgNcAzIDAAPUArACjgJkAiwC7gG3AYwBXAEWAcAAbgAmANf/df8R/8T+if5I/vb9n/1L/fT8lfw8/Pb7t/tn+wD7l/pB+v75v/l5+S755vio+Hb4S/gY+Nn3l/dk90T3K/cO9/D22PbL9sP2v/a/9sj21vbo9v72Gfc792T3k/fE9/j3Mfhv+LL49/g/+Yz53/k3+pD67PpQ+7v7JvyP/Pb8YP3M/Tn+o/4L/3b/5v9YAMYALQGPAfEBUwK0AhIDawO/Aw4EWgSlBO0ELwVrBaUF3gUQBjcGWgZ+BqQGwQbRBtsG6Qb8BgwHEAcKBwMH/Qb5BvUG7QbdBsYGsAahBpYGhgZtBlMGQAY0BicGFQb/BegF0AW2BZ4FiQVzBVkFOwUjBRAF/QTmBNAEwQSyBJsEewRbBEAEKAQNBO8D0AOxA5IDdANXAzgDGAP5At4CwwKeAm0CNwIEAtwBuwGYAWkBNAEFAeIAvgCKAEsAEADe/6T/XP8S/9v+sv6G/k3+EP7W/Zn9VP0U/eL8t/x9/DD84fug+2n7L/vv+q36b/o4+gb61fme+V/5H/nn+Lv4k/hn+Dz4Ffj299v3wfet95/3l/eM93/3dfd294L3kPeW95H3i/eP95/3tvfM9+H39vcO+Cn4R/hn+In4rPjR+Pj4IPlJ+XT5ovnQ+f75Lfpd+pD6w/rz+iT7WfuS+8r7//s1/HL8s/zz/DD9av2l/eL9IP5a/pP+zv4R/1r/o//k/x4AWgCbAN4AHwFeAZsB1QEOAkgChALCAgQDRwOJA8MD+AMwBG8ErwTlBBUFRwWABbsF7QUXBkIGcwasBukGIwdVB4UHtwfsBxwISAh3CKwI3Qj8CA8JKQlNCW4JgAmKCZUJpAmrCasJpQmfCZQJhAlxCVoJOgkLCdQImwhjCCoI6gegB1AHAQe2BmUGBQaYBSwFxQRWBNYDUgPeAnkCDwKTARABkgATAI3/Bv+P/iL+rP0m/aH8L/zJ+2D77fp++hz6xflz+SL50Ph8+Cv45vep9233L/f59s/2qfZ49j32Dfbz9eb11/XD9bD1p/Wn9a31uvXI9dH11/Xf9fH1C/Yk9jz2V/Z39pr2u/ba9v32J/dU94P3sPff9xD4Q/h2+Kr43/gW+U35hPm5+e/5J/pe+pT6yfoB+z77e/u1++z7IvxZ/JH8xvz4/Cv9Yf2d/dz9Gf5R/of+vf71/i3/Zf+a/87/AgA5AHIAqgDkACIBYwGgAdcBDAJGAoUCwgL5AjEDcAOyA+4DIwRVBIkEvATtBCAFVgWIBbAF1AX+BTAGYAaGBqkG1AYGBzIHVAdxB5EHsgfPB+YH+gcNCCAIMwhJCGMIewiOCJwIqQi4CMUIzgjUCNoI3gjgCN4I2gjUCMwIwQizCKIIkAh8CGQISggvCBEI8QfQB6wHiAdiBzoHEgfqBsEGlgZqBj4GFAboBbsFkAVqBUQFGAXmBLQEhARTBBkE2QOcA2UDMAP3ArgCegJCAg0C1gGXAVEBCwHLAIwARgDy/5b/PP/p/pj+Qf7l/Y39PP3r/JP8MvzS+3j7JfvV+oT6Nfrr+ab5Z/kr+e74rfht+DX4B/jf97j3kvdy91n3SPc59y33KPcr9zL3O/dL92L3f/ed97/36fca+Ej4bPiO+Ln47fgh+U/5ffmw+eT5FfpF+nj6q/rW+vv6Jfta+5T7yPvy+xb8O/xm/Jn8y/z2/Bv9Q/1y/Z39u/3S/fD9Fv45/lD+ZP6B/qP+vf7M/tb+4/7z/gb/G/8w/0H/S/9P/1L/Vv9c/2D/YP9e/1r/Vv9P/0T/OP8s/yL/F/8J//r+6v7b/sz+vP6r/pv+i/57/mz+Xf5P/kH+M/4m/h3+Fv4R/g3+Cf4H/gf+CP4L/g/+FP4c/ir+Pv5S/mD+a/55/o/+q/7G/t7+9v4P/yr/R/9p/43/sf/S//P/GQBDAG4AlQC6AOIACgExAVYBegGiAcwB9QEaAjoCVwJ1ApICrwLKAuMC+gIPAyQDOQNMA18DcgOFA5UDogOsA7cDxAPRA9kD4QPrA/kDBAQJBAwEEQQcBCkENgREBFAEWQRgBGsEfQSQBKEErwTCBNoE8QQEBRgFNQVWBXUFjwWnBcIF4QX+BRgGMwZOBmcGfQaRBqUGtwbHBtMG3gbmBuwG8AbxBu4G6QbiBtsG0QbBBrAGoAaPBnYGUgYpBgEG2gWzBYgFWQUnBfQEwgSRBFsEGwTUA5EDVwMeA9wCjgI+AvMBqwFkAR4B1wCMADsA6/+e/1L/A/+x/l7+Df66/WT9Dv2+/HX8L/zn+537T/sD+7v6evpC+g/63Pml+Wb5Jvns+Lv4kfhn+Dr4Dfjl98j3r/eO92P3NfcQ9/b24PbH9qz2k/Z+9mz2XPZP9kf2QfY89jv2P/ZH9lL2XvZt9oH2mfa09tH28vYV9zr3Y/eQ97336vcY+En4ffix+OP4GPlP+YL5svns+Tn6jvrY+hP7UPui+wb8b/zQ/C39iP3m/Uj+rv4T/2//yf8sAJwACgFwAdsBUwLKAioDegPaA1sE6ARlBdEFPQaxBiMHjQf2B2EIxAgZCXAJ2AlJCqoK8gozC38L0AsYDFIMhgy2DOAM/wwXDSsNNg02DS8NJQ0WDf4M3gy6DJEMXAwdDN4LngtaCw0LuwpoChAKsglTCfYIlggtCMMHZQcKB6EGJgavBVAF/ASYBB4EpgNBA+YChAIcArgBYQEOAbgAXQACAKf/UP8B/7v+eP4x/uv9q/1z/UD9D/3j/Lz8mfx7/GT8U/xH/D/8O/w9/Eb8VPxm/Hv8lvy0/Nb8/vwp/VT9gP2v/eT9HP5S/oP+tv7v/i//bv+q/+P/HABYAJMAygD/ADIBYwGSAb8B6QEPAi8CTAJoAoECkwKbAp4CngKbApUCigJ5AmACQAIaAvIBxgGRAVQBEwHUAJMASgD3/57/Rv/x/pv+QP7c/XP9CP2f/Dr82Pt2+xH7rfpO+vX5nflC+eD4gPgm+NT3hvc79/L2rPZr9jD2/vXS9af1evVQ9TH1HvUQ9QL19/T19Pv0BvUU9Sn1RvVo9Y71ufXr9R/2V/aY9ub2PfeT9+b3Pvig+Aj5b/nX+UT6s/oe+4j7+Pty/O38Yf3T/U/+0v5R/8f/OACuACUBlQEAAmgCzwItA4MD1wMvBIYE0gQQBUkFgwW+BfYFKgZZBoEGoQa8BtYG7Qb+BggHDAcNBwkH/gbwBuMG1Aa9BqIGiAZ0BmEGSQYuBhEG9AXWBbcFmQV7BVoFOAUXBfwE4gTGBKUEhARnBEwENAQgBA0E+QPjA84DvgOvA6ADkAOCA3YDagNdA1IDTgNMA0gDQgM8AzcDMAMlAxsDFAMOAwQD9wLrAt8C0QLBArMCpAKPAnMCVwJCAjMCIAIGAugBzgG2AZsBfwFlAU0BMAEMAeYAwwCjAIMAXwA4ABIA8P/N/6f/e/9K/xj/6v68/o/+ZP48/hj+9P3P/av9if1k/Tb9Av3X/Lv8pvyK/Gf8Qvwk/Aj87fvV+8L7s/ue+4L7ZvtR+0H7Mvsi+xb7D/sL+wb7//r3+uz64fra+tf62PrY+tn62/rg+ub67fr2+v36/vr4+vj6A/sY+y37PPtK+1z7cfuE+5H7nfut+8P72vvt+/77Dvwd/Cr8OPxN/Gn8iPyj/Lv80/zt/Ab9HP0z/U/9bP2G/Z79uv3c/f/9H/49/lv+d/6R/q3+0v7+/in/Tv9w/5T/vP/j/wMAIQBBAGgAkwC8AOIAAwEhAT0BWwF8AaUBzwH1ARUCMwJSAnICjgKoAsAC2gLxAgQDGAMxA04DZgNzA30DkQOxA9QD8AMEBBgELgRGBFsEbwSDBJUEpQS0BMoE5gQCBRcFJQUxBUIFWAVsBXsFiAWVBaEFqgWwBbUFugW8BbkFtQW0BbMFqgWUBXYFWgVDBS8FFQXzBM8EqwSHBF8ENAQHBNwDsAN+A0UDCAPNApYCXQIiAuQBpwFsATEB9QC5AH4ARQANANf/ov9v/z3/Df/e/rH+iP5k/kD+Gv7t/b79kf1n/UH9HP36/Nn8uPyY/Hr8XvxE/Cz8FvwC/O371Pu7+6X7kvuA+2r7U/s/+y/7IfsV+wn7/Prr+tn6y/rD+r76ufqy+q76rfqt+q/6s/q6+sL6x/rH+sb6yvrV+ub69foC+w77IPs5+1b7cvuL+6X7w/vl+wf8J/xF/GP8gvyi/ML84/wE/ST9RP1l/YX9o/3A/d39+v0Y/jT+UP5r/ob+oP65/tD+5f72/gT/Ev8j/zb/SP9V/1//a/97/4z/mv+k/63/t//D/87/1//c/9//5f/w//3/BQALAA8AFAAaACAAJgAsADEANgA7AD8AQgBGAE8AXABsAHoAhACMAJIAmACeAKQAqgCxALkAwQDKANIA2gDgAOMA5gDsAPIA9wD3APYA+QADAQ8BFwEbAR0BIgEoAS4BMwE5AT8BQwFFAUkBVQFoAX4BkQGeAacBsAG7AcoB3gHwAf0BCgIcAjcCVgJvAoECkAKiArgCzwLjAvMCAgMVAy0DRwNdA20DegOIA5gDqAO0A78DygPVA90D4QPmA+4D+wMHBA0EDQQIBAIE/QP3A/AD5gPcA9UD0APIA7cDnQODA20DWgNGAy0DEAPxAtcCwQKtApYCewJeAkECIAL8AdkBvQGkAYQBWAElAfgA1QC3AJoAeQBOABcA3P+k/3T/Rv8U/+P+t/6O/l7+Jv7t/bf9gv1I/Q/91/yf/GL8JPzs+777k/tj+zD7/PrJ+pX6ZPo5+hf69vnQ+aj5hfls+Vv5TflA+S/5HPkL+f/4+fj1+PT49/gA+Q75Gfke+SH5Kfk4+Uv5Xvlw+YH5lPmp+cb56fkM+ir6R/po+pD6uvrj+gv7Nvtk+4/7uPvj+xX8R/xz/J38z/wO/U79h/2+/f79R/6O/sr+A/9B/4b/yP8EAEEAgQC9APUALgFwAbcB+AEuAl8CkwLIAvoCKANXA4UDrAPNA/IDIQRTBHoElQStBMgE5AT6BA0FIAUyBT0FQwVNBWEFdwWFBYcFhgWJBY4FjwWMBYgFhQWABXcFbAVgBVIFQgUxBR8FDAX5BOMEywSxBJcEfARhBEUEJwQIBOgDxwOnA4cDagNNAy4DDgPuAtACswKWAnkCXAJAAiUCCwLzAd0ByAG1AaEBjAF5AWkBXAFNAT0BMAEoASABEwEJAQYBBQH5AOEAyQC7AK8AlgByAFEAPQArABAA7//R/7X/l/93/1r/Qf8g//T+xf6d/nf+SP4P/tn9rv2G/Vb9I/3z/Mn8nPxt/EH8G/zw+7z7g/tS+yz7Cvvk+rv6lPpz+lT6NPoW+vz55/nV+cX5tvmq+aH5m/mY+Zb5lfmY+Z75pvmx+b75zvng+fT5Cvoh+jv6WPp2+pX6tPrU+vb6Gfs8+177gfum+8378/sX/Dv8YvyO/L788Pwg/Uv9c/2c/cf98/0f/kn+dP6e/sb+6/4R/zr/Z/+W/8D/5v8HACkATwB4AKAAxADkAAMBIQE9AVcBcAGIAaABtQHGAdQB4QHuAf4BEQIlAjUCPgJDAkkCTwJWAloCXQJgAmECYAJdAlsCXAJhAmgCbQJsAmgCZAJoAnICfQKEAoYChwKKAo4CkgKZAqMCrQKzArcCugK/AscC0wLkAvYCBwMSAxsDJQMyAz8DTQNaA2gDdQN/A4YDiwOUA6ADrQO2A7kDtwO2A70DyAPQA9ADywPFA8IDvwO6A7UDsgOtA6YDmwOOA4MDegNvA2EDUgNGAzkDKAMPA/EC1wLEArEClgJxAkoCJwIKAuoBwwGUAWQBNwEOAeQAtAB/AEcAFADk/7H/ff9K/xv/7P65/n/+RP4P/uP9uf2J/VH9Gv3r/MT8nfxw/D78Dvzk+7/7m/t5+1j7O/sg+wX77PrY+sj6u/qv+qT6nfqa+pv6nfqi+qn6tPrB+tH64/r4+g77Jfs9+1j7dfuW+7j72Pv1+xT8Ovxn/JT8vfzi/Af9MP1a/YP9q/3U/f79J/5N/nL+mP69/uH+Av8i/0H/X/97/5b/sP/H/9v/7v8AABEAHQAnADEAQABQAFwAYQBjAGQAZgBoAGkAZwBiAF8AXwBiAGIAXABUAE8AUABUAFsAZABqAGwAbQBzAIAAkACfAKwAtwDDANEA4gD5ABQBLAFAAU8BXwFuAX0BjgGgAbYBygHdAewB/AEMAh0CLgI9AkoCVwJlAnECfAKHApICnQKjAqUCpAKlAqcCqQKpAqcCpQKhApoCkgKKAoMCewJxAmQCWAJNAkACMwIlAhcCCQL5AekB2AHIAbkBqAGYAYcBdgFlAVYBRwE4ASgBGAEJAfsA7gDgANMAxwC9ALEApACVAIgAfABzAGsAZABdAFIARAA0ACcAHAAUAAwAAgD2/+f/2v/P/8b/uv+r/5r/i/9+/3P/Z/9c/1H/Rf85/y3/I/8b/xH/Cf8B//z+9v7u/uT+3P7W/tL+0P7P/sz+x/7A/rn+tP6y/rD+sP6v/q7+q/6p/qn+qf6q/qn+qf6p/qv+rv6y/rX+uP67/r7+w/7H/sn+yP7J/sz+0v7V/tT+0f7Q/tD+0P7Q/tH+0v7T/tH+z/7N/s7+0P7R/tH+0P7O/sz+zP7N/s7+zf7N/s3+zv7O/s7+z/7Q/tH+0v7T/tb+2P7Z/tz+4P7j/uX+5v7r/vP++f7//gj/F/8k/yr/LP8w/zn/Q/9O/1z/bv+A/4z/lf+l/7z/1v/s//7/DgAiADcATABjAHoAkAClALgAzADhAPUABwEYASgBOAFHAVYBYwFvAXoBhAGMAZMBmAGcAZ4BoAGhAZ8BnAGYAZQBkAGMAYgBhQGEAYEBegFwAWQBWgFSAUsBRgFDAT8BOAExASwBLAEwATMBMwEyATMBNwE8AUABRAFMAVkBaQF2AYMBkAGfAa8BvgHOAd8B8gEDAhQCJAI1AkYCVwJmAnMCgAKOApkCngKbApMCjAKHAoICegJxAmcCWgJJAjQCHgIHAusByQGkAYABXQE4AQ8B5wC/AJQAXgAjAOz/vf+M/1L/Dv/J/ob+Rv4G/sb9hv1F/QP9xPyI/Ez8C/zH+4f7TfsW++D6qvp3+kj6G/rw+cr5qfmM+XD5WflF+Tf5LPkl+SH5Ifkl+Sz5OPlJ+Vz5c/mO+av5zPnv+RX6Pvpp+pb6xfr3+in7XPuQ+8f7/vsz/Gj8pfzn/Cv9bf2s/ev9K/5r/q/++f5H/5L/1v8WAFoApADwADgBegG6AfwBQAKEAsYCCANKA40DzgMJBEEEdgSrBOAEEwVEBXIFmwW/BeEFBAYmBkUGXQZvBn4GjAaXBp4GoQaiBqIGogafBpgGjQaABnEGYAZMBjcGIAYGBuoFywWqBYkFZgVBBRsF8wTKBKAEcAQ5BPsDvQOCA00DGAPgAqYCbAIyAvcBvgGGAUwBDwHQAJUAYAAsAPn/w/+L/03/Cv/G/oj+T/4W/tz9o/1u/TX99vy3/IL8Wfwx/AH8yfuU+2f7P/sc+/z63fq9+p/6h/p3+mX6UPo6+i36Kfon+iX6Jfoq+jP6PPpD+k/6YPpz+of6nPq0+s/67PoJ+yj7Sftq+4z7sPvV+/v7IfxI/G/8lvy9/OP8C/0y/Vf9e/2g/cf98P0X/jv+Xv6A/qH+xP7q/hH/Nv9V/3L/kv+1/9f/9f8UADcAXgCEAKUAwwDhAP8AHgFAAWIBgQGaAbEBzQHwARUCNQJOAmMCeQKQAqYCuwLNAuAC8wIHAxkDKAM0Az4DSANQA1YDWwNdA14DXANYA1MDTQNFAzoDLAMeAxAD/gLkAsICnQJ5AlYCMwIRAu8ByAGaAWYBNAEGAdcAoABmAC4A/P/L/5v/bf9E/x3/8f68/oL+TP4f/vn91f2t/YL9Wv01/Q/95vzA/KL8jPx2/GH8UfxJ/EX8QPw5/Df8PfxG/FD8XPxt/IL8mPyv/Mf85fwI/S79VP15/Z39x/34/Sv+W/6J/rf+5/4X/0X/cv+j/9j/DAA8AGgAkwC+AOgAEQE6AWIBhwGoAcUB4AH7ARYCMAJMAmwCigKlArkCywLdAu4C/QIMAxgDIAMiAyMDLQM8A0kDTwNWA2MDcgN7A3oDdwN5A34DgQN/A3kDcQNsA2gDYQNTAz4DJwMTAwED7gLXAr4CpQKKAm0CTwI0AhkC/AHbAb0BoQGDAV4BMwEFAdsAswCMAGgARgAgAPT/wv+T/2n/P/8R/+D+sP6A/lD+JP4C/un91P25/ZP9Zf07/R79Df39/OP8w/yo/JP8ffxg/En8PPwy/CD8CvwB/AX8Bfz2++L72/vf+9771PvM+9D72vvk++/7AfwW/Cj8M/xB/Fj8dfyR/Kr8w/zf/P78Hf05/VD9aP2G/av9z/3s/QX+I/5L/nb+m/67/tz+Af8k/0L/YP+E/63/1f/3/xYAOgBlAJQAwwDwABkBQwFwAaAB0gECAjICZQKeAt0CHANYA44DwwP6AzAEYwSUBMIE6gQLBSwFUwV/BacFxwXlBQsGMwZUBmcGdwaPBq4GywbdBuIG3wbZBtUG0gbMBr8GrAaWBoAGZgZFBhkG5gWxBX8FTAUWBdkEmARWBBMEzwOMA0gDAwO9AngCNgL0AbABZQEXAcgAfQA1APL/sv9y/y7/5v6f/lv+Gv7a/Zz9Wv0S/cP8d/w5/Aj82vum+277NPv8+sf6m/p3+lb6MvoK+ub5xvmm+YX5avlX+Uv5Qfk8+UH5S/lN+Ub5QvlN+WX5f/mW+a35yfnm+QL6IPpE+mz6lPq7+ub6E/s++2n7nPvb+yD8Yvyc/Nj8Gf1g/af97f0z/nr+wv4K/1P/m//h/yMAZACoAOsAKgFlAZ4B1wEPAkQCdgKlAs8C9QIXAzcDVQNsA30DjAOXA50DoAOiA6MDmwOEA2YDTAM3AxkD7gLBAp0CdwI/AvkBtwGCAUwBCQG+AHwARAAGAL3/bv8l/+P+pv5r/jD+8f2r/WL9H/3k/K38dfw+/Ar82/us+3/7V/s3+yH7EfsF+/n68Pry+gD7Fvsu+0j7aPuR+7/77vsh/F38ofzq/DP9fv3R/S3+kv78/mb/zf82AKkAJAGeAQ4CegLsAmkD6ANhBNIEQAWtBRcGfAbeBkAHoAf3B0IIhwjMCBMJVAmKCbsJ7wkhCkMKTQpKCkgKTQpQCkgKMwoVCvEJyQmcCWkJKgniCJQISAj6B6QHRAfgBn0GGgawBT4FyQRWBOUDcwMBA48CGwKkASkBsAA5AMf/Wf/w/or+I/66/VX99PyZ/EP88fug+0v78/qg+lv6I/rt+bb5g/lb+Tf5Ffn3+OX43vjZ+NL4z/jU+N345Pjw+Ab5JPlH+W35m/nP+QD6LPpe+pz64Pof+1v7nfvn+yz8afyn/O/8Qf2S/d39Jf5t/rb+//5J/5T/3/8kAGgArADuAC4BagGjAdsBEAJBAm4ClwK7At0C+wIWAy0DPwNMA1YDXANcA1UDRwM2AyMDDQPwAs0CqwKIAlwCJQLrAbcBiQFUARUB1QCdAGgAKADi/5//Z/8x//H+sP54/kj+E/7U/ZT9X/0x/QL90fyk/Hv8Uvwl/Pv71vu2+5j7f/tu+2H7UPs7+yf7G/sW+xb7G/sk+y/7Nvs7+0T7VPto+377lfut+8f74fv++yD8Sfx3/KP8zPz0/B79Tv2E/b79+v02/nL+r/7r/ij/Zf+m/+r/LQBvALAA9AA8AYgB1wEiAmoCsQL+AlADngPjAyQEaQS3BAUFTQWNBc0FCwZEBnkGrwbrBiQHTwdrB4cHqwfSB+8HAggWCC8IQwhHCDsILwgoCCEIFwgKCP4H7gfUB7IHkQd1B1cHMAcDB9gGqwZ4Bj0GAgbLBZEFUwUUBdwEowRcBAgEtgNsAyEDxgJfAvwBowFLAecAewAVALv/ZP8I/6b+Qv7e/X/9J/3Y/I78Qvzy+6D7U/sN+836lPpi+jL6/vnG+ZT5avlE+Rr57fjE+KX4i/hx+FX4Pvgt+B/4FPgN+Av4EPgY+CL4MvhK+Gj4iviu+NT4//gv+WL5mPnS+Q/6T/qR+tb6HPtj+6n78vs9/If8zvwV/V/9pv3o/Sb+a/63/gP/Rv+H/9D/IABvALQA9AA4AYABxQECAjgCcAKsAugCHwNQA3wDpgPLA+wDDAQoBD0ESgRXBGoEfgSIBIUEgQSHBJEElwSUBI4EiQSBBHcEcwR2BHgEcwRsBHEEgASLBI0EjwScBK0EtQS2BL8E2AT0BAgFFAUlBT0FVwVqBXsFjQWfBa0FtwXBBcwF1AXXBdUF0wXPBcgFvAWuBZ0FiwV1BVoFPQUgBQIF4AS5BJIEagQ/BBEE5AO5A40DXAMpA/0C0gKdAl0CHgLnAbABaQEYAcwAjABLAP//sP9s/yz/3/6K/jz++P2v/Vn9A/24/G78GPy8+2j7HPvG+mX6CvrB+Xr5JfnR+JL4Y/gj+MT3Yfca9+n2sfZr9ir2/PXX9a31g/Vq9WL1WvVL9Uf1WPV09Yv1ovXJ9QL2PPZu9qj29fZI9433z/cq+Kj4Lvmk+RH6i/oT+577M/zg/J/9U/7w/o//RwAMAbwBWgIJA9gDqQRcBfwFpwZeBwUIkwgeCbEJOAqbCuwKSgu8CyQMawyaDMUM8gwYDTANNw0tDRsNEg0SDQQNzgx4DB8M0AuBCycLyAppCgEKiAkICZAIHwikBxoHjwYNBpAFDAWCBPwDfQMAA4ECAwKOASABtABHAN//g/8y/+D+iP4w/uD9mP1V/Rj95Py3/If8Ufwe/Pn74PvN+7r7pvuS+377bftj+1r7Sfsz+yL7Hfsa+xb7EPsH+/f64frS+tH60vrE+qf6jPp++nX6Z/pV+kj6Qfo4+i76KPor+jH6M/o2+kH6Ufpg+m36fPqS+qn6wvrc+v76JftO+3b7ofvQ+wH8NPxo/J781vwN/Ub9gf27/fT9Lf5m/p3+0/4J/0D/df+l/9P/AwAzAFYAbACBAJsArwCyAKgAoQCfAJMAdwBYAEIAKgAAAMX/jf9d/yX/2v6J/kH++f2h/T393vyH/CX8tPtE++f6jvon+rn5XvkX+cH4SvjN93H3M/fu9pT2RPYb9gH2zPV29Sf1/PTl9Mj0p/SZ9KL0rfSu9LL0z/T+9Cr1T/WB9cv1IfZs9rH2B/d19+f3Ufi7+DP5sfki+o36D/u1+2j8Cf2U/R3+rf5C/+D/lQBYAQoCnwIvA9UDgwQXBZMFHgbNBoAHEAiFCAEJhwn7CVYKsgohC4oLzQv7CzwMmAzxDCkNSQ1pDYwNqg2/Dc0N0Q3ODdEN5A32DfEN1g3BDcANvw2qDYcNZw1NDSoN+AzCDJEMXAwYDM0LhQtAC/MKmgo9CuMJiwksCcYIXwj8B5oHNAfGBlEG1QVTBdAEVATgA2wD7wJoAtwBUQHLAEwA1P9a/9n+U/7U/V395vxn/Of7c/sN+6/6Vfr9+ab5TPny+KX4aPg1+AT41Per94b3ZPdK9z/3P/c/9zr3PPdK92L3ffeg9833/fcm+En4dPiu+O/4Kvlf+Zj52fkb+lr6mPra+h/7ZPun++n7KPxl/J/82fwU/U/9if2//fP9JP5T/n/+qf7Q/vT+GP84/1X/b/+G/5r/q/+9/8//2f/R/7b/kv9w/1D/Mf8O/+b+tP56/kH+Df7a/Z39VP0M/cj8g/wz/Nr7gvsx++r6p/pi+hX6wflt+SH52PiL+Dj47few93n3QfcM9+H2vfaT9mD2M/YY9gr2/fXw9er17vX29f/1DfYm9kb2afaQ9sD29/Yw92r3rPfz9zv4gvjY+Eb5wPkz+pz6C/uI+wn8hPz8/Hr9+v1w/t/+V//i/3AA7wBdAcgBPQKxAhoDdgPPAykEewS+BPYEKwVcBX4FkAWeBbYF1gXvBfoF+gX3Be8F5gXkBfAFAAYGBgQGEQY6BngGswbeBgcHQAeNB+gHSQixCCYJowkgCpwKHguvC0kM4QxxDf8Njw4aD5kPDRB8EOYQRBGQEc4RABImEjoSPxI2EiAS/BHHEYMRNBHZEHEQ/g+AD/kOaw7VDTcNkwzrC0ALkgrhCTAJgQjSByQHeAbSBTEFkgT2A2MD2gJVAtMBWgHxAI8AJwC7/1X/+v6e/jn+0/12/Rz9tvxD/NX7c/sV+6/6R/rl+Yv5MvnX+H/4MPjx98j3tPeo95f3gvd694T3k/eY95n3o/e498/35vf99w34DvgE+AH4Bfj498r3iPdN9xf3yvZe9ub1dfX89GT0svMD81/yuPED8Uzwn+/47k/ure0c7ZrsH+yx61/rL+sU6wnrEusx61/rpesc7M7soe167mrvk/D18Wnz2PRa9gf4zvmP+0z9IP8SAQgD5wS0BnsIOwrrC5ANNA/QEFESrxPuFAgW8harF0cY0Bg7GXcZghloGS4Z0RhRGLYXBhdCFmcVeBR4E2oSUxE5EBoP9g3VDMILtQqaCWkINAcTBgYF/gP2AvIB9wAFACH/SP5u/YL8jPuu+vT5Pvln+HT3iPas9cz01/Pf8uzx6vC972Tu8uxq67jp3uf05Q/kI+IZ4PHdxNum2ZvXmdWi08TRGNCqzm7NVMxry9nKosqNym7KdcoEyyvMkc31zpfQ3tK81bjYm9ux3kHiE+bH6WztavHY9VP6lv7dAncHPwzcEFcVChoMH/YjcSimLOQwJDUaOa08CUA/QxxGhEixSudMDE/NUAxSAlPjU5pU+1QLVfRUv1ROVJBTnFKLUVlQ9U5nTcBL/0kZSBtGHkQjQg9A4T3DO9I54zetNSgzjzAWLrIrRCnMJlQkuCHKHpIbWBhSFXISiw+QDJcJrQbKA+0AKf6N+xn5yfab9I3ynPDM7jHt4+vi6ibqoelM6RLp4+i96LXo4ehA6brpOuq56kHr3OuI7DDtvu0w7pnuBO9f74nveu9G7//uou4i7obt2OwN7AbrsOka6GDmi+ST4nLgN974277Zetci1cnSlNCOzpXMjMqPyODGl8WFxHTDasKXwQrBp8BmwGTArsAmwbDBb8KXwyDFz8aCyFXKasyyzg7RetMG1rHYY9sN3rfgZeMV5sXodOsT7pTwAPNr9cf34PmS+//8Yf7G/wMB/QHAAmoD+QNbBI8EqAS1BLMEmwRsBCMExQNfA/gCgwLtAUQBwwCLAHoAUQAFAL//mv+B/3H/ov9MAE0BRgIcAx8ElAVTBxMJ4woVDa8PShKcFNwWYBkMHH4ewiBnI80mmCodLiUxBTQMNyI6CD20Pz5Cq0TdRrVILUpVS05MME3iTShO7E1fTbFMvUtDSm9I3EbtRU1FVETCQgBBhz9UPgY9bjvIOWM4MTfZNS00ZzLNMFEvtS0CLHgqBykdJ1kkJCFFHu4bnBniFvMTLBF7DpcLoAj3BZYD6wCJ/av57/We8onvYuwO6bXlk+LA3/bcstm41XDRjc1JyinHksN/v3O73LektGSx461MqvimAqQnoQmenJoulxaUV5G/jjGMyomwh+OFQ4TJgoyBrIAwgAGABIA7gMCApIHQgiGEo4WVhx6KEY0ekC+Tb5YAmsydwqEOpu6qR7C2tfy6O8ChxRvLjNAh1h7cWOJI6L7tGvOr+B7++AKKB8sMLhP5GRogWCVaKqsvGjUvOsw+M0OYR+tL/E+tU/hW5lmUXBtfd2GFYzRlnGb0Z1tpwWrra61sE21XbZRto21SbbRsEWyIa+Zq6mmWaCBnnmX0YxdiJWAoXuBbAVmhVSRSz06GSwpIUkSDQK48xzjTNPEwIS0oKdIkOSCtG2MXShMyDwsL8QYOA2v/3/sv+ED0QPB87Bjp8uXI4oPfQdw12XvWEdTZ0bzPus3py1PK6MiHxynG58TmwzPDu8JXwu/Bh8FEwUPBhMHrwWrCCsPXw8fEy8XpxjTIqMkuy7PMQc7tz7zRp9Ou1dHXB9o53F/efeCe4s3kE+ds6cXrAe4i8EHyaPR49lb4Ivoc/Fb+lQCbAmMEGgbcB5QJJguRDOgNNw98ELUR2RLYE64UZxUYFsEWVRfNFzMYlhj1GEMZdRmMGZAZiBl3GVQZGRnIGHQYJBjPF2EX2hZKFsAVNxWlFAsUchPfEkkSoxHsEC0Qcg+8DgYOSw2NDNMLHwtrCrMJ/ghaCM4HTgfNBksG0gVqBQ4FtgRkBCEE7wPHA6IDgwNuA2UDZANqA3kDlQO7A+cDFwRJBIAEuwT6BD4FigXaBSkGdQbDBhYHaQexB+gHEgg9CGwImAizCLYIowiACFUIIwjpB6UHWQcIB7QGVwboBWQFzwQyBJED7wJMAqYB/QBSAKv/CP9k/rj9Av1G/JL76PpG+qb5BPlm+NT3UvfV9kv2svUa9Zb0JPSy8zPzq/In8rLxSfHq8JLwQfD176/vcO827wDvzO6b7nTuXO5P7kbuOO4l7hnuGu4o7jvuUO5q7ozutO7k7h/vaO+47wfwVvCv8BrxkPEK8ofyDfOe8zH0wfRR9ef1hfYp9873c/gY+bf5Tvra+l773PtY/NT8T/3A/SP+e/7U/jL/i//W/xgAXACiANoA+QAEAQ8BIAErARoB5ACZAE8ACgC5/0b/tP4U/nT9z/wX/FL7kfrX+Rv5UPh/97T28vUy9XL0uPMI81zytfEi8a3wT/D175/vWu8v7xbvCu8M7yLvSe9677bvBfBk8MvwPfHI8XPyMfP187r0hfVU9ij3DfgP+Sb6NPsp/BL9DP4e/zcARwFKAkwDUgRWBU8GNwcWCPUIzgmQCjULzwt3DCkN0A1hDu4OiQ8uEMkQTxHHET0SuBI4E70TRBTFFDsVpRUGFmIWwhYzF7AXIhh4GL0YDxmAGf0ZaBq8Gg8beRv3G3Yc5xxOHbodKR6SHu8eRR+bH+8fNyBvIJogviDdIPEg+CDxIOAgxiChIHAgNCDuH58fRR/fHnEeAB6FHf0cbhzgG04bpRrbGf0YIBhHF2YWdhWBFJEToRKeEYQQWQ8pDvcMyAucCm0JNAjtBqYFaQQ2AwQCzgCU/1f+GP3b+6b6evlW+Dr3K/Ym9Rz0BvPy8fXwEfAx70XuUe1m7I7rxuoL6l3pvOgk6JXnEued5jHmzOVz5Snl7uS/5JvkgORm5EzkM+Qm5CXkLeQ75FHkbeSL5Krk1uQN5UHlZuWK5cTlFuZr5rPm/uZm5+bnZejO6C7pm+kW6pLqCOuA6wLsiuwS7ZntIu6u7jrvx+9V8OLwbvH58YfyFPOa8xv0pPQ89dn1bPb19n73Dvid+CX5qPks+rH6LPuf+xf8m/wl/aj9Hv6O/v/+cv/i/0kAqQAFAWEBxAE0AqoCHgOHA+kDTQS1BBoFeAXUBTAGiAbUBhgHYwe8BxkIawiwCPEINgl6CbkJ8wkrCmEKkgrBCu0KFgs6C14LiQu6C+YLDAwvDFcMgwyrDMsM5gwBDR0NOQ1QDWINdA2LDakNxg3eDfENCA4jDjwOUA5dDmgOdQ6HDp4Otg7JDtcO4g7sDvUO/A4FDxEPGw8cDxUPEw8eDy4PNg8xDyoPLg8+D04PVg9XD1kPXw9iD2APWQ9WD1QPTg9ADy0PHA8LD/cO3Q7BDqQOgw5fDjkOFQ7uDb4Nhg1MDRgN6Qy4DIUMTwwYDOILqwtzCzoLAAvHCo8KUAoFCrQJZgkfCdcIigg8CPMHrAdeBwcHqgZMBvAFlQU9BeUEhwQjBL0DXQMDA6wCUQLwAYsBIgG7AFgA+v+c/z7/4v6J/i3+yv1m/Qn9tfxg/AP8oPtB++v6m/pP+gT6uvlu+SL51viO+En4BfjD94L3QvcF98z2mPZk9in26vWw9YH1WfUy9Qb11/Sr9IX0ZfRI9Cv0DfTt883zsPOZ84jzfPNx82jzYPNb81rzXvNl827zefOH85jzrvPH8+PzAfQi9Eb0bPSV9MD07vQe9VD1hPW59fD1KvZk9p/23PYb91v3mvfZ9x34Z/iy+Pv4QPmH+dH5G/pj+qr68/o8+4P7yPsP/Fz8qPzx/Dn9g/3Q/Rv+Y/6n/uv+MP92/77/BABJAIoAyAACATsBeAG5AfwBOgJuAp4C0wINA0UDdwOmA9QD/gMkBEsEeASqBNYE9QQQBTIFXAWFBaYFwwXjBQUGIwY+BloGegaaBrIGwgbTBucG+gYIBxIHGwciBygHKgcqBygHJAcfBxoHFwcRBwMH7wbXBsIGqwaOBmgGPQYSBugFvwWSBWAFKQXwBLYEewQ/BAMEyAOPA1QDFAPPAogCQAL6AbYBcgEvAe4ArwBxADIA8v+x/3H/Mf/y/rP+df47/gT+0f2h/XP9R/0Z/ev8vvyV/G/8S/wq/Av87vvT+7z7p/uU+4D7avtW+0j7P/s6+zX7Lvsm+yH7JPsu+zn7P/tD+0v7Wvtr+3z7jvuk+7370/vl+/j7D/wp/ED8Uvxk/Hv8lfyv/Mf82/zt/Pz8DP0h/Tn9Uv1p/X39kf2j/bH9vP3J/dj95/30/f/9C/4X/iH+Kf4x/jv+Rv5O/lX+X/5r/nf+gP6I/o/+mP6h/q3+uf7F/s/+1/7i/vD+BP8a/y//Qf9R/2H/dP+M/6b/vv/V/+z/AQAXAC8ATABqAIYAnQC0AMsA5AD7ABABJgE/AVgBbgGDAZgBsAHIAdsB6gH3AQcCGAImAi8CNwJEAlMCXgJhAmECZQJtAnECbgJoAmUCZAJgAlYCSwJCAjsCMQIjAhMCBgL6AewB3QHNAb4BsAGhAZEBggFzAWUBVwFJAToBLQEgARMBBgH7APAA5QDaANAAxwC/ALcAsACqAKUAoACaAJUAkACMAIgAhACAAHsAeAB2AHUAcgBwAG4AbABrAGkAaQBoAGgAaABnAGcAZgBlAGMAYwBiAGEAYQBhAGEAYABeAF0AXABbAFcATgBEADoAMQAoAB4AEwAHAP3/8f/l/9j/y//A/7b/rP+h/5X/if99/3L/aP9e/1X/S/9C/zj/L/8l/xr/EP8G//z+8f7n/t/+2P7Q/sf+vv62/q7+pf6d/pb+j/6J/oH+e/52/nH+a/5k/l7+Wv5V/k3+Q/44/jD+K/4m/hz+D/4E/vz99v3v/eP91f3I/b79t/2v/aT9mf2P/Yj9fv1w/WH9WP1V/VT9Uv1R/VX9XP1g/WD9Yf1o/XP9ff2H/ZH9n/2t/bv9yv3d/fH9Bv4b/jL+S/5l/n/+mf6z/s3+6f4H/yb/RP9h/33/mv+7/+D/BQAqAE0AbQCOALIA1wD8ACEBRAFmAYUBogHBAecBDwIzAlECcAKUArkC3AL8AhsDPANcA3kDlgOzA9AD6wMFBB4ENwRQBGYEeASGBJMEowS0BL8EvgSzBKcEnQSRBIEEagRRBDUEFQTyA84DqQOCA1gDKwP9AtACowJ0AkMCFALmAbYBfgFAAQYB0wCiAG8AOAACANL/o/90/0f/Hf/z/sT+kv5j/jz+Gv75/df9tv2Z/YD9af1X/Ur9O/0p/RP9Af33/PL87/zr/Oj85/zq/O789vwA/Qz9Gf0n/Tf9S/1h/Xj9j/2q/cb93v3w/QD+Ff40/lj+ev6W/rD+y/7o/gX/Iv8//1v/dv+P/6f/v//V/+v///8QAB8ALwA8AEcAUABaAGYAcwB9AIUAjgCcAKkAsgC3AL4AyADPAM8AyADBAMAAwgDEAMIAvAC0AKwApgCfAJcAjQCCAHgAcQBtAGkAZABdAFcAUgBPAE4ATABLAEoASQBKAEwATgBQAFMAVgBZAF0AYQBlAGsAcAB1AHgAewB/AIMAhwCLAI4AkQCTAJYAmACbAJ0AnwCgAKEAogCjAKMApACkAKQAowCiAKIAoQCgAJ8AnQCbAJkAmACYAJgAmACWAJQAkwCTAJMAkwCSAJIAkQCQAJEAkwCWAJgAmACaAJ8ApACpAK0AsgC3AL0AwwDIAM8A1QDbAOIA6QDxAPgA/wAFAQwBEQEXARwBIQEkASQBJQEoASkBKAElASEBHgEaARYBEwEQAQgB+QDlANIAxAC3AKgAlgCBAGsAUwA7ACUAEQD+/+j/0P+4/6L/jf94/2T/Uf8//yz/Ff/7/uT+0/7E/rT+ov6S/oX+eP5t/mP+Xf5U/kX+Mv4k/hz+GP4R/gn+A/7+/fn99f31/ff99/3w/en95P3l/ef96f3q/ev97f3u/e/98v3z/fT99f35/f79Af4C/gb+Dv4Z/iD+Jf4q/jH+OP5A/kj+Uv5b/mP+bP52/oH+iv6U/p/+qv6z/rv+x/7Y/ur++f4I/xr/Mf9G/1j/aP97/5T/q/++/8//4//8/xYAMABIAF8AdACJAJ4AswDIANoA6gD7AA8BJQE4AUcBVAFhAW4BeAGDAY8BmwGmAawBsQG2AbsBvwHAAcABvwG8AbgBuAG5AbcBsQGoAaEBnQGZAZABhAF4AW4BZAFZAU4BRAE5AS0BHwEUAQoB/gDvAOAA0wDGALoArgCiAJUAgwBtAFcARAA0ACQAEgABAPH/3//O/77/sP+f/4j/bf9W/0X/N/8n/xb/Bv/3/uf+2P7N/sT+uf6p/pj+i/6E/n/+ef5y/m7+af5j/l3+Wf5a/lv+Xf5e/mH+ZP5n/mr+b/51/nj+ef56/oD+iP6N/o3+jv6V/qD+q/6y/rf+v/7M/tv+6f71/gH/Dv8a/yX/MP9A/1T/Zv90/4H/kf+n/8D/1//r//3/DgAgADMASABcAG4AfgCPAKIAtwDLANwA6wD5AAYBFAElATsBUQFiAW8BegGHAZUBogGsAbIBtAG1AbgBvwHJAc0BywHGAcQBxAHCAbwBtwG0Aa8BpQGYAY0BhQF9AXQBawFmAWABVgFJAT4BMwEmARMB/QDqANkAyQC3AKQAkQB+AGoAVgBBACoAEAD1/9z/xv+x/5z/hv9w/1r/Q/8v/x3/Df/6/uT+zv68/q7+of6U/on+f/5y/mL+U/5I/kH+Ov4y/i3+K/4q/ib+If4f/h/+IP4i/ij+MP43/jr+PP5B/k3+Wf5j/mv+dP6B/o/+nf6n/rL+vf7I/tH+2/7o/vf+Bv8T/x7/Kv83/0j/Wv9q/3j/g/+O/5n/pf+y/8D/0P/g/+v/9P/+/w4AIQAyAD8ATABaAGkAeQCIAJYAowCwALwAygDaAOgA8wD7AAMBDAEWASIBMQFAAU0BVQFcAWQBbQF3AXwBfQF7AXoBfAGDAYwBkQGRAY4BjQGOAY4BjAGMAY8BkQGMAYMBfAF5AXcBdQF0AXYBeAF1AW8BbQFuAW0BZgFaAU8BRwFAATkBMgEsASQBGgEMAQAB9gDvAOYA2wDOAMEAtgCrAKAAlgCNAIMAdQBjAFAAQAA0ACkAHQAPAAAA9P/n/9j/x/+2/6b/mP+K/37/c/9o/1z/Uf9F/zr/L/8k/xz/Fv8Q/wn///71/uz+5v7h/tr+0/7N/sn+x/7F/sL+wP7A/sH+v/67/rf+t/65/rv+u/67/rz+v/7C/sf+zP7P/s/+zv7O/tT+3P7i/ub+6f7v/vX++f77/v7+A/8H/wj/B/8G/wf/Cv8N/w7/EP8S/xP/E/8T/xP/FP8V/xT/Ev8S/xL/E/8T/xP/Fv8a/x//If8h/yP/Kf8w/zf/Pv9E/0n/T/9X/2P/cP9+/4r/kv+a/6P/sP++/8r/1f/h//D///8LABYAIQAuAD0ATQBcAGsAeQCGAJEAnQCqALcAwwDQAN0A6QD0AP8ACwEXASEBKgEzAT8BTQFaAWQBbQF3AYIBjQGXAaABpwGtAbUBwQHOAdgB3gHgAeMB6AHuAfUB/AEEAgoCDQIOAhACEwIWAhYCEQIKAgUCAwIEAgYCBgIDAv0B9wHyAe0B6AHkAeIB3gHXAc0BxAG8AbQBqgGgAZYBiwF8AWoBWwFQAUMBMQEbAQQB7gDaAMYAswCeAIcAbgBWAEEALgAcAAkA9v/i/83/uf+n/5b/hv92/2j/Wv9M/zz/Kv8X/wX/9v7r/uD+1f7J/r7+tP6p/pv+jf6B/nf+bf5j/lr+U/5M/kb+QP46/jL+Kv4k/iL+If4f/hn+Ef4L/gj+Bv4D/gH+AP4B/gH+Af4A/gL+Bv4K/g3+Dv4Q/hX+HP4k/in+Lv42/kD+TP5a/mf+c/58/oP+jP6a/qv+u/7H/tD+2/7p/vr+Cv8Y/yX/Mf8+/03/Xf9t/3z/iv+W/6P/sv/C/9T/5P/w//v/BQARAB4AKgA2AEEATQBZAGQAbgB2AH8AiQCUAJ0ApQCrALMAvQDHANAA2ADhAO0A+QAEAQ0BFQEfASkBMgE6AUMBTQFYAWEBaQFvAXMBdgF4AXwBfwGCAYQBgwGCAYEBfgF4AW8BZwFeAVMBRgE6ATMBLwErASQBGQEOAQQB/AD2APAA6QDiANgAzgDCALgAsACoAJ4AkQCEAHkAcQBoAF4AUgBHADwAMAAjABcADAADAPr/8P/l/9n/zv/F/73/t/+w/6j/ov+c/5b/kv+N/4r/h/+E/4L/gf+B/3//ev91/3L/cf9y/3L/cv9x/3L/cv9x/27/a/9q/2r/af9m/2P/ZP9o/2v/a/9o/2b/Z/9p/2n/aP9n/2j/af9p/2r/a/9r/2v/a/9s/23/bf9u/2//cP9z/3T/df93/3v/gf+H/4r/iP+H/4r/kf+Z/57/of+k/6j/rP+w/7X/uf++/8L/xf/G/8b/yP/L/87/0f/S/9P/1P/W/9f/2f/b/9v/2//c/97/4P/e/9v/2P/X/9f/1//W/9X/1P/S/9D/z//P/87/yv/F/8H/v/++/77/vP+7/7v/u/+7/7r/uf+5/7r/vP+//8H/w//F/8f/yv/O/9P/1//c/+H/5//t//P/+P/8/wAABQAMABMAGgAfACUALQA1AD4ARQBKAE8AVgBfAGgAbwB0AHkAfwCHAI4AlACaAJ4AogCmAKoArgCzALcAuwC9AL4AvwDAAMAAvwC+AL0AvgC+AL0AuwC3ALIAqgChAJoAkwCLAIIAfQB/AIQAhAB8AHAAaABiAFsAUwBMAEkARgBDADwANAAtACcAIwAfABoAEwAKAAMA///9//v/9v/w/+n/4//f/9z/2P/T/8//zP/K/8r/yv/L/83/zv/P/9D/0v/V/9n/3P/d/97/4P/j/+n/7v/x//P/9P/2//r//v8AAAEAAgAEAAYACAALAA8AFAAWABgAGQAbAB4AIQAkACgALAAwADIANAA4AD4AQwBGAEcASABKAE4AUwBXAFoAXgBjAGcAagBqAGkAawBvAHMAdAByAHEAcABwAG8AawBnAGQAYQBeAF0AXABZAFQATgBKAEcARgBEAEAAOwA2ADIAMAAuACoAJAAeABkAFQARAA0ACgAHAAYAAwD///r/9f/y/+//6v/l/9//2f/W/9P/0f/R/9D/zv/L/8n/yf/J/8f/xf/E/8b/yv/N/87/zf/L/8n/yP/I/8f/xv/G/8j/yv/N/83/y//K/8r/zf/Q/9T/1//b/97/4f/i/+T/5//t//T/+f/8//3//v///wEABAAGAAcACAALAA8AEgAVABcAGQAbAB4AIAAiACIAIwAkACcAKgAsACwALAAsAC4AMAAwAC4ALAArAC0ALwAvAC0AKwAoACUAIQAdABkAFQARAAwACQAGAAIA+//z/+v/5v/h/9v/1P/P/8v/x//D/77/u/+5/7f/t/+3/7b/sv+u/6z/q/+t/7D/sv+0/7b/uP+4/7j/uf+5/7j/tv+2/7n/vf/B/8H/wv/E/8b/yP/I/8n/y//O/8//z//Q/9P/1//c/9//3v/d/93/4f/m/+j/6P/o/+v/7v/w//H/8f/x//L/9P/3//z///8CAAQABwAKAA0AEQAWABsAIAAkACoAMAA1ADgAPABAAEYASwBQAFUAWwBhAGUAZwBoAGoAbgB0AHkAewB9AH4AfgB+AH0AewB6AHkAdwB1AHMAcQBvAGsAZgBfAFsAWABXAFUAUwBQAE4ASwBHAEEAOwA1AC8AKgAoACUAIgAbABMACwAEAAAA/f/6//j/9f/w/+r/5f/h/93/2f/U/87/yP/E/8H/v/+7/7b/sv+w/67/rP+q/6j/pv+k/6P/ov+g/57/nP+b/57/oP+i/6T/p/+p/6v/q/+r/63/sf+3/73/w//G/8j/yP/K/87/1P/a/+D/5P/o/+z/7//y//X/9//6//7/AgAGAAoADAANAA4AEgAWABoAHAAeACAAIwAlACcAKQAqACsALAAtAC8AMQAxADEAMQAxADEAMQAvAC0AKQAmACQAJQAnACkAKQAoACUAIgAgACAAIAAgAB4AHQAcAB4AHwAfABwAGAAVABQAFQAUABIAEQARABIAEgARAA8ADAAIAAUAAgACAAIAAQD///z/+f/2//T/8v/v/+r/5v/j/+L/4f/f/9v/1//T/9H/zv/N/8z/zf/M/8n/xP/A/7//wP/A/77/u/+6/7n/t/+0/7H/sP+x/7L/tf+3/7r/uv+3/7T/s/+0/7b/t/+5/7v/vf/A/8H/w//F/8j/zP/P/9P/1v/Y/9r/2v/a/9v/3f/h/+X/5//o/+f/5//p/+z/7//x//H/8//1//j/+f/5//n/+////wEAAgABAAAAAAAAAAEAAwAEAAQAAgAAAAEAAgACAAAA/P/7//r/+v/4//X/9P/z//L/7//t/+v/6f/o/+b/5P/k/+X/5//n/+X/4v/h/+L/5P/k/+H/3v/d/97/4f/j/+X/5v/m/+b/5//o/+r/7P/v//D/8f/x//P/9f/2//X/9f/2//j/+v/8//7///8AAAAAAQABAAEAAgADAAQABQADAAIAAQABAAIAAwAFAAQAAwABAAEAAgADAAIAAQAAAP////8AAAEAAQAAAAAA//8AAAEABAAGAAYABQAFAAcACgALAAkABwAGAAYABgAEAAMAAgACAAIAAAD////////+//3//P/7//z//f/+//7//f/6//j/9v/1//P/8P/t/+z/6//s/+z/7f/s/+z/6//r/+v/6//q/+f/5v/n/+r/6//q/+f/5v/m/+f/5//l/+L/4P/e/93/3f/e/9//3f/a/9j/2P/Z/9z/3f/c/9v/2//d/+H/4//k/+P/4v/h/+L/4//l/+X/5f/m/+j/6v/r/+v/7P/t/+//8f/1//n//P/+////AAACAAUABgAHAAgADAARABUAFgAWABgAGwAeAB4AHgAgACQAKAApACsALQAvADIANQA3ADoAOgA6ADkAOwA+AEAAQQBBAEAAPwA+AD0APAA6ADYAMwAzADQAMwAuACgAIgAeABsAGAAVABMAEAAMAAcAAwAAAP3/+v/3//T/7//q/+b/5f/j/+D/3P/a/9r/2f/Y/9X/1P/U/9b/1//W/9T/0v/Q/9L/1P/W/9f/1v/W/9b/2P/a/9v/2//c/93/3v/g/+H/4f/h/+H/4f/i/+X/6f/s/+7/7//w//H/9P/2//r//f///wEAAwAGAAgACgAKAAoACQAKAAsADAAOABAAEgASABIAEAAOAA8AEQAUABMAEAANAAwADAALAAgABQAEAAQABgAHAAgABwAGAAUABAAEAAQAAwACAAIAAwAGAAcABwAFAAIAAAAAAAAAAQABAAAA/v/9//3//v/9//n/8//w//D/8P/u/+3/6//p/+f/5P/i/+H/3//d/9v/2v/b/9z/3v/e/93/2//a/9r/3f/h/+T/5P/k/+X/6P/s/+//8P/y//X/+P/8/wAAAwAGAAkACwAOABMAGQAeACMAJwArAC0ALwAyADYAOwBAAEMARQBGAEcASwBQAFUAVQBTAFIAUwBXAFsAXABZAFUAUwBUAFcAWQBaAFgAVQBTAFIAUwBUAFMAUABLAEgARgBGAEUAQgA/ADsAOAA3ADYANAAxACsAJgAiACAAIAAfAB4AGwAYABUAFAASABEADwAOAAwACgAJAAgABwAFAAIAAAAAAAAA///////////+//3//f/8//r/+f/5//n/+P/1//P/8f/w//D/8v/y//H/7//t/+z/7f/u/+7/7P/r/+r/6v/s/+3/7v8=\" type=\"audio/wav\" />\n",
              "                    Your browser does not support the audio element.\n",
              "                </audio>\n",
              "              "
            ]
          },
          "metadata": {},
          "execution_count": 8
        },
        {
          "output_type": "display_data",
          "data": {
            "text/plain": [
              "<Figure size 640x480 with 1 Axes>"
            ],
            "image/png": "[encoded data removed]"
          },
          "metadata": {}
        }
      ],
      "source": [
        "testing_wav_data = load_wav_16k_mono('./datasets/Data/audio/New_MS_074.wav')\n",
        "\n",
        "_ = plt.plot(testing_wav_data)\n",
        "\n",
        "# Play the audio file.\n",
        "display.Audio(testing_wav_data, rate=16000)"
      ]
    },
    {
      "cell_type": "markdown",
      "metadata": {
        "id": "6z6rqlEz20YB"
      },
      "source": [
        "### Load the class mapping\n",
        "\n",
        "It's important to load the class names that YAMNet is able to recognize. The mapping file is present at `yamnet_model.class_map_path()` in the CSV format."
      ]
    },
    {
      "cell_type": "code",
      "execution_count": null,
      "metadata": {
        "id": "6Gyj23e_3Mgr",
        "colab": {
          "base_uri": "https://localhost:8080/"
        },
        "outputId": "1d768635-dc14-42bc-f67a-a8ac6bb6e1df"
      },
      "outputs": [
        {
          "output_type": "stream",
          "name": "stdout",
          "text": [
            "Speech\n",
            "Child speech, kid speaking\n",
            "Conversation\n",
            "Narration, monologue\n",
            "Babbling\n",
            "Speech synthesizer\n",
            "Shout\n",
            "Bellow\n",
            "Whoop\n",
            "Yell\n",
            "Children shouting\n",
            "Screaming\n",
            "Whispering\n",
            "Laughter\n",
            "Baby laughter\n",
            "Giggle\n",
            "Snicker\n",
            "Belly laugh\n",
            "Chuckle, chortle\n",
            "Crying, sobbing\n",
            "...\n"
          ]
        }
      ],
      "source": [
        "class_map_path = yamnet_model.class_map_path().numpy().decode('utf-8')\n",
        "class_names =list(pd.read_csv(class_map_path)['display_name'])\n",
        "\n",
        "for name in class_names[:20]:\n",
        "  print(name)\n",
        "print('...')"
      ]
    },
    {
      "cell_type": "markdown",
      "metadata": {
        "id": "5xbycDnT40u0"
      },
      "source": [
        "### Run inference\n",
        "\n",
        "YAMNet provides frame-level class-scores (i.e., 521 scores for every frame). In order to determine clip-level predictions, the scores can be aggregated per-class across frames (e.g., using mean or max aggregation). This is done below by `scores_np.mean(axis=0)`. Finally, to find the top-scored class at the clip-level, you take the maximum of the 521 aggregated scores.\n"
      ]
    },
    {
      "cell_type": "code",
      "execution_count": null,
      "metadata": {
        "id": "NT0otp-A4Y3u",
        "colab": {
          "base_uri": "https://localhost:8080/"
        },
        "outputId": "039b6e07-6e40-4d43-d7eb-31d5df4542e3"
      },
      "outputs": [
        {
          "output_type": "stream",
          "name": "stdout",
          "text": [
            "The main sound is: Heart sounds, heartbeat\n",
            "The embeddings shape: (4, 1024)\n"
          ]
        }
      ],
      "source": [
        "scores, embeddings, spectrogram = yamnet_model(testing_wav_data)\n",
        "class_scores = tf.reduce_mean(scores, axis=0)\n",
        "top_class = tf.math.argmax(class_scores)\n",
        "inferred_class = class_names[top_class]\n",
        "\n",
        "print(f'The main sound is: {inferred_class}')\n",
        "print(f'The embeddings shape: {embeddings.shape}')"
      ]
    },
    {
      "cell_type": "markdown",
      "metadata": {
        "id": "YBaLNg5H5IWa"
      },
      "source": [
        "Note: The model correctly inferred an animal sound. Your goal in this tutorial is to increase the model's accuracy for specific classes. Also, notice that the model generated 13 embeddings, 1 per frame."
      ]
    },
    {
      "cell_type": "markdown",
      "metadata": {
        "id": "fmthELBg1A2-"
      },
      "source": [
        "## Heart Sound dataset\n",
        "\n",
        "The [dataset](https://github.com/Nekhil-haxh/Sign-Language-Translator) is a labeled collection of 1,000 five-second long environmental audio recordings. The dataset consists of 5 classes, with 200 examples per class.\n",
        "\n",
        "Download the dataset and extract it.\n"
      ]
    },
    {
      "cell_type": "code",
      "execution_count": null,
      "metadata": {
        "id": "MWobqK8JmZOU",
        "colab": {
          "base_uri": "https://localhost:8080/",
          "height": 53
        },
        "outputId": "c09e8d71-d05c-4f99-c4b2-8fc13ae22ee0"
      },
      "outputs": [
        {
          "output_type": "execute_result",
          "data": {
            "text/plain": [
              "\"_ = tf.keras.utils.get_file('esc-50.zip',\\n                        'https://github.com/ShebinJoseJacob/test/raw/main/Data.zip',\\n                        cache_dir='./',\\n                        cache_subdir='datasets',\\n                        extract=True)\""
            ],
            "application/vnd.google.colaboratory.intrinsic+json": {
              "type": "string"
            }
          },
          "metadata": {},
          "execution_count": 11
        }
      ],
      "source": [
        "'''_ = tf.keras.utils.get_file('esc-50.zip',\n",
        "                        'https://github.com/ShebinJoseJacob/test/raw/main/Data.zip',\n",
        "                        cache_dir='./',\n",
        "                        cache_subdir='datasets',\n",
        "                        extract=True)'''"
      ]
    },
    {
      "cell_type": "markdown",
      "metadata": {
        "id": "qcruxiuX1cO5"
      },
      "source": [
        "### Explore the data\n",
        "\n",
        "The metadata for each file is specified in the csv file at `./datasets/Data/meta/esc50.csv`\n",
        "\n",
        "and all the audio files are in `./datasets/Data/audio/`\n",
        "\n",
        "You will create a pandas `DataFrame` with the mapping and use that to have a clearer view of the data.\n"
      ]
    },
    {
      "cell_type": "code",
      "execution_count": null,
      "metadata": {
        "id": "jwmLygPrMAbH",
        "colab": {
          "base_uri": "https://localhost:8080/",
          "height": 206
        },
        "outputId": "fc824947-4938-4884-c27c-a0ec6e05b6b3"
      },
      "outputs": [
        {
          "output_type": "execute_result",
          "data": {
            "text/plain": [
              "        file name  fold  target foldername\n",
              "0  New_MS_074.wav     5       2         MS\n",
              "1  New_MS_122.wav     5       2         MS\n",
              "2  New_MS_024.wav     5       2         MS\n",
              "3  New_MS_002.wav     5       2         MS\n",
              "4  New_MS_114.wav     5       2         MS"
            ],
            "text/html": [
              "\n",
              "  <div id=\"df-023ea115-c771-47f9-ae34-b74dfd07b446\" class=\"colab-df-container\">\n",
              "    <div>\n",
              "<style scoped>\n",
              "    .dataframe tbody tr th:only-of-type {\n",
              "        vertical-align: middle;\n",
              "    }\n",
              "\n",
              "    .dataframe tbody tr th {\n",
              "        vertical-align: top;\n",
              "    }\n",
              "\n",
              "    .dataframe thead th {\n",
              "        text-align: right;\n",
              "    }\n",
              "</style>\n",
              "<table border=\"1\" class=\"dataframe\">\n",
              "  <thead>\n",
              "    <tr style=\"text-align: right;\">\n",
              "      <th></th>\n",
              "      <th>file name</th>\n",
              "      <th>fold</th>\n",
              "      <th>target</th>\n",
              "      <th>foldername</th>\n",
              "    </tr>\n",
              "  </thead>\n",
              "  <tbody>\n",
              "    <tr>\n",
              "      <th>0</th>\n",
              "      <td>New_MS_074.wav</td>\n",
              "      <td>5</td>\n",
              "      <td>2</td>\n",
              "      <td>MS</td>\n",
              "    </tr>\n",
              "    <tr>\n",
              "      <th>1</th>\n",
              "      <td>New_MS_122.wav</td>\n",
              "      <td>5</td>\n",
              "      <td>2</td>\n",
              "      <td>MS</td>\n",
              "    </tr>\n",
              "    <tr>\n",
              "      <th>2</th>\n",
              "      <td>New_MS_024.wav</td>\n",
              "      <td>5</td>\n",
              "      <td>2</td>\n",
              "      <td>MS</td>\n",
              "    </tr>\n",
              "    <tr>\n",
              "      <th>3</th>\n",
              "      <td>New_MS_002.wav</td>\n",
              "      <td>5</td>\n",
              "      <td>2</td>\n",
              "      <td>MS</td>\n",
              "    </tr>\n",
              "    <tr>\n",
              "      <th>4</th>\n",
              "      <td>New_MS_114.wav</td>\n",
              "      <td>5</td>\n",
              "      <td>2</td>\n",
              "      <td>MS</td>\n",
              "    </tr>\n",
              "  </tbody>\n",
              "</table>\n",
              "</div>\n",
              "    <div class=\"colab-df-buttons\">\n",
              "\n",
              "  <div class=\"colab-df-container\">\n",
              "    <button class=\"colab-df-convert\" onclick=\"convertToInteractive('df-023ea115-c771-47f9-ae34-b74dfd07b446')\"\n",
              "            title=\"Convert this dataframe to an interactive table.\"\n",
              "            style=\"display:none;\">\n",
              "\n",
              "  <svg xmlns=\"http://www.w3.org/2000/svg\" height=\"24px\" viewBox=\"0 -960 960 960\">\n",
              "    <path d=\"M120-120v-720h720v720H120Zm60-500h600v-160H180v160Zm220 220h160v-160H400v160Zm0 220h160v-160H400v160ZM180-400h160v-160H180v160Zm440 0h160v-160H620v160ZM180-180h160v-160H180v160Zm440 0h160v-160H620v160Z\"/>\n",
              "  </svg>\n",
              "    </button>\n",
              "\n",
              "  <style>\n",
              "    .colab-df-container {\n",
              "      display:flex;\n",
              "      gap: 12px;\n",
              "    }\n",
              "\n",
              "    .colab-df-convert {\n",
              "      background-color: #E8F0FE;\n",
              "      border: none;\n",
              "      border-radius: 50%;\n",
              "      cursor: pointer;\n",
              "      display: none;\n",
              "      fill: #1967D2;\n",
              "      height: 32px;\n",
              "      padding: 0 0 0 0;\n",
              "      width: 32px;\n",
              "    }\n",
              "\n",
              "    .colab-df-convert:hover {\n",
              "      background-color: #E2EBFA;\n",
              "      box-shadow: 0px 1px 2px rgba(60, 64, 67, 0.3), 0px 1px 3px 1px rgba(60, 64, 67, 0.15);\n",
              "      fill: #174EA6;\n",
              "    }\n",
              "\n",
              "    .colab-df-buttons div {\n",
              "      margin-bottom: 4px;\n",
              "    }\n",
              "\n",
              "    [theme=dark] .colab-df-convert {\n",
              "      background-color: #3B4455;\n",
              "      fill: #D2E3FC;\n",
              "    }\n",
              "\n",
              "    [theme=dark] .colab-df-convert:hover {\n",
              "      background-color: #434B5C;\n",
              "      box-shadow: 0px 1px 3px 1px rgba(0, 0, 0, 0.15);\n",
              "      filter: drop-shadow(0px 1px 2px rgba(0, 0, 0, 0.3));\n",
              "      fill: #FFFFFF;\n",
              "    }\n",
              "  </style>\n",
              "\n",
              "    <script>\n",
              "      const buttonEl =\n",
              "        document.querySelector('#df-023ea115-c771-47f9-ae34-b74dfd07b446 button.colab-df-convert');\n",
              "      buttonEl.style.display =\n",
              "        google.colab.kernel.accessAllowed ? 'block' : 'none';\n",
              "\n",
              "      async function convertToInteractive(key) {\n",
              "        const element = document.querySelector('#df-023ea115-c771-47f9-ae34-b74dfd07b446');\n",
              "        const dataTable =\n",
              "          await google.colab.kernel.invokeFunction('convertToInteractive',\n",
              "                                                    [key], {});\n",
              "        if (!dataTable) return;\n",
              "\n",
              "        const docLinkHtml = 'Like what you see? Visit the ' +\n",
              "          '<a target=\"_blank\" href=https://colab.research.google.com/notebooks/data_table.ipynb>data table notebook</a>'\n",
              "          + ' to learn more about interactive tables.';\n",
              "        element.innerHTML = '';\n",
              "        dataTable['output_type'] = 'display_data';\n",
              "        await google.colab.output.renderOutput(dataTable, element);\n",
              "        const docLink = document.createElement('div');\n",
              "        docLink.innerHTML = docLinkHtml;\n",
              "        element.appendChild(docLink);\n",
              "      }\n",
              "    </script>\n",
              "  </div>\n",
              "\n",
              "\n",
              "<div id=\"df-32686f2b-09b2-456f-9758-4d55bca17e6a\">\n",
              "  <button class=\"colab-df-quickchart\" onclick=\"quickchart('df-32686f2b-09b2-456f-9758-4d55bca17e6a')\"\n",
              "            title=\"Suggest charts\"\n",
              "            style=\"display:none;\">\n",
              "\n",
              "<svg xmlns=\"http://www.w3.org/2000/svg\" height=\"24px\"viewBox=\"0 0 24 24\"\n",
              "     width=\"24px\">\n",
              "    <g>\n",
              "        <path d=\"M19 3H5c-1.1 0-2 .9-2 2v14c0 1.1.9 2 2 2h14c1.1 0 2-.9 2-2V5c0-1.1-.9-2-2-2zM9 17H7v-7h2v7zm4 0h-2V7h2v10zm4 0h-2v-4h2v4z\"/>\n",
              "    </g>\n",
              "</svg>\n",
              "  </button>\n",
              "\n",
              "<style>\n",
              "  .colab-df-quickchart {\n",
              "      --bg-color: #E8F0FE;\n",
              "      --fill-color: #1967D2;\n",
              "      --hover-bg-color: #E2EBFA;\n",
              "      --hover-fill-color: #174EA6;\n",
              "      --disabled-fill-color: #AAA;\n",
              "      --disabled-bg-color: #DDD;\n",
              "  }\n",
              "\n",
              "  [theme=dark] .colab-df-quickchart {\n",
              "      --bg-color: #3B4455;\n",
              "      --fill-color: #D2E3FC;\n",
              "      --hover-bg-color: #434B5C;\n",
              "      --hover-fill-color: #FFFFFF;\n",
              "      --disabled-bg-color: #3B4455;\n",
              "      --disabled-fill-color: #666;\n",
              "  }\n",
              "\n",
              "  .colab-df-quickchart {\n",
              "    background-color: var(--bg-color);\n",
              "    border: none;\n",
              "    border-radius: 50%;\n",
              "    cursor: pointer;\n",
              "    display: none;\n",
              "    fill: var(--fill-color);\n",
              "    height: 32px;\n",
              "    padding: 0;\n",
              "    width: 32px;\n",
              "  }\n",
              "\n",
              "  .colab-df-quickchart:hover {\n",
              "    background-color: var(--hover-bg-color);\n",
              "    box-shadow: 0 1px 2px rgba(60, 64, 67, 0.3), 0 1px 3px 1px rgba(60, 64, 67, 0.15);\n",
              "    fill: var(--button-hover-fill-color);\n",
              "  }\n",
              "\n",
              "  .colab-df-quickchart-complete:disabled,\n",
              "  .colab-df-quickchart-complete:disabled:hover {\n",
              "    background-color: var(--disabled-bg-color);\n",
              "    fill: var(--disabled-fill-color);\n",
              "    box-shadow: none;\n",
              "  }\n",
              "\n",
              "  .colab-df-spinner {\n",
              "    border: 2px solid var(--fill-color);\n",
              "    border-color: transparent;\n",
              "    border-bottom-color: var(--fill-color);\n",
              "    animation:\n",
              "      spin 1s steps(1) infinite;\n",
              "  }\n",
              "\n",
              "  @keyframes spin {\n",
              "    0% {\n",
              "      border-color: transparent;\n",
              "      border-bottom-color: var(--fill-color);\n",
              "      border-left-color: var(--fill-color);\n",
              "    }\n",
              "    20% {\n",
              "      border-color: transparent;\n",
              "      border-left-color: var(--fill-color);\n",
              "      border-top-color: var(--fill-color);\n",
              "    }\n",
              "    30% {\n",
              "      border-color: transparent;\n",
              "      border-left-color: var(--fill-color);\n",
              "      border-top-color: var(--fill-color);\n",
              "      border-right-color: var(--fill-color);\n",
              "    }\n",
              "    40% {\n",
              "      border-color: transparent;\n",
              "      border-right-color: var(--fill-color);\n",
              "      border-top-color: var(--fill-color);\n",
              "    }\n",
              "    60% {\n",
              "      border-color: transparent;\n",
              "      border-right-color: var(--fill-color);\n",
              "    }\n",
              "    80% {\n",
              "      border-color: transparent;\n",
              "      border-right-color: var(--fill-color);\n",
              "      border-bottom-color: var(--fill-color);\n",
              "    }\n",
              "    90% {\n",
              "      border-color: transparent;\n",
              "      border-bottom-color: var(--fill-color);\n",
              "    }\n",
              "  }\n",
              "</style>\n",
              "\n",
              "  <script>\n",
              "    async function quickchart(key) {\n",
              "      const quickchartButtonEl =\n",
              "        document.querySelector('#' + key + ' button');\n",
              "      quickchartButtonEl.disabled = true;  // To prevent multiple clicks.\n",
              "      quickchartButtonEl.classList.add('colab-df-spinner');\n",
              "      try {\n",
              "        const charts = await google.colab.kernel.invokeFunction(\n",
              "            'suggestCharts', [key], {});\n",
              "      } catch (error) {\n",
              "        console.error('Error during call to suggestCharts:', error);\n",
              "      }\n",
              "      quickchartButtonEl.classList.remove('colab-df-spinner');\n",
              "      quickchartButtonEl.classList.add('colab-df-quickchart-complete');\n",
              "    }\n",
              "    (() => {\n",
              "      let quickchartButtonEl =\n",
              "        document.querySelector('#df-32686f2b-09b2-456f-9758-4d55bca17e6a button');\n",
              "      quickchartButtonEl.style.display =\n",
              "        google.colab.kernel.accessAllowed ? 'block' : 'none';\n",
              "    })();\n",
              "  </script>\n",
              "</div>\n",
              "\n",
              "    </div>\n",
              "  </div>\n"
            ],
            "application/vnd.google.colaboratory.intrinsic+json": {
              "type": "dataframe",
              "variable_name": "pd_data",
              "summary": "{\n  \"name\": \"pd_data\",\n  \"rows\": 1000,\n  \"fields\": [\n    {\n      \"column\": \"file name\",\n      \"properties\": {\n        \"dtype\": \"string\",\n        \"num_unique_values\": 1000,\n        \"samples\": [\n          \"New_MR_169.wav\",\n          \"New_N_056.wav\",\n          \"New_N_064.wav\"\n        ],\n        \"semantic_type\": \"\",\n        \"description\": \"\"\n      }\n    },\n    {\n      \"column\": \"fold\",\n      \"properties\": {\n        \"dtype\": \"number\",\n        \"std\": 1,\n        \"min\": 1,\n        \"max\": 5,\n        \"num_unique_values\": 3,\n        \"samples\": [\n          5,\n          4,\n          1\n        ],\n        \"semantic_type\": \"\",\n        \"description\": \"\"\n      }\n    },\n    {\n      \"column\": \"target\",\n      \"properties\": {\n        \"dtype\": \"number\",\n        \"std\": 1,\n        \"min\": 0,\n        \"max\": 4,\n        \"num_unique_values\": 5,\n        \"samples\": [\n          3,\n          0,\n          1\n        ],\n        \"semantic_type\": \"\",\n        \"description\": \"\"\n      }\n    },\n    {\n      \"column\": \"foldername\",\n      \"properties\": {\n        \"dtype\": \"category\",\n        \"num_unique_values\": 5,\n        \"samples\": [\n          \"MVP\",\n          \"AS\",\n          \"MR\"\n        ],\n        \"semantic_type\": \"\",\n        \"description\": \"\"\n      }\n    }\n  ]\n}"
            }
          },
          "metadata": {},
          "execution_count": 13
        }
      ],
      "source": [
        "esc50_csv = './datasets/Data/meta/metadata.csv'\n",
        "base_data_path = './datasets/Data/audio/'\n",
        "\n",
        "pd_data = pd.read_csv(esc50_csv)\n",
        "pd_data.head()"
      ]
    },
    {
      "cell_type": "markdown",
      "metadata": {
        "id": "7d4rHBEQ2QAU"
      },
      "source": [
        "### Filter the data\n",
        "\n",
        "Now that the data is stored in the `DataFrame`, apply some transformations:\n",
        "\n",
        "- Filter out rows and use only the selected classes\n",
        "- Amend the filename to have the full path. This will make loading easier later.\n",
        "- Change targets to be within a specific range."
      ]
    },
    {
      "cell_type": "code",
      "execution_count": null,
      "metadata": {
        "id": "tFnEoQjgs14I",
        "colab": {
          "base_uri": "https://localhost:8080/",
          "height": 424
        },
        "outputId": "ae4e3e09-960c-4179-96df-9cfdc0477e82"
      },
      "outputs": [
        {
          "output_type": "execute_result",
          "data": {
            "text/plain": [
              "          file name  fold  target foldername  \\\n",
              "0    New_MS_074.wav     5       2         MS   \n",
              "1    New_MS_122.wav     5       2         MS   \n",
              "2    New_MS_024.wav     5       2         MS   \n",
              "3    New_MS_002.wav     5       2         MS   \n",
              "4    New_MS_114.wav     5       2         MS   \n",
              "..              ...   ...     ...        ...   \n",
              "995  New_AS_196.wav     1       0         AS   \n",
              "996  New_AS_152.wav     1       0         AS   \n",
              "997  New_AS_106.wav     1       0         AS   \n",
              "998  New_AS_161.wav     1       0         AS   \n",
              "999  New_AS_052.wav     1       0         AS   \n",
              "\n",
              "                                 filename  \n",
              "0    ./datasets/Data/audio/New_MS_074.wav  \n",
              "1    ./datasets/Data/audio/New_MS_122.wav  \n",
              "2    ./datasets/Data/audio/New_MS_024.wav  \n",
              "3    ./datasets/Data/audio/New_MS_002.wav  \n",
              "4    ./datasets/Data/audio/New_MS_114.wav  \n",
              "..                                    ...  \n",
              "995  ./datasets/Data/audio/New_AS_196.wav  \n",
              "996  ./datasets/Data/audio/New_AS_152.wav  \n",
              "997  ./datasets/Data/audio/New_AS_106.wav  \n",
              "998  ./datasets/Data/audio/New_AS_161.wav  \n",
              "999  ./datasets/Data/audio/New_AS_052.wav  \n",
              "\n",
              "[1000 rows x 5 columns]"
            ],
            "text/html": [
              "\n",
              "  <div id=\"df-0a6960ca-7f72-421f-ac32-3f51481b8e07\" class=\"colab-df-container\">\n",
              "    <div>\n",
              "<style scoped>\n",
              "    .dataframe tbody tr th:only-of-type {\n",
              "        vertical-align: middle;\n",
              "    }\n",
              "\n",
              "    .dataframe tbody tr th {\n",
              "        vertical-align: top;\n",
              "    }\n",
              "\n",
              "    .dataframe thead th {\n",
              "        text-align: right;\n",
              "    }\n",
              "</style>\n",
              "<table border=\"1\" class=\"dataframe\">\n",
              "  <thead>\n",
              "    <tr style=\"text-align: right;\">\n",
              "      <th></th>\n",
              "      <th>file name</th>\n",
              "      <th>fold</th>\n",
              "      <th>target</th>\n",
              "      <th>foldername</th>\n",
              "      <th>filename</th>\n",
              "    </tr>\n",
              "  </thead>\n",
              "  <tbody>\n",
              "    <tr>\n",
              "      <th>0</th>\n",
              "      <td>New_MS_074.wav</td>\n",
              "      <td>5</td>\n",
              "      <td>2</td>\n",
              "      <td>MS</td>\n",
              "      <td>./datasets/Data/audio/New_MS_074.wav</td>\n",
              "    </tr>\n",
              "    <tr>\n",
              "      <th>1</th>\n",
              "      <td>New_MS_122.wav</td>\n",
              "      <td>5</td>\n",
              "      <td>2</td>\n",
              "      <td>MS</td>\n",
              "      <td>./datasets/Data/audio/New_MS_122.wav</td>\n",
              "    </tr>\n",
              "    <tr>\n",
              "      <th>2</th>\n",
              "      <td>New_MS_024.wav</td>\n",
              "      <td>5</td>\n",
              "      <td>2</td>\n",
              "      <td>MS</td>\n",
              "      <td>./datasets/Data/audio/New_MS_024.wav</td>\n",
              "    </tr>\n",
              "    <tr>\n",
              "      <th>3</th>\n",
              "      <td>New_MS_002.wav</td>\n",
              "      <td>5</td>\n",
              "      <td>2</td>\n",
              "      <td>MS</td>\n",
              "      <td>./datasets/Data/audio/New_MS_002.wav</td>\n",
              "    </tr>\n",
              "    <tr>\n",
              "      <th>4</th>\n",
              "      <td>New_MS_114.wav</td>\n",
              "      <td>5</td>\n",
              "      <td>2</td>\n",
              "      <td>MS</td>\n",
              "      <td>./datasets/Data/audio/New_MS_114.wav</td>\n",
              "    </tr>\n",
              "    <tr>\n",
              "      <th>...</th>\n",
              "      <td>...</td>\n",
              "      <td>...</td>\n",
              "      <td>...</td>\n",
              "      <td>...</td>\n",
              "      <td>...</td>\n",
              "    </tr>\n",
              "    <tr>\n",
              "      <th>995</th>\n",
              "      <td>New_AS_196.wav</td>\n",
              "      <td>1</td>\n",
              "      <td>0</td>\n",
              "      <td>AS</td>\n",
              "      <td>./datasets/Data/audio/New_AS_196.wav</td>\n",
              "    </tr>\n",
              "    <tr>\n",
              "      <th>996</th>\n",
              "      <td>New_AS_152.wav</td>\n",
              "      <td>1</td>\n",
              "      <td>0</td>\n",
              "      <td>AS</td>\n",
              "      <td>./datasets/Data/audio/New_AS_152.wav</td>\n",
              "    </tr>\n",
              "    <tr>\n",
              "      <th>997</th>\n",
              "      <td>New_AS_106.wav</td>\n",
              "      <td>1</td>\n",
              "      <td>0</td>\n",
              "      <td>AS</td>\n",
              "      <td>./datasets/Data/audio/New_AS_106.wav</td>\n",
              "    </tr>\n",
              "    <tr>\n",
              "      <th>998</th>\n",
              "      <td>New_AS_161.wav</td>\n",
              "      <td>1</td>\n",
              "      <td>0</td>\n",
              "      <td>AS</td>\n",
              "      <td>./datasets/Data/audio/New_AS_161.wav</td>\n",
              "    </tr>\n",
              "    <tr>\n",
              "      <th>999</th>\n",
              "      <td>New_AS_052.wav</td>\n",
              "      <td>1</td>\n",
              "      <td>0</td>\n",
              "      <td>AS</td>\n",
              "      <td>./datasets/Data/audio/New_AS_052.wav</td>\n",
              "    </tr>\n",
              "  </tbody>\n",
              "</table>\n",
              "<p>1000 rows × 5 columns</p>\n",
              "</div>\n",
              "    <div class=\"colab-df-buttons\">\n",
              "\n",
              "  <div class=\"colab-df-container\">\n",
              "    <button class=\"colab-df-convert\" onclick=\"convertToInteractive('df-0a6960ca-7f72-421f-ac32-3f51481b8e07')\"\n",
              "            title=\"Convert this dataframe to an interactive table.\"\n",
              "            style=\"display:none;\">\n",
              "\n",
              "  <svg xmlns=\"http://www.w3.org/2000/svg\" height=\"24px\" viewBox=\"0 -960 960 960\">\n",
              "    <path d=\"M120-120v-720h720v720H120Zm60-500h600v-160H180v160Zm220 220h160v-160H400v160Zm0 220h160v-160H400v160ZM180-400h160v-160H180v160Zm440 0h160v-160H620v160ZM180-180h160v-160H180v160Zm440 0h160v-160H620v160Z\"/>\n",
              "  </svg>\n",
              "    </button>\n",
              "\n",
              "  <style>\n",
              "    .colab-df-container {\n",
              "      display:flex;\n",
              "      gap: 12px;\n",
              "    }\n",
              "\n",
              "    .colab-df-convert {\n",
              "      background-color: #E8F0FE;\n",
              "      border: none;\n",
              "      border-radius: 50%;\n",
              "      cursor: pointer;\n",
              "      display: none;\n",
              "      fill: #1967D2;\n",
              "      height: 32px;\n",
              "      padding: 0 0 0 0;\n",
              "      width: 32px;\n",
              "    }\n",
              "\n",
              "    .colab-df-convert:hover {\n",
              "      background-color: #E2EBFA;\n",
              "      box-shadow: 0px 1px 2px rgba(60, 64, 67, 0.3), 0px 1px 3px 1px rgba(60, 64, 67, 0.15);\n",
              "      fill: #174EA6;\n",
              "    }\n",
              "\n",
              "    .colab-df-buttons div {\n",
              "      margin-bottom: 4px;\n",
              "    }\n",
              "\n",
              "    [theme=dark] .colab-df-convert {\n",
              "      background-color: #3B4455;\n",
              "      fill: #D2E3FC;\n",
              "    }\n",
              "\n",
              "    [theme=dark] .colab-df-convert:hover {\n",
              "      background-color: #434B5C;\n",
              "      box-shadow: 0px 1px 3px 1px rgba(0, 0, 0, 0.15);\n",
              "      filter: drop-shadow(0px 1px 2px rgba(0, 0, 0, 0.3));\n",
              "      fill: #FFFFFF;\n",
              "    }\n",
              "  </style>\n",
              "\n",
              "    <script>\n",
              "      const buttonEl =\n",
              "        document.querySelector('#df-0a6960ca-7f72-421f-ac32-3f51481b8e07 button.colab-df-convert');\n",
              "      buttonEl.style.display =\n",
              "        google.colab.kernel.accessAllowed ? 'block' : 'none';\n",
              "\n",
              "      async function convertToInteractive(key) {\n",
              "        const element = document.querySelector('#df-0a6960ca-7f72-421f-ac32-3f51481b8e07');\n",
              "        const dataTable =\n",
              "          await google.colab.kernel.invokeFunction('convertToInteractive',\n",
              "                                                    [key], {});\n",
              "        if (!dataTable) return;\n",
              "\n",
              "        const docLinkHtml = 'Like what you see? Visit the ' +\n",
              "          '<a target=\"_blank\" href=https://colab.research.google.com/notebooks/data_table.ipynb>data table notebook</a>'\n",
              "          + ' to learn more about interactive tables.';\n",
              "        element.innerHTML = '';\n",
              "        dataTable['output_type'] = 'display_data';\n",
              "        await google.colab.output.renderOutput(dataTable, element);\n",
              "        const docLink = document.createElement('div');\n",
              "        docLink.innerHTML = docLinkHtml;\n",
              "        element.appendChild(docLink);\n",
              "      }\n",
              "    </script>\n",
              "  </div>\n",
              "\n",
              "\n",
              "<div id=\"df-9dcdea25-61eb-4a3f-a4d8-6af332a6f0bb\">\n",
              "  <button class=\"colab-df-quickchart\" onclick=\"quickchart('df-9dcdea25-61eb-4a3f-a4d8-6af332a6f0bb')\"\n",
              "            title=\"Suggest charts\"\n",
              "            style=\"display:none;\">\n",
              "\n",
              "<svg xmlns=\"http://www.w3.org/2000/svg\" height=\"24px\"viewBox=\"0 0 24 24\"\n",
              "     width=\"24px\">\n",
              "    <g>\n",
              "        <path d=\"M19 3H5c-1.1 0-2 .9-2 2v14c0 1.1.9 2 2 2h14c1.1 0 2-.9 2-2V5c0-1.1-.9-2-2-2zM9 17H7v-7h2v7zm4 0h-2V7h2v10zm4 0h-2v-4h2v4z\"/>\n",
              "    </g>\n",
              "</svg>\n",
              "  </button>\n",
              "\n",
              "<style>\n",
              "  .colab-df-quickchart {\n",
              "      --bg-color: #E8F0FE;\n",
              "      --fill-color: #1967D2;\n",
              "      --hover-bg-color: #E2EBFA;\n",
              "      --hover-fill-color: #174EA6;\n",
              "      --disabled-fill-color: #AAA;\n",
              "      --disabled-bg-color: #DDD;\n",
              "  }\n",
              "\n",
              "  [theme=dark] .colab-df-quickchart {\n",
              "      --bg-color: #3B4455;\n",
              "      --fill-color: #D2E3FC;\n",
              "      --hover-bg-color: #434B5C;\n",
              "      --hover-fill-color: #FFFFFF;\n",
              "      --disabled-bg-color: #3B4455;\n",
              "      --disabled-fill-color: #666;\n",
              "  }\n",
              "\n",
              "  .colab-df-quickchart {\n",
              "    background-color: var(--bg-color);\n",
              "    border: none;\n",
              "    border-radius: 50%;\n",
              "    cursor: pointer;\n",
              "    display: none;\n",
              "    fill: var(--fill-color);\n",
              "    height: 32px;\n",
              "    padding: 0;\n",
              "    width: 32px;\n",
              "  }\n",
              "\n",
              "  .colab-df-quickchart:hover {\n",
              "    background-color: var(--hover-bg-color);\n",
              "    box-shadow: 0 1px 2px rgba(60, 64, 67, 0.3), 0 1px 3px 1px rgba(60, 64, 67, 0.15);\n",
              "    fill: var(--button-hover-fill-color);\n",
              "  }\n",
              "\n",
              "  .colab-df-quickchart-complete:disabled,\n",
              "  .colab-df-quickchart-complete:disabled:hover {\n",
              "    background-color: var(--disabled-bg-color);\n",
              "    fill: var(--disabled-fill-color);\n",
              "    box-shadow: none;\n",
              "  }\n",
              "\n",
              "  .colab-df-spinner {\n",
              "    border: 2px solid var(--fill-color);\n",
              "    border-color: transparent;\n",
              "    border-bottom-color: var(--fill-color);\n",
              "    animation:\n",
              "      spin 1s steps(1) infinite;\n",
              "  }\n",
              "\n",
              "  @keyframes spin {\n",
              "    0% {\n",
              "      border-color: transparent;\n",
              "      border-bottom-color: var(--fill-color);\n",
              "      border-left-color: var(--fill-color);\n",
              "    }\n",
              "    20% {\n",
              "      border-color: transparent;\n",
              "      border-left-color: var(--fill-color);\n",
              "      border-top-color: var(--fill-color);\n",
              "    }\n",
              "    30% {\n",
              "      border-color: transparent;\n",
              "      border-left-color: var(--fill-color);\n",
              "      border-top-color: var(--fill-color);\n",
              "      border-right-color: var(--fill-color);\n",
              "    }\n",
              "    40% {\n",
              "      border-color: transparent;\n",
              "      border-right-color: var(--fill-color);\n",
              "      border-top-color: var(--fill-color);\n",
              "    }\n",
              "    60% {\n",
              "      border-color: transparent;\n",
              "      border-right-color: var(--fill-color);\n",
              "    }\n",
              "    80% {\n",
              "      border-color: transparent;\n",
              "      border-right-color: var(--fill-color);\n",
              "      border-bottom-color: var(--fill-color);\n",
              "    }\n",
              "    90% {\n",
              "      border-color: transparent;\n",
              "      border-bottom-color: var(--fill-color);\n",
              "    }\n",
              "  }\n",
              "</style>\n",
              "\n",
              "  <script>\n",
              "    async function quickchart(key) {\n",
              "      const quickchartButtonEl =\n",
              "        document.querySelector('#' + key + ' button');\n",
              "      quickchartButtonEl.disabled = true;  // To prevent multiple clicks.\n",
              "      quickchartButtonEl.classList.add('colab-df-spinner');\n",
              "      try {\n",
              "        const charts = await google.colab.kernel.invokeFunction(\n",
              "            'suggestCharts', [key], {});\n",
              "      } catch (error) {\n",
              "        console.error('Error during call to suggestCharts:', error);\n",
              "      }\n",
              "      quickchartButtonEl.classList.remove('colab-df-spinner');\n",
              "      quickchartButtonEl.classList.add('colab-df-quickchart-complete');\n",
              "    }\n",
              "    (() => {\n",
              "      let quickchartButtonEl =\n",
              "        document.querySelector('#df-9dcdea25-61eb-4a3f-a4d8-6af332a6f0bb button');\n",
              "      quickchartButtonEl.style.display =\n",
              "        google.colab.kernel.accessAllowed ? 'block' : 'none';\n",
              "    })();\n",
              "  </script>\n",
              "</div>\n",
              "\n",
              "    </div>\n",
              "  </div>\n"
            ],
            "application/vnd.google.colaboratory.intrinsic+json": {
              "type": "dataframe",
              "variable_name": "filtered_pd",
              "summary": "{\n  \"name\": \"filtered_pd\",\n  \"rows\": 1000,\n  \"fields\": [\n    {\n      \"column\": \"file name\",\n      \"properties\": {\n        \"dtype\": \"string\",\n        \"num_unique_values\": 1000,\n        \"samples\": [\n          \"New_MR_169.wav\",\n          \"New_N_056.wav\",\n          \"New_N_064.wav\"\n        ],\n        \"semantic_type\": \"\",\n        \"description\": \"\"\n      }\n    },\n    {\n      \"column\": \"fold\",\n      \"properties\": {\n        \"dtype\": \"number\",\n        \"std\": 1,\n        \"min\": 1,\n        \"max\": 5,\n        \"num_unique_values\": 3,\n        \"samples\": [\n          5,\n          4,\n          1\n        ],\n        \"semantic_type\": \"\",\n        \"description\": \"\"\n      }\n    },\n    {\n      \"column\": \"target\",\n      \"properties\": {\n        \"dtype\": \"number\",\n        \"std\": 1,\n        \"min\": 0,\n        \"max\": 4,\n        \"num_unique_values\": 5,\n        \"samples\": [\n          3,\n          0,\n          1\n        ],\n        \"semantic_type\": \"\",\n        \"description\": \"\"\n      }\n    },\n    {\n      \"column\": \"foldername\",\n      \"properties\": {\n        \"dtype\": \"category\",\n        \"num_unique_values\": 5,\n        \"samples\": [\n          \"MVP\",\n          \"AS\",\n          \"MR\"\n        ],\n        \"semantic_type\": \"\",\n        \"description\": \"\"\n      }\n    },\n    {\n      \"column\": \"filename\",\n      \"properties\": {\n        \"dtype\": \"string\",\n        \"num_unique_values\": 1000,\n        \"samples\": [\n          \"./datasets/Data/audio/New_MR_169.wav\",\n          \"./datasets/Data/audio/New_N_056.wav\",\n          \"./datasets/Data/audio/New_N_064.wav\"\n        ],\n        \"semantic_type\": \"\",\n        \"description\": \"\"\n      }\n    }\n  ]\n}"
            }
          },
          "metadata": {},
          "execution_count": 14
        }
      ],
      "source": [
        "my_classes = ['AS', 'MR', 'MS', 'MVP', 'N']\n",
        "map_class_to_id = {'AS':0, 'MR':1, 'MS':2, 'MVP':3, 'N': 4}\n",
        "\n",
        "filtered_pd = pd_data[pd_data.foldername.isin(my_classes)]\n",
        "\n",
        "class_id = filtered_pd['foldername'].apply(lambda name: map_class_to_id[name])\n",
        "filtered_pd = filtered_pd.assign(target=class_id)\n",
        "\n",
        "full_path = filtered_pd['file name'].apply(lambda row: os.path.join(base_data_path, row))\n",
        "filtered_pd = filtered_pd.assign(filename=full_path)\n",
        "\n",
        "filtered_pd.head(1000)"
      ]
    },
    {
      "cell_type": "markdown",
      "metadata": {
        "id": "BkDcBS-aJdCz"
      },
      "source": [
        "### Load the audio files and retrieve embeddings\n",
        "\n",
        "Here you'll apply the `load_wav_16k_mono` and prepare the WAV data for the model.\n",
        "\n",
        "When extracting embeddings from the WAV data, you get an array of shape `(N, 1024)`  where `N` is the number of frames that YAMNet found (one for every 0.48 seconds of audio)."
      ]
    },
    {
      "cell_type": "markdown",
      "metadata": {
        "id": "AKDT5RomaDKO"
      },
      "source": [
        "Your model will use each frame as one input. Therefore, you need to create a new column that has one frame per row. You also need to expand the labels and the `fold` column to proper reflect these new rows.\n",
        "\n",
        "The expanded `fold` column keeps the original values. You cannot mix frames because, when performing the splits, you might end up having parts of the same audio on different splits, which would make your validation and test steps less effective."
      ]
    },
    {
      "cell_type": "code",
      "execution_count": null,
      "metadata": {
        "id": "u5Rq3_PyKLtU",
        "colab": {
          "base_uri": "https://localhost:8080/"
        },
        "outputId": "b43515c7-aac1-4e57-f1a1-90ffdc262137"
      },
      "outputs": [
        {
          "output_type": "stream",
          "name": "stdout",
          "text": [
            "<TakeDataset element_spec=(TensorSpec(shape=(), dtype=tf.string, name=None), TensorSpec(shape=(), dtype=tf.int64, name=None), TensorSpec(shape=(), dtype=tf.int64, name=None))>\n"
          ]
        }
      ],
      "source": [
        "filenames = filtered_pd['filename']\n",
        "targets = filtered_pd['target']\n",
        "folds = filtered_pd['fold']\n",
        "\n",
        "main_ds = tf.data.Dataset.from_tensor_slices((filenames, targets, folds))\n",
        "main_ds.element_spec\n",
        "print(main_ds.take(1000))"
      ]
    },
    {
      "cell_type": "code",
      "execution_count": null,
      "metadata": {
        "id": "rsEfovDVAHGY",
        "colab": {
          "base_uri": "https://localhost:8080/"
        },
        "outputId": "24e8cb5e-ca47-42de-f285-c493134dea7a"
      },
      "outputs": [
        {
          "output_type": "stream",
          "name": "stderr",
          "text": [
            "WARNING:tensorflow:Using a while_loop for converting IO>AudioResample cause there is no registered converter for this op.\n"
          ]
        },
        {
          "output_type": "execute_result",
          "data": {
            "text/plain": [
              "(TensorSpec(shape=<unknown>, dtype=tf.float32, name=None),\n",
              " TensorSpec(shape=(), dtype=tf.int64, name=None),\n",
              " TensorSpec(shape=(), dtype=tf.int64, name=None))"
            ]
          },
          "metadata": {},
          "execution_count": 16
        }
      ],
      "source": [
        "def load_wav_for_map(filename, label, fold):\n",
        "  return load_wav_16k_mono(filename), label, fold\n",
        "\n",
        "main_ds = main_ds.map(load_wav_for_map)\n",
        "main_ds.element_spec"
      ]
    },
    {
      "cell_type": "code",
      "execution_count": null,
      "metadata": {
        "id": "k0tG8DBNAHcE",
        "colab": {
          "base_uri": "https://localhost:8080/"
        },
        "outputId": "4547a3ab-f65a-4bf4-d561-4079d94ae329"
      },
      "outputs": [
        {
          "output_type": "execute_result",
          "data": {
            "text/plain": [
              "(TensorSpec(shape=(1024,), dtype=tf.float32, name=None),\n",
              " TensorSpec(shape=(), dtype=tf.int64, name=None),\n",
              " TensorSpec(shape=(), dtype=tf.int64, name=None))"
            ]
          },
          "metadata": {},
          "execution_count": 17
        }
      ],
      "source": [
        "# applies the embedding extraction model to a wav data\n",
        "def extract_embedding(wav_data, label, fold):\n",
        "  ''' run YAMNet to extract embedding from the wav data '''\n",
        "  scores, embeddings, spectrogram = yamnet_model(wav_data)\n",
        "  num_embeddings = tf.shape(embeddings)[0]\n",
        "  return (embeddings,\n",
        "            tf.repeat(label, num_embeddings),\n",
        "            tf.repeat(fold, num_embeddings))\n",
        "\n",
        "# extract embedding\n",
        "main_ds = main_ds.map(extract_embedding).unbatch()\n",
        "main_ds.element_spec"
      ]
    },
    {
      "cell_type": "markdown",
      "metadata": {
        "id": "ZdfPIeD0Qedk"
      },
      "source": [
        "### Split the data\n",
        "\n",
        "You will use the `fold` column to split the dataset into train, validation and test sets.\n",
        "\n",
        "The last step is to remove the `fold` column from the dataset since you're not going to use it during training.\n"
      ]
    },
    {
      "cell_type": "code",
      "execution_count": null,
      "metadata": {
        "id": "1ZYvlFiVsffC"
      },
      "outputs": [],
      "source": [
        "cached_ds = main_ds.cache()\n",
        "train_ds = cached_ds.filter(lambda embedding, label, fold: fold < 4)\n",
        "val_ds = cached_ds.filter(lambda embedding, label, fold: fold == 4)\n",
        "test_ds = cached_ds.filter(lambda embedding, label, fold: fold == 5)\n",
        "\n",
        "# remove the folds column now that it's not needed anymore\n",
        "remove_fold_column = lambda embedding, label, fold: (embedding, label)\n",
        "\n",
        "train_ds = train_ds.map(remove_fold_column)\n",
        "val_ds = val_ds.map(remove_fold_column)\n",
        "test_ds = test_ds.map(remove_fold_column)\n",
        "\n",
        "train_ds = train_ds.cache().shuffle(100).batch(32).prefetch(tf.data.AUTOTUNE)\n",
        "val_ds = val_ds.cache().batch(32).prefetch(tf.data.AUTOTUNE)\n",
        "test_ds = test_ds.cache().batch(32).prefetch(tf.data.AUTOTUNE)"
      ]
    },
    {
      "cell_type": "markdown",
      "metadata": {
        "id": "v5PaMwvtcAIe"
      },
      "source": [
        "## Create your model\n",
        "\n",
        "You did most of the work!\n",
        "Next, define a very simple [Sequential](https://www.tensorflow.org/guide/keras/sequential_model) model with one hidden layer and two outputs to recognize cats and dogs from sounds.\n"
      ]
    },
    {
      "cell_type": "code",
      "execution_count": null,
      "metadata": {
        "id": "JYCE0Fr1GpN3",
        "colab": {
          "base_uri": "https://localhost:8080/"
        },
        "outputId": "481575c5-16e4-4f83-92b5-491f884302b6"
      },
      "outputs": [
        {
          "output_type": "stream",
          "name": "stdout",
          "text": [
            "Model: \"my_model\"\n",
            "_________________________________________________________________\n",
            " Layer (type)                Output Shape              Param #   \n",
            "=================================================================\n",
            " dense (Dense)               (None, 512)               524800    \n",
            "                                                                 \n",
            " dense_1 (Dense)             (None, 5)                 2565      \n",
            "                                                                 \n",
            "=================================================================\n",
            "Total params: 527,365\n",
            "Trainable params: 527,365\n",
            "Non-trainable params: 0\n",
            "_________________________________________________________________\n"
          ]
        }
      ],
      "source": [
        "my_model = tf.keras.Sequential([\n",
        "    tf.keras.layers.Input(shape=(1024), dtype=tf.float32,\n",
        "                          name='input_embedding'),\n",
        "    tf.keras.layers.Dense(512, activation='relu'),\n",
        "    tf.keras.layers.Dense(len(my_classes))\n",
        "], name='my_model')\n",
        "\n",
        "my_model.summary()"
      ]
    },
    {
      "cell_type": "code",
      "execution_count": null,
      "metadata": {
        "id": "l1qgH35HY0SE"
      },
      "outputs": [],
      "source": [
        "my_model.compile(loss=tf.keras.losses.SparseCategoricalCrossentropy(from_logits=True),\n",
        "                 optimizer=\"adam\",\n",
        "                 metrics=['accuracy'])\n",
        "\n",
        "callback = tf.keras.callbacks.EarlyStopping(monitor='loss',\n",
        "                                            patience=3,\n",
        "                                            restore_best_weights=True)"
      ]
    },
    {
      "cell_type": "code",
      "execution_count": null,
      "metadata": {
        "colab": {
          "base_uri": "https://localhost:8080/"
        },
        "id": "T3sj84eOZ3pk",
        "outputId": "bf73bca5-8fb1-49dd-9790-42769d09ab56"
      },
      "outputs": [
        {
          "output_type": "stream",
          "name": "stdout",
          "text": [
            "Epoch 1/200\n",
            "93/93 [==============================] - 47s 418ms/step - loss: 2.3931 - accuracy: 0.5079 - val_loss: 4.3563 - val_accuracy: 0.2281\n",
            "Epoch 2/200\n",
            "93/93 [==============================] - 1s 8ms/step - loss: 2.0798 - accuracy: 0.2651 - val_loss: 1.7731 - val_accuracy: 0.4057\n",
            "Epoch 3/200\n",
            "93/93 [==============================] - 1s 8ms/step - loss: 1.5567 - accuracy: 0.3454 - val_loss: 1.4616 - val_accuracy: 0.4030\n",
            "Epoch 4/200\n",
            "93/93 [==============================] - 1s 8ms/step - loss: 1.3307 - accuracy: 0.4087 - val_loss: 1.9503 - val_accuracy: 0.4139\n",
            "Epoch 5/200\n",
            "93/93 [==============================] - 1s 8ms/step - loss: 1.5356 - accuracy: 0.4124 - val_loss: 1.4526 - val_accuracy: 0.5260\n",
            "Epoch 6/200\n",
            "93/93 [==============================] - 1s 8ms/step - loss: 1.4346 - accuracy: 0.4316 - val_loss: 1.1450 - val_accuracy: 0.5765\n",
            "Epoch 7/200\n",
            "93/93 [==============================] - 1s 8ms/step - loss: 1.1857 - accuracy: 0.5251 - val_loss: 1.7325 - val_accuracy: 0.4631\n",
            "Epoch 8/200\n",
            "93/93 [==============================] - 1s 9ms/step - loss: 1.2954 - accuracy: 0.5049 - val_loss: 1.7560 - val_accuracy: 0.5410\n",
            "Epoch 9/200\n",
            "93/93 [==============================] - 1s 13ms/step - loss: 1.3544 - accuracy: 0.4985 - val_loss: 0.9507 - val_accuracy: 0.6134\n",
            "Epoch 10/200\n",
            "93/93 [==============================] - 1s 12ms/step - loss: 1.0860 - accuracy: 0.5412 - val_loss: 0.9057 - val_accuracy: 0.6626\n",
            "Epoch 11/200\n",
            "93/93 [==============================] - 1s 8ms/step - loss: 1.0292 - accuracy: 0.5799 - val_loss: 1.0158 - val_accuracy: 0.5929\n",
            "Epoch 12/200\n",
            "93/93 [==============================] - 1s 8ms/step - loss: 1.1080 - accuracy: 0.5880 - val_loss: 0.8406 - val_accuracy: 0.6803\n",
            "Epoch 13/200\n",
            "93/93 [==============================] - 1s 8ms/step - loss: 0.9794 - accuracy: 0.5970 - val_loss: 0.7740 - val_accuracy: 0.6872\n",
            "Epoch 14/200\n",
            "93/93 [==============================] - 1s 8ms/step - loss: 0.9341 - accuracy: 0.6340 - val_loss: 0.8170 - val_accuracy: 0.6995\n",
            "Epoch 15/200\n",
            "93/93 [==============================] - 1s 9ms/step - loss: 0.8584 - accuracy: 0.6468 - val_loss: 0.7256 - val_accuracy: 0.7254\n",
            "Epoch 16/200\n",
            "93/93 [==============================] - 1s 8ms/step - loss: 0.7661 - accuracy: 0.6919 - val_loss: 0.7251 - val_accuracy: 0.7268\n",
            "Epoch 17/200\n",
            "93/93 [==============================] - 1s 8ms/step - loss: 0.7392 - accuracy: 0.7151 - val_loss: 1.1104 - val_accuracy: 0.6448\n",
            "Epoch 18/200\n",
            "93/93 [==============================] - 1s 8ms/step - loss: 0.8225 - accuracy: 0.6909 - val_loss: 0.6845 - val_accuracy: 0.7404\n",
            "Epoch 19/200\n",
            "93/93 [==============================] - 1s 11ms/step - loss: 0.7081 - accuracy: 0.7312 - val_loss: 0.6335 - val_accuracy: 0.7555\n",
            "Epoch 20/200\n",
            "93/93 [==============================] - 1s 12ms/step - loss: 0.6694 - accuracy: 0.7501 - val_loss: 0.6437 - val_accuracy: 0.7486\n",
            "Epoch 21/200\n",
            "93/93 [==============================] - 1s 10ms/step - loss: 0.6584 - accuracy: 0.7575 - val_loss: 0.6126 - val_accuracy: 0.7678\n",
            "Epoch 22/200\n",
            "93/93 [==============================] - 1s 8ms/step - loss: 0.7056 - accuracy: 0.7501 - val_loss: 0.5950 - val_accuracy: 0.7746\n",
            "Epoch 23/200\n",
            "93/93 [==============================] - 1s 8ms/step - loss: 0.6134 - accuracy: 0.7783 - val_loss: 0.6075 - val_accuracy: 0.7568\n",
            "Epoch 24/200\n",
            "93/93 [==============================] - 1s 8ms/step - loss: 0.6042 - accuracy: 0.7693 - val_loss: 0.5784 - val_accuracy: 0.7801\n",
            "Epoch 25/200\n",
            "93/93 [==============================] - 1s 8ms/step - loss: 0.5214 - accuracy: 0.8076 - val_loss: 2.6869 - val_accuracy: 0.6093\n",
            "Epoch 26/200\n",
            "93/93 [==============================] - 1s 8ms/step - loss: 1.3151 - accuracy: 0.6865 - val_loss: 1.8116 - val_accuracy: 0.6339\n",
            "Epoch 27/200\n",
            "93/93 [==============================] - 1s 8ms/step - loss: 0.7948 - accuracy: 0.7669 - val_loss: 1.4540 - val_accuracy: 0.6434\n",
            "Epoch 28/200\n",
            "93/93 [==============================] - 1s 8ms/step - loss: 0.7211 - accuracy: 0.7689 - val_loss: 0.8436 - val_accuracy: 0.7063\n"
          ]
        }
      ],
      "source": [
        "history = my_model.fit(train_ds,\n",
        "                       epochs=200,\n",
        "                       validation_data=val_ds,\n",
        "                       callbacks=callback)"
      ]
    },
    {
      "cell_type": "markdown",
      "metadata": {
        "id": "OAbraYKYpdoE"
      },
      "source": [
        "Let's run the `evaluate` method on the test data just to be sure there's no overfitting."
      ]
    },
    {
      "cell_type": "code",
      "execution_count": null,
      "metadata": {
        "id": "H4Nh5nec3Sky",
        "colab": {
          "base_uri": "https://localhost:8080/"
        },
        "outputId": "24073663-9ed2-42a9-93c5-524f9683781d"
      },
      "outputs": [
        {
          "output_type": "stream",
          "name": "stdout",
          "text": [
            "30/30 [==============================] - 0s 6ms/step - loss: 2.5012 - accuracy: 0.5828\n",
            "Loss:  2.5011579990386963\n",
            "Accuracy:  0.5827956795692444\n"
          ]
        }
      ],
      "source": [
        "loss, accuracy = my_model.evaluate(test_ds)\n",
        "\n",
        "print(\"Loss: \", loss)\n",
        "print(\"Accuracy: \", accuracy)"
      ]
    },
    {
      "cell_type": "markdown",
      "metadata": {
        "id": "cid-qIrIpqHS"
      },
      "source": [
        "You did it!"
      ]
    },
    {
      "cell_type": "code",
      "execution_count": null,
      "metadata": {
        "id": "udYwYVJ11oGy",
        "colab": {
          "base_uri": "https://localhost:8080/"
        },
        "outputId": "2b4c8e58-1991-47e0-b6d7-5cb2d11bf497"
      },
      "outputs": [
        {
          "output_type": "stream",
          "name": "stderr",
          "text": [
            "WARNING:absl:Found untraced functions such as _update_step_xla while saving (showing 1 of 1). These functions will not be directly callable after loading.\n"
          ]
        }
      ],
      "source": [
        "saved_model_path = \"./saved_model\"\n",
        "\n",
        "# Save the model\n",
        "tf.saved_model.save(my_model, saved_model_path)"
      ]
    },
    {
      "cell_type": "markdown",
      "metadata": {
        "id": "nCKZonrJcXab"
      },
      "source": [
        "## Test your model\n",
        "\n",
        "Next, try your model on the embedding from the previous test using YAMNet only.\n"
      ]
    },
    {
      "cell_type": "code",
      "execution_count": null,
      "metadata": {
        "id": "79AFpA3_ctCF",
        "colab": {
          "base_uri": "https://localhost:8080/"
        },
        "outputId": "afc72633-03fa-484c-f994-338926940517"
      },
      "outputs": [
        {
          "output_type": "stream",
          "name": "stdout",
          "text": [
            "[[-2.6830788  -3.25788    -6.0102625  -0.9508889  -0.49565294]\n",
            " [-2.7574768  -3.110358   -9.444352   -2.9838614  -0.1660786 ]\n",
            " [-2.7030773  -2.5319955  -6.383415   -2.2545125  -2.0103285 ]\n",
            " [-1.1462601  -2.093366   -7.105321   -2.5958006  -1.2238582 ]]\n",
            "The main sound is: N\n"
          ]
        }
      ],
      "source": [
        "scores, embeddings, spectrogram = yamnet_model(testing_wav_data)\n",
        "result = my_model(embeddings).numpy()\n",
        "\n",
        "print(result)\n",
        "\n",
        "inferred_class = my_classes[result.mean(axis=0).argmax()]\n",
        "print(f'The main sound is: {inferred_class}')"
      ]
    },
    {
      "cell_type": "markdown",
      "metadata": {
        "id": "k2yleeev645r"
      },
      "source": [
        "## Save a model that can directly take a WAV file as input\n",
        "\n",
        "Your model works when you give it the embeddings as input.\n",
        "\n",
        "In a real-world scenario, you'll want to use audio data as a direct input.\n",
        "\n",
        "To do that, you will combine YAMNet with your model into a single model that you can export for other applications.\n",
        "\n",
        "To make it easier to use the model's result, the final layer will be a `reduce_mean` operation. When using this model for serving (which you will learn about later in the tutorial), you will need the name of the final layer. If you don't define one, TensorFlow will auto-define an incremental one that makes it hard to test, as it will keep changing every time you train the model. When using a raw TensorFlow operation, you can't assign a name to it. To address this issue, you'll create a custom layer that applies `reduce_mean` and call it `'classifier'`.\n"
      ]
    },
    {
      "cell_type": "code",
      "execution_count": null,
      "metadata": {
        "id": "QUVCI2Suunpw"
      },
      "outputs": [],
      "source": [
        "class ReduceMeanLayer(tf.keras.layers.Layer):\n",
        "  def __init__(self, axis=0, **kwargs):\n",
        "    super(ReduceMeanLayer, self).__init__(**kwargs)\n",
        "    self.axis = axis\n",
        "\n",
        "  def call(self, input):\n",
        "    return tf.math.reduce_mean(input, axis=self.axis)"
      ]
    },
    {
      "cell_type": "code",
      "execution_count": null,
      "metadata": {
        "id": "zE_Npm0nzlwc",
        "colab": {
          "base_uri": "https://localhost:8080/"
        },
        "outputId": "bee1255b-08a3-49ea-b215-89baa1467c04"
      },
      "outputs": [
        {
          "output_type": "stream",
          "name": "stderr",
          "text": [
            "WARNING:tensorflow:Compiled the loaded model, but the compiled metrics have yet to be built. `model.compile_metrics` will be empty until you train or evaluate the model.\n",
            "WARNING:absl:Found untraced functions such as _update_step_xla while saving (showing 1 of 1). These functions will not be directly callable after loading.\n",
            "WARNING:tensorflow:Compiled the loaded model, but the compiled metrics have yet to be built. `model.compile_metrics` will be empty until you train or evaluate the model.\n"
          ]
        }
      ],
      "source": [
        "saved_model_path = './dogs_and_cats_yamnet_test'\n",
        "\n",
        "input_segment = tf.keras.layers.Input(shape=(), dtype=tf.float32, name='audio')\n",
        "embedding_extraction_layer = hub.KerasLayer(yamnet_model_handle,\n",
        "                                            trainable=False, name='yamnet')\n",
        "_, embeddings_output, _ = embedding_extraction_layer(input_segment)\n",
        "serving_outputs = my_model(embeddings_output)\n",
        "serving_outputs = ReduceMeanLayer(axis=0, name='classifier')(serving_outputs)\n",
        "serving_model = tf.keras.Model(input_segment, serving_outputs)\n",
        "serving_model.save(saved_model_path, include_optimizer=False)\n",
        "serving_model.save('final_model.h5', include_optimizer=False)"
      ]
    },
    {
      "cell_type": "markdown",
      "metadata": {
        "id": "btHQDN9mqxM_"
      },
      "source": [
        "Load your saved model to verify that it works as expected."
      ]
    },
    {
      "cell_type": "code",
      "source": [
        "class SplitLayer(tf.keras.layers.Layer):\n",
        "    def call(self, inputs):\n",
        "        return tf.split(inputs, num_or_size_splits=5, axis=-1)\n"
      ],
      "metadata": {
        "id": "zw84sbgrAq8q"
      },
      "execution_count": null,
      "outputs": []
    },
    {
      "cell_type": "code",
      "source": [
        "split_model_path = './dogs_and_cats_yamnet_split'\n",
        "\n",
        "input_segment = tf.keras.layers.Input(shape=(), dtype=tf.float32, name='audio')\n",
        "embedding_extraction_layer = hub.KerasLayer(yamnet_model_handle,\n",
        "                                            trainable=False, name='yamnet')\n",
        "_, embeddings_output, _ = embedding_extraction_layer(input_segment)\n",
        "serving_outputs = my_model(embeddings_output)\n",
        "serving_outputs = ReduceMeanLayer(axis=0, name='classifier')(serving_outputs)\n",
        "serving_outputs = SplitLayer()(serving_outputs)\n",
        "serving_outputs = [tf.squeeze(output, axis=-1) for output in serving_outputs]\n",
        "serving_model = tf.keras.Model(input_segment, serving_outputs)\n",
        "serving_model.save(split_model_path, include_optimizer=False)\n",
        "serving_model.save('final_model.h5', include_optimizer=False)"
      ],
      "metadata": {
        "colab": {
          "base_uri": "https://localhost:8080/"
        },
        "id": "A6TDQGLnAsjo",
        "outputId": "21f90373-be55-4056-c06e-8cd9d234ff25"
      },
      "execution_count": null,
      "outputs": [
        {
          "output_type": "stream",
          "name": "stderr",
          "text": [
            "WARNING:tensorflow:Compiled the loaded model, but the compiled metrics have yet to be built. `model.compile_metrics` will be empty until you train or evaluate the model.\n",
            "WARNING:absl:Found untraced functions such as _update_step_xla while saving (showing 1 of 1). These functions will not be directly callable after loading.\n",
            "WARNING:tensorflow:Compiled the loaded model, but the compiled metrics have yet to be built. `model.compile_metrics` will be empty until you train or evaluate the model.\n"
          ]
        }
      ]
    },
    {
      "cell_type": "code",
      "execution_count": null,
      "metadata": {
        "id": "KkYVpJS72WWB"
      },
      "outputs": [],
      "source": [
        "reloaded_model = tf.saved_model.load(saved_model_path)"
      ]
    },
    {
      "cell_type": "code",
      "source": [
        "split_model = tf.saved_model.load(split_model_path)"
      ],
      "metadata": {
        "id": "HVWN6gyGUebK"
      },
      "execution_count": null,
      "outputs": []
    },
    {
      "cell_type": "code",
      "execution_count": null,
      "metadata": {
        "id": "v5R5E-uhD4Qz",
        "colab": {
          "base_uri": "https://localhost:8080/"
        },
        "outputId": "bba66ae4-f73e-46ab-d717-26a730eb57b0"
      },
      "outputs": [
        {
          "output_type": "stream",
          "name": "stderr",
          "text": [
            "WARNING:tensorflow:Using a while_loop for converting IO>AudioResample cause there is no registered converter for this op.\n"
          ]
        }
      ],
      "source": [
        "testing_wav_data = load_wav_16k_mono('./datasets/Data/audio/New_AS_171.wav')"
      ]
    },
    {
      "cell_type": "markdown",
      "metadata": {
        "id": "4BkmvvNzq49l"
      },
      "source": [
        "And for the final test: given some sound data, does your model return the correct result?"
      ]
    },
    {
      "cell_type": "code",
      "execution_count": null,
      "metadata": {
        "id": "xeXtD5HO28y-",
        "colab": {
          "base_uri": "https://localhost:8080/"
        },
        "outputId": "80a52183-e325-4799-cce9-f2258bd6f686"
      },
      "outputs": [
        {
          "output_type": "stream",
          "name": "stdout",
          "text": [
            "[<tf.Tensor: shape=(), dtype=float32, numpy=2.8603706>, <tf.Tensor: shape=(), dtype=float32, numpy=-2.2392824>, <tf.Tensor: shape=(), dtype=float32, numpy=-7.8616385>, <tf.Tensor: shape=(), dtype=float32, numpy=-2.628112>, <tf.Tensor: shape=(), dtype=float32, numpy=-6.675075>]\n"
          ]
        }
      ],
      "source": [
        "reloaded_results = reloaded_model(testing_wav_data)\n",
        "\n",
        "print(reloaded_results)\n",
        "#cat_or_dog = my_classes[tf.math.argmax(reloaded_results)]\n",
        "#print(f'The main sound is: {cat_or_dog}')"
      ]
    },
    {
      "cell_type": "code",
      "source": [
        "split_results = split_model(testing_wav_data)\n",
        "\n",
        "print(split_results)"
      ],
      "metadata": {
        "colab": {
          "base_uri": "https://localhost:8080/"
        },
        "id": "j6sKEuLnEsnn",
        "outputId": "aaa08645-226d-48a9-f704-0140d4b7dd30"
      },
      "execution_count": null,
      "outputs": [
        {
          "output_type": "stream",
          "name": "stdout",
          "text": [
            "[<tf.Tensor: shape=(), dtype=float32, numpy=2.8603706>, <tf.Tensor: shape=(), dtype=float32, numpy=-2.2392824>, <tf.Tensor: shape=(), dtype=float32, numpy=-7.8616385>, <tf.Tensor: shape=(), dtype=float32, numpy=-2.628112>, <tf.Tensor: shape=(), dtype=float32, numpy=-6.675075>]\n"
          ]
        }
      ]
    },
    {
      "cell_type": "markdown",
      "metadata": {
        "id": "ZRrOcBYTUgwn"
      },
      "source": [
        "If you want to try your new model on a serving setup, you can use the 'serving_default' signature."
      ]
    },
    {
      "cell_type": "code",
      "execution_count": null,
      "metadata": {
        "id": "ycC8zzDSUG2s"
      },
      "outputs": [],
      "source": [
        "serving_results = reloaded_model.signatures['serving_default'](testing_wav_data)\n",
        "cat_or_dog = my_classes[tf.math.argmax(serving_results['classifier'])]\n",
        "print(f'The main sound is: {cat_or_dog}')\n"
      ]
    },
    {
      "cell_type": "markdown",
      "metadata": {
        "id": "da7blblCHs8c"
      },
      "source": [
        "## (Optional) Some more testing\n",
        "\n",
        "The model is ready.\n",
        "\n",
        "Let's compare it to YAMNet on the test dataset."
      ]
    },
    {
      "cell_type": "code",
      "execution_count": null,
      "metadata": {
        "id": "vDf5MASIIN1z"
      },
      "outputs": [],
      "source": [
        "test_pd = filtered_pd.loc[filtered_pd['fold'] == 5]\n",
        "row = test_pd.sample(1)\n",
        "filename = row['filename'].item()\n",
        "print(filename)\n",
        "waveform = load_wav_16k_mono(filename)\n",
        "print(f'Waveform values: {waveform}')\n",
        "_ = plt.plot(waveform)\n",
        "\n",
        "display.Audio(waveform, rate=16000)"
      ]
    },
    {
      "cell_type": "code",
      "execution_count": null,
      "metadata": {
        "id": "eYUzFxYJIcE1"
      },
      "outputs": [],
      "source": [
        "# Run the model, check the output.\n",
        "scores, embeddings, spectrogram = yamnet_model(waveform)\n",
        "class_scores = tf.reduce_mean(scores, axis=0)\n",
        "top_class = tf.math.argmax(class_scores)\n",
        "inferred_class = class_names[top_class]\n",
        "top_score = class_scores[top_class]\n",
        "print(f'[YAMNet] The main sound is: {inferred_class} ({top_score})')\n",
        "\n",
        "reloaded_results = reloaded_model(waveform)\n",
        "your_top_class = tf.math.argmax(reloaded_results)\n",
        "your_inferred_class = my_classes[your_top_class]\n",
        "class_probabilities = tf.nn.softmax(reloaded_results, axis=-1)\n",
        "your_top_score = class_probabilities[your_top_class]\n",
        "print(f'[Your model] The main sound is: {your_inferred_class} ({your_top_score})')"
      ]
    }
  ],
  "metadata": {
    "accelerator": "GPU",
    "colab": {
      "provenance": []
    },
    "kernelspec": {
      "display_name": "Python 3",
      "name": "python3"
    }
  },
  "nbformat": 4,
  "nbformat_minor": 0
}